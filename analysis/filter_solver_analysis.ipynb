{
 "cells": [
  {
   "cell_type": "code",
   "execution_count": 1,
   "metadata": {},
   "outputs": [],
   "source": [
    "import pandas as pd\n",
    "import numpy as np\n",
    "import matplotlib.pyplot as plt\n",
    "import plotly.express as px\n",
    "\n",
    "from wordleanalysis.wordle_game import Wordle, WordleInfinite\n",
    "from wordleanalysis.solvers.FilterSolver import FilterSolver"
   ]
  },
  {
   "cell_type": "code",
   "execution_count": 2,
   "metadata": {},
   "outputs": [],
   "source": [
    "words = pd.read_csv(\"../datasets/words_with_scores.csv\")"
   ]
  },
  {
   "cell_type": "code",
   "execution_count": 3,
   "metadata": {},
   "outputs": [
    {
     "data": {
      "text/html": [
       "<div>\n",
       "<style scoped>\n",
       "    .dataframe tbody tr th:only-of-type {\n",
       "        vertical-align: middle;\n",
       "    }\n",
       "\n",
       "    .dataframe tbody tr th {\n",
       "        vertical-align: top;\n",
       "    }\n",
       "\n",
       "    .dataframe thead th {\n",
       "        text-align: right;\n",
       "    }\n",
       "</style>\n",
       "<table border=\"1\" class=\"dataframe\">\n",
       "  <thead>\n",
       "    <tr style=\"text-align: right;\">\n",
       "      <th></th>\n",
       "      <th>words</th>\n",
       "      <th>letter_1</th>\n",
       "      <th>letter_2</th>\n",
       "      <th>letter_3</th>\n",
       "      <th>letter_4</th>\n",
       "      <th>letter_5</th>\n",
       "      <th>letter_1_positional_score</th>\n",
       "      <th>letter_1_general_score</th>\n",
       "      <th>letter_2_positional_score</th>\n",
       "      <th>letter_2_general_score</th>\n",
       "      <th>letter_3_positional_score</th>\n",
       "      <th>letter_3_general_score</th>\n",
       "      <th>letter_4_positional_score</th>\n",
       "      <th>letter_4_general_score</th>\n",
       "      <th>letter_5_positional_score</th>\n",
       "      <th>letter_5_general_score</th>\n",
       "      <th>total_positional_letter_scores</th>\n",
       "      <th>total_general_letter_scores</th>\n",
       "    </tr>\n",
       "  </thead>\n",
       "  <tbody>\n",
       "    <tr>\n",
       "      <th>0</th>\n",
       "      <td>enzym</td>\n",
       "      <td>e</td>\n",
       "      <td>n</td>\n",
       "      <td>z</td>\n",
       "      <td>y</td>\n",
       "      <td>m</td>\n",
       "      <td>330</td>\n",
       "      <td>7455</td>\n",
       "      <td>388</td>\n",
       "      <td>3478</td>\n",
       "      <td>165</td>\n",
       "      <td>503</td>\n",
       "      <td>124</td>\n",
       "      <td>2400</td>\n",
       "      <td>227</td>\n",
       "      <td>2414</td>\n",
       "      <td>1234</td>\n",
       "      <td>16250</td>\n",
       "    </tr>\n",
       "    <tr>\n",
       "      <th>1</th>\n",
       "      <td>ethyl</td>\n",
       "      <td>e</td>\n",
       "      <td>t</td>\n",
       "      <td>h</td>\n",
       "      <td>y</td>\n",
       "      <td>l</td>\n",
       "      <td>330</td>\n",
       "      <td>7455</td>\n",
       "      <td>256</td>\n",
       "      <td>3707</td>\n",
       "      <td>146</td>\n",
       "      <td>1993</td>\n",
       "      <td>124</td>\n",
       "      <td>2400</td>\n",
       "      <td>539</td>\n",
       "      <td>3780</td>\n",
       "      <td>1395</td>\n",
       "      <td>19335</td>\n",
       "    </tr>\n",
       "    <tr>\n",
       "      <th>2</th>\n",
       "      <td>othyl</td>\n",
       "      <td>o</td>\n",
       "      <td>t</td>\n",
       "      <td>h</td>\n",
       "      <td>y</td>\n",
       "      <td>l</td>\n",
       "      <td>352</td>\n",
       "      <td>5212</td>\n",
       "      <td>256</td>\n",
       "      <td>3707</td>\n",
       "      <td>146</td>\n",
       "      <td>1993</td>\n",
       "      <td>124</td>\n",
       "      <td>2400</td>\n",
       "      <td>539</td>\n",
       "      <td>3780</td>\n",
       "      <td>1417</td>\n",
       "      <td>17092</td>\n",
       "    </tr>\n",
       "    <tr>\n",
       "      <th>3</th>\n",
       "      <td>ewhow</td>\n",
       "      <td>e</td>\n",
       "      <td>w</td>\n",
       "      <td>h</td>\n",
       "      <td>o</td>\n",
       "      <td>w</td>\n",
       "      <td>330</td>\n",
       "      <td>7455</td>\n",
       "      <td>177</td>\n",
       "      <td>1127</td>\n",
       "      <td>146</td>\n",
       "      <td>1993</td>\n",
       "      <td>827</td>\n",
       "      <td>5212</td>\n",
       "      <td>68</td>\n",
       "      <td>1127</td>\n",
       "      <td>1548</td>\n",
       "      <td>16914</td>\n",
       "    </tr>\n",
       "    <tr>\n",
       "      <th>4</th>\n",
       "      <td>udyog</td>\n",
       "      <td>u</td>\n",
       "      <td>d</td>\n",
       "      <td>y</td>\n",
       "      <td>o</td>\n",
       "      <td>g</td>\n",
       "      <td>217</td>\n",
       "      <td>2927</td>\n",
       "      <td>108</td>\n",
       "      <td>2735</td>\n",
       "      <td>246</td>\n",
       "      <td>2400</td>\n",
       "      <td>827</td>\n",
       "      <td>5212</td>\n",
       "      <td>171</td>\n",
       "      <td>1864</td>\n",
       "      <td>1569</td>\n",
       "      <td>15138</td>\n",
       "    </tr>\n",
       "    <tr>\n",
       "      <th>...</th>\n",
       "      <td>...</td>\n",
       "      <td>...</td>\n",
       "      <td>...</td>\n",
       "      <td>...</td>\n",
       "      <td>...</td>\n",
       "      <td>...</td>\n",
       "      <td>...</td>\n",
       "      <td>...</td>\n",
       "      <td>...</td>\n",
       "      <td>...</td>\n",
       "      <td>...</td>\n",
       "      <td>...</td>\n",
       "      <td>...</td>\n",
       "      <td>...</td>\n",
       "      <td>...</td>\n",
       "      <td>...</td>\n",
       "      <td>...</td>\n",
       "      <td>...</td>\n",
       "    </tr>\n",
       "    <tr>\n",
       "      <th>14850</th>\n",
       "      <td>pares</td>\n",
       "      <td>p</td>\n",
       "      <td>a</td>\n",
       "      <td>r</td>\n",
       "      <td>e</td>\n",
       "      <td>s</td>\n",
       "      <td>1130</td>\n",
       "      <td>2436</td>\n",
       "      <td>2682</td>\n",
       "      <td>7128</td>\n",
       "      <td>1354</td>\n",
       "      <td>4714</td>\n",
       "      <td>2531</td>\n",
       "      <td>7455</td>\n",
       "      <td>4339</td>\n",
       "      <td>7319</td>\n",
       "      <td>12036</td>\n",
       "      <td>29052</td>\n",
       "    </tr>\n",
       "    <tr>\n",
       "      <th>14851</th>\n",
       "      <td>sones</td>\n",
       "      <td>s</td>\n",
       "      <td>o</td>\n",
       "      <td>n</td>\n",
       "      <td>e</td>\n",
       "      <td>s</td>\n",
       "      <td>1666</td>\n",
       "      <td>7319</td>\n",
       "      <td>2414</td>\n",
       "      <td>5212</td>\n",
       "      <td>1119</td>\n",
       "      <td>3478</td>\n",
       "      <td>2531</td>\n",
       "      <td>7455</td>\n",
       "      <td>4339</td>\n",
       "      <td>7319</td>\n",
       "      <td>12069</td>\n",
       "      <td>30783</td>\n",
       "    </tr>\n",
       "    <tr>\n",
       "      <th>14852</th>\n",
       "      <td>sales</td>\n",
       "      <td>s</td>\n",
       "      <td>a</td>\n",
       "      <td>l</td>\n",
       "      <td>e</td>\n",
       "      <td>s</td>\n",
       "      <td>1666</td>\n",
       "      <td>7319</td>\n",
       "      <td>2682</td>\n",
       "      <td>7128</td>\n",
       "      <td>973</td>\n",
       "      <td>3780</td>\n",
       "      <td>2531</td>\n",
       "      <td>7455</td>\n",
       "      <td>4339</td>\n",
       "      <td>7319</td>\n",
       "      <td>12191</td>\n",
       "      <td>33001</td>\n",
       "    </tr>\n",
       "    <tr>\n",
       "      <th>14853</th>\n",
       "      <td>sores</td>\n",
       "      <td>s</td>\n",
       "      <td>o</td>\n",
       "      <td>r</td>\n",
       "      <td>e</td>\n",
       "      <td>s</td>\n",
       "      <td>1666</td>\n",
       "      <td>7319</td>\n",
       "      <td>2414</td>\n",
       "      <td>5212</td>\n",
       "      <td>1354</td>\n",
       "      <td>4714</td>\n",
       "      <td>2531</td>\n",
       "      <td>7455</td>\n",
       "      <td>4339</td>\n",
       "      <td>7319</td>\n",
       "      <td>12304</td>\n",
       "      <td>32019</td>\n",
       "    </tr>\n",
       "    <tr>\n",
       "      <th>14854</th>\n",
       "      <td>sanes</td>\n",
       "      <td>s</td>\n",
       "      <td>a</td>\n",
       "      <td>n</td>\n",
       "      <td>e</td>\n",
       "      <td>s</td>\n",
       "      <td>1666</td>\n",
       "      <td>7319</td>\n",
       "      <td>2682</td>\n",
       "      <td>7128</td>\n",
       "      <td>1119</td>\n",
       "      <td>3478</td>\n",
       "      <td>2531</td>\n",
       "      <td>7455</td>\n",
       "      <td>4339</td>\n",
       "      <td>7319</td>\n",
       "      <td>12337</td>\n",
       "      <td>32699</td>\n",
       "    </tr>\n",
       "  </tbody>\n",
       "</table>\n",
       "<p>14855 rows × 18 columns</p>\n",
       "</div>"
      ],
      "text/plain": [
       "       words letter_1 letter_2 letter_3 letter_4 letter_5  \\\n",
       "0      enzym        e        n        z        y        m   \n",
       "1      ethyl        e        t        h        y        l   \n",
       "2      othyl        o        t        h        y        l   \n",
       "3      ewhow        e        w        h        o        w   \n",
       "4      udyog        u        d        y        o        g   \n",
       "...      ...      ...      ...      ...      ...      ...   \n",
       "14850  pares        p        a        r        e        s   \n",
       "14851  sones        s        o        n        e        s   \n",
       "14852  sales        s        a        l        e        s   \n",
       "14853  sores        s        o        r        e        s   \n",
       "14854  sanes        s        a        n        e        s   \n",
       "\n",
       "       letter_1_positional_score  letter_1_general_score  \\\n",
       "0                            330                    7455   \n",
       "1                            330                    7455   \n",
       "2                            352                    5212   \n",
       "3                            330                    7455   \n",
       "4                            217                    2927   \n",
       "...                          ...                     ...   \n",
       "14850                       1130                    2436   \n",
       "14851                       1666                    7319   \n",
       "14852                       1666                    7319   \n",
       "14853                       1666                    7319   \n",
       "14854                       1666                    7319   \n",
       "\n",
       "       letter_2_positional_score  letter_2_general_score  \\\n",
       "0                            388                    3478   \n",
       "1                            256                    3707   \n",
       "2                            256                    3707   \n",
       "3                            177                    1127   \n",
       "4                            108                    2735   \n",
       "...                          ...                     ...   \n",
       "14850                       2682                    7128   \n",
       "14851                       2414                    5212   \n",
       "14852                       2682                    7128   \n",
       "14853                       2414                    5212   \n",
       "14854                       2682                    7128   \n",
       "\n",
       "       letter_3_positional_score  letter_3_general_score  \\\n",
       "0                            165                     503   \n",
       "1                            146                    1993   \n",
       "2                            146                    1993   \n",
       "3                            146                    1993   \n",
       "4                            246                    2400   \n",
       "...                          ...                     ...   \n",
       "14850                       1354                    4714   \n",
       "14851                       1119                    3478   \n",
       "14852                        973                    3780   \n",
       "14853                       1354                    4714   \n",
       "14854                       1119                    3478   \n",
       "\n",
       "       letter_4_positional_score  letter_4_general_score  \\\n",
       "0                            124                    2400   \n",
       "1                            124                    2400   \n",
       "2                            124                    2400   \n",
       "3                            827                    5212   \n",
       "4                            827                    5212   \n",
       "...                          ...                     ...   \n",
       "14850                       2531                    7455   \n",
       "14851                       2531                    7455   \n",
       "14852                       2531                    7455   \n",
       "14853                       2531                    7455   \n",
       "14854                       2531                    7455   \n",
       "\n",
       "       letter_5_positional_score  letter_5_general_score  \\\n",
       "0                            227                    2414   \n",
       "1                            539                    3780   \n",
       "2                            539                    3780   \n",
       "3                             68                    1127   \n",
       "4                            171                    1864   \n",
       "...                          ...                     ...   \n",
       "14850                       4339                    7319   \n",
       "14851                       4339                    7319   \n",
       "14852                       4339                    7319   \n",
       "14853                       4339                    7319   \n",
       "14854                       4339                    7319   \n",
       "\n",
       "       total_positional_letter_scores  total_general_letter_scores  \n",
       "0                                1234                        16250  \n",
       "1                                1395                        19335  \n",
       "2                                1417                        17092  \n",
       "3                                1548                        16914  \n",
       "4                                1569                        15138  \n",
       "...                               ...                          ...  \n",
       "14850                           12036                        29052  \n",
       "14851                           12069                        30783  \n",
       "14852                           12191                        33001  \n",
       "14853                           12304                        32019  \n",
       "14854                           12337                        32699  \n",
       "\n",
       "[14855 rows x 18 columns]"
      ]
     },
     "execution_count": 3,
     "metadata": {},
     "output_type": "execute_result"
    }
   ],
   "source": [
    "words"
   ]
  },
  {
   "cell_type": "code",
   "execution_count": 4,
   "metadata": {},
   "outputs": [],
   "source": [
    "letter_cols = ['letter_1', 'letter_2', 'letter_3', 'letter_4', 'letter_5']"
   ]
  },
  {
   "cell_type": "code",
   "execution_count": 5,
   "metadata": {},
   "outputs": [],
   "source": [
    "def get_number_of_guesses_using_letter_score_strategy(target_words:pd.Series, filter_order_words:pd.DataFrame, game_count=None):\n",
    "    # max_guesses = 6\n",
    "\n",
    "    wordle = WordleInfinite()\n",
    "    num_guesses = []\n",
    "\n",
    "    letter_masks = FilterSolver.calculate_letter_masks(filter_order_words, letter_cols)\n",
    "\n",
    "    if game_count is None:\n",
    "        game_count = target_words.shape[0]\n",
    "\n",
    "    for word_index in range(game_count):\n",
    "        wordle.create_new_game(target_words.iloc[word_index])\n",
    "\n",
    "        filter_solver = FilterSolver(filter_order_words[\"words\"], letter_masks)\n",
    "\n",
    "        game_details = filter_solver.attempt_solve(wordle)\n",
    "\n",
    "        num_guesses.append(game_details.number_guesses)\n",
    "\n",
    "    return pd.Series(num_guesses)"
   ]
  },
  {
   "cell_type": "code",
   "execution_count": 16,
   "metadata": {},
   "outputs": [],
   "source": [
    "np.random.seed(10)\n",
    "target_words = words[\"words\"].sample(frac=1)"
   ]
  },
  {
   "cell_type": "code",
   "execution_count": 17,
   "metadata": {},
   "outputs": [
    {
     "data": {
      "text/plain": [
       "590      azoic\n",
       "8505     roomy\n",
       "5893     fitly\n",
       "14535    wages\n",
       "7533     sozin\n",
       "         ...  \n",
       "11633    mixis\n",
       "1344     wagyu\n",
       "12815    minos\n",
       "7293     corso\n",
       "1289     light\n",
       "Name: words, Length: 14855, dtype: object"
      ]
     },
     "execution_count": 17,
     "metadata": {},
     "output_type": "execute_result"
    }
   ],
   "source": [
    "target_words"
   ]
  },
  {
   "cell_type": "code",
   "execution_count": 18,
   "metadata": {},
   "outputs": [],
   "source": [
    "np.random.seed(25)\n",
    "random_order = get_number_of_guesses_using_letter_score_strategy(target_words, words.sample(frac=1))"
   ]
  },
  {
   "cell_type": "code",
   "execution_count": 19,
   "metadata": {},
   "outputs": [
    {
     "data": {
      "text/plain": [
       " 5    3952\n",
       " 4    3787\n",
       "-1    2645\n",
       " 6    2598\n",
       " 3    1679\n",
       " 2     193\n",
       " 1       1\n",
       "Name: count, dtype: int64"
      ]
     },
     "execution_count": 19,
     "metadata": {},
     "output_type": "execute_result"
    }
   ],
   "source": [
    "random_order.value_counts()"
   ]
  },
  {
   "cell_type": "code",
   "execution_count": 20,
   "metadata": {},
   "outputs": [],
   "source": [
    "pos_score_ascending = get_number_of_guesses_using_letter_score_strategy(target_words, words.sort_values(\"total_positional_letter_scores\"))\n",
    "pos_score_descending = get_number_of_guesses_using_letter_score_strategy(target_words, words.sort_values(\"total_positional_letter_scores\", ascending=False))"
   ]
  },
  {
   "cell_type": "code",
   "execution_count": 21,
   "metadata": {},
   "outputs": [],
   "source": [
    "gen_score_ascending = get_number_of_guesses_using_letter_score_strategy(target_words, words.sort_values([\"total_general_letter_scores\", \"total_positional_letter_scores\"]))\n",
    "gen_score_descending = get_number_of_guesses_using_letter_score_strategy(target_words, words.sort_values([\"total_general_letter_scores\", \"total_positional_letter_scores\"], ascending=False))"
   ]
  },
  {
   "cell_type": "code",
   "execution_count": 39,
   "metadata": {},
   "outputs": [],
   "source": [
    "def get_counts_df(guesses_required, type_val):\n",
    "    guesses_required_count = guesses_required.value_counts()\n",
    "    guesses_required_count = guesses_required_count.reset_index()\n",
    "    guesses_required_count.columns = [\"number_guesses\", \"occurance_count\"]\n",
    "    guesses_required_count[\"ordering_type\"] = type_val\n",
    "    return guesses_required_count"
   ]
  },
  {
   "cell_type": "code",
   "execution_count": 65,
   "metadata": {},
   "outputs": [],
   "source": [
    "random_order_counts = get_counts_df(random_order, \"Random Ordering Of Words\")\n",
    "pos_score_ascending_counts = get_counts_df(pos_score_ascending, \"Positional Score Ascending\")\n",
    "pos_score_descending_counts = get_counts_df(pos_score_descending, \"Positional Score Descending\")\n",
    "gen_score_ascending_counts = get_counts_df(gen_score_ascending, \"Total Score Ascending\")\n",
    "gen_score_descending_counts = get_counts_df(gen_score_descending, \"Total Score Descending\")\n",
    "\n",
    "guess_required = pd.concat([random_order_counts, pos_score_ascending_counts, pos_score_descending_counts, gen_score_ascending_counts, gen_score_descending_counts])"
   ]
  },
  {
   "cell_type": "code",
   "execution_count": 66,
   "metadata": {},
   "outputs": [],
   "source": [
    "guess_required.loc[guess_required[\"number_guesses\"] == -1, \"number_guesses\"] = 7"
   ]
  },
  {
   "cell_type": "code",
   "execution_count": 91,
   "metadata": {},
   "outputs": [],
   "source": [
    "guess_required.sort_values([\"ordering_type\", \"number_guesses\"], inplace=True)\n",
    "guess_required[\"occurance_count_sum\"] = guess_required.groupby(\"ordering_type\", observed=False)[\"occurance_count\"].cumsum()\n",
    "\n",
    "sorter_categories = [\"Random Ordering Of Words\", \"Positional Score Ascending\", \"Positional Score Descending\", \"Total Score Ascending\", \"Total Score Descending\"]\n",
    "guess_required[\"ordering_type\"] = pd.Categorical(guess_required[\"ordering_type\"], sorter_categories)\n",
    "guess_required.sort_values([\"ordering_type\", \"number_guesses\"], inplace=True)"
   ]
  },
  {
   "cell_type": "code",
   "execution_count": 92,
   "metadata": {},
   "outputs": [],
   "source": [
    "guess_required[\"occurance_percent\"] = (guess_required[\"occurance_count\"] / len(words) * 100).round(2)\n",
    "guess_required[\"occurance_percent_sum\"] = (guess_required[\"occurance_count_sum\"] / len(words) * 100).round(2)"
   ]
  },
  {
   "cell_type": "code",
   "execution_count": 93,
   "metadata": {},
   "outputs": [
    {
     "data": {
      "text/html": [
       "<div>\n",
       "<style scoped>\n",
       "    .dataframe tbody tr th:only-of-type {\n",
       "        vertical-align: middle;\n",
       "    }\n",
       "\n",
       "    .dataframe tbody tr th {\n",
       "        vertical-align: top;\n",
       "    }\n",
       "\n",
       "    .dataframe thead th {\n",
       "        text-align: right;\n",
       "    }\n",
       "</style>\n",
       "<table border=\"1\" class=\"dataframe\">\n",
       "  <thead>\n",
       "    <tr style=\"text-align: right;\">\n",
       "      <th></th>\n",
       "      <th>number_guesses</th>\n",
       "      <th>occurance_count</th>\n",
       "      <th>ordering_type</th>\n",
       "      <th>occurance_count_sum</th>\n",
       "      <th>occurance_percent</th>\n",
       "      <th>occurance_percent_sum</th>\n",
       "    </tr>\n",
       "  </thead>\n",
       "  <tbody>\n",
       "    <tr>\n",
       "      <th>6</th>\n",
       "      <td>1</td>\n",
       "      <td>1</td>\n",
       "      <td>Random Ordering Of Words</td>\n",
       "      <td>1</td>\n",
       "      <td>0.01</td>\n",
       "      <td>0.01</td>\n",
       "    </tr>\n",
       "    <tr>\n",
       "      <th>5</th>\n",
       "      <td>2</td>\n",
       "      <td>193</td>\n",
       "      <td>Random Ordering Of Words</td>\n",
       "      <td>194</td>\n",
       "      <td>1.30</td>\n",
       "      <td>1.31</td>\n",
       "    </tr>\n",
       "    <tr>\n",
       "      <th>4</th>\n",
       "      <td>3</td>\n",
       "      <td>1679</td>\n",
       "      <td>Random Ordering Of Words</td>\n",
       "      <td>1873</td>\n",
       "      <td>11.30</td>\n",
       "      <td>12.61</td>\n",
       "    </tr>\n",
       "    <tr>\n",
       "      <th>1</th>\n",
       "      <td>4</td>\n",
       "      <td>3787</td>\n",
       "      <td>Random Ordering Of Words</td>\n",
       "      <td>5660</td>\n",
       "      <td>25.49</td>\n",
       "      <td>38.10</td>\n",
       "    </tr>\n",
       "    <tr>\n",
       "      <th>0</th>\n",
       "      <td>5</td>\n",
       "      <td>3952</td>\n",
       "      <td>Random Ordering Of Words</td>\n",
       "      <td>9612</td>\n",
       "      <td>26.60</td>\n",
       "      <td>64.71</td>\n",
       "    </tr>\n",
       "    <tr>\n",
       "      <th>3</th>\n",
       "      <td>6</td>\n",
       "      <td>2598</td>\n",
       "      <td>Random Ordering Of Words</td>\n",
       "      <td>12210</td>\n",
       "      <td>17.49</td>\n",
       "      <td>82.19</td>\n",
       "    </tr>\n",
       "    <tr>\n",
       "      <th>2</th>\n",
       "      <td>7</td>\n",
       "      <td>2645</td>\n",
       "      <td>Random Ordering Of Words</td>\n",
       "      <td>14855</td>\n",
       "      <td>17.81</td>\n",
       "      <td>100.00</td>\n",
       "    </tr>\n",
       "    <tr>\n",
       "      <th>6</th>\n",
       "      <td>1</td>\n",
       "      <td>1</td>\n",
       "      <td>Positional Score Ascending</td>\n",
       "      <td>1</td>\n",
       "      <td>0.01</td>\n",
       "      <td>0.01</td>\n",
       "    </tr>\n",
       "    <tr>\n",
       "      <th>5</th>\n",
       "      <td>2</td>\n",
       "      <td>84</td>\n",
       "      <td>Positional Score Ascending</td>\n",
       "      <td>85</td>\n",
       "      <td>0.57</td>\n",
       "      <td>0.57</td>\n",
       "    </tr>\n",
       "    <tr>\n",
       "      <th>4</th>\n",
       "      <td>3</td>\n",
       "      <td>720</td>\n",
       "      <td>Positional Score Ascending</td>\n",
       "      <td>805</td>\n",
       "      <td>4.85</td>\n",
       "      <td>5.42</td>\n",
       "    </tr>\n",
       "    <tr>\n",
       "      <th>3</th>\n",
       "      <td>4</td>\n",
       "      <td>2351</td>\n",
       "      <td>Positional Score Ascending</td>\n",
       "      <td>3156</td>\n",
       "      <td>15.83</td>\n",
       "      <td>21.25</td>\n",
       "    </tr>\n",
       "    <tr>\n",
       "      <th>1</th>\n",
       "      <td>5</td>\n",
       "      <td>3879</td>\n",
       "      <td>Positional Score Ascending</td>\n",
       "      <td>7035</td>\n",
       "      <td>26.11</td>\n",
       "      <td>47.36</td>\n",
       "    </tr>\n",
       "    <tr>\n",
       "      <th>2</th>\n",
       "      <td>6</td>\n",
       "      <td>3824</td>\n",
       "      <td>Positional Score Ascending</td>\n",
       "      <td>10859</td>\n",
       "      <td>25.74</td>\n",
       "      <td>73.10</td>\n",
       "    </tr>\n",
       "    <tr>\n",
       "      <th>0</th>\n",
       "      <td>7</td>\n",
       "      <td>3996</td>\n",
       "      <td>Positional Score Ascending</td>\n",
       "      <td>14855</td>\n",
       "      <td>26.90</td>\n",
       "      <td>100.00</td>\n",
       "    </tr>\n",
       "    <tr>\n",
       "      <th>6</th>\n",
       "      <td>1</td>\n",
       "      <td>1</td>\n",
       "      <td>Positional Score Descending</td>\n",
       "      <td>1</td>\n",
       "      <td>0.01</td>\n",
       "      <td>0.01</td>\n",
       "    </tr>\n",
       "    <tr>\n",
       "      <th>5</th>\n",
       "      <td>2</td>\n",
       "      <td>159</td>\n",
       "      <td>Positional Score Descending</td>\n",
       "      <td>160</td>\n",
       "      <td>1.07</td>\n",
       "      <td>1.08</td>\n",
       "    </tr>\n",
       "    <tr>\n",
       "      <th>4</th>\n",
       "      <td>3</td>\n",
       "      <td>1598</td>\n",
       "      <td>Positional Score Descending</td>\n",
       "      <td>1758</td>\n",
       "      <td>10.76</td>\n",
       "      <td>11.83</td>\n",
       "    </tr>\n",
       "    <tr>\n",
       "      <th>0</th>\n",
       "      <td>4</td>\n",
       "      <td>4126</td>\n",
       "      <td>Positional Score Descending</td>\n",
       "      <td>5884</td>\n",
       "      <td>27.78</td>\n",
       "      <td>39.61</td>\n",
       "    </tr>\n",
       "    <tr>\n",
       "      <th>1</th>\n",
       "      <td>5</td>\n",
       "      <td>4039</td>\n",
       "      <td>Positional Score Descending</td>\n",
       "      <td>9923</td>\n",
       "      <td>27.19</td>\n",
       "      <td>66.80</td>\n",
       "    </tr>\n",
       "    <tr>\n",
       "      <th>3</th>\n",
       "      <td>6</td>\n",
       "      <td>2444</td>\n",
       "      <td>Positional Score Descending</td>\n",
       "      <td>12367</td>\n",
       "      <td>16.45</td>\n",
       "      <td>83.25</td>\n",
       "    </tr>\n",
       "    <tr>\n",
       "      <th>2</th>\n",
       "      <td>7</td>\n",
       "      <td>2488</td>\n",
       "      <td>Positional Score Descending</td>\n",
       "      <td>14855</td>\n",
       "      <td>16.75</td>\n",
       "      <td>100.00</td>\n",
       "    </tr>\n",
       "    <tr>\n",
       "      <th>6</th>\n",
       "      <td>1</td>\n",
       "      <td>1</td>\n",
       "      <td>Total Score Ascending</td>\n",
       "      <td>1</td>\n",
       "      <td>0.01</td>\n",
       "      <td>0.01</td>\n",
       "    </tr>\n",
       "    <tr>\n",
       "      <th>5</th>\n",
       "      <td>2</td>\n",
       "      <td>65</td>\n",
       "      <td>Total Score Ascending</td>\n",
       "      <td>66</td>\n",
       "      <td>0.44</td>\n",
       "      <td>0.44</td>\n",
       "    </tr>\n",
       "    <tr>\n",
       "      <th>4</th>\n",
       "      <td>3</td>\n",
       "      <td>472</td>\n",
       "      <td>Total Score Ascending</td>\n",
       "      <td>538</td>\n",
       "      <td>3.18</td>\n",
       "      <td>3.62</td>\n",
       "    </tr>\n",
       "    <tr>\n",
       "      <th>3</th>\n",
       "      <td>4</td>\n",
       "      <td>1580</td>\n",
       "      <td>Total Score Ascending</td>\n",
       "      <td>2118</td>\n",
       "      <td>10.64</td>\n",
       "      <td>14.26</td>\n",
       "    </tr>\n",
       "    <tr>\n",
       "      <th>2</th>\n",
       "      <td>5</td>\n",
       "      <td>3137</td>\n",
       "      <td>Total Score Ascending</td>\n",
       "      <td>5255</td>\n",
       "      <td>21.12</td>\n",
       "      <td>35.38</td>\n",
       "    </tr>\n",
       "    <tr>\n",
       "      <th>1</th>\n",
       "      <td>6</td>\n",
       "      <td>3979</td>\n",
       "      <td>Total Score Ascending</td>\n",
       "      <td>9234</td>\n",
       "      <td>26.79</td>\n",
       "      <td>62.16</td>\n",
       "    </tr>\n",
       "    <tr>\n",
       "      <th>0</th>\n",
       "      <td>7</td>\n",
       "      <td>5621</td>\n",
       "      <td>Total Score Ascending</td>\n",
       "      <td>14855</td>\n",
       "      <td>37.84</td>\n",
       "      <td>100.00</td>\n",
       "    </tr>\n",
       "    <tr>\n",
       "      <th>6</th>\n",
       "      <td>1</td>\n",
       "      <td>1</td>\n",
       "      <td>Total Score Descending</td>\n",
       "      <td>1</td>\n",
       "      <td>0.01</td>\n",
       "      <td>0.01</td>\n",
       "    </tr>\n",
       "    <tr>\n",
       "      <th>5</th>\n",
       "      <td>2</td>\n",
       "      <td>72</td>\n",
       "      <td>Total Score Descending</td>\n",
       "      <td>73</td>\n",
       "      <td>0.48</td>\n",
       "      <td>0.49</td>\n",
       "    </tr>\n",
       "    <tr>\n",
       "      <th>4</th>\n",
       "      <td>3</td>\n",
       "      <td>620</td>\n",
       "      <td>Total Score Descending</td>\n",
       "      <td>693</td>\n",
       "      <td>4.17</td>\n",
       "      <td>4.67</td>\n",
       "    </tr>\n",
       "    <tr>\n",
       "      <th>3</th>\n",
       "      <td>4</td>\n",
       "      <td>2204</td>\n",
       "      <td>Total Score Descending</td>\n",
       "      <td>2897</td>\n",
       "      <td>14.84</td>\n",
       "      <td>19.50</td>\n",
       "    </tr>\n",
       "    <tr>\n",
       "      <th>1</th>\n",
       "      <td>5</td>\n",
       "      <td>3682</td>\n",
       "      <td>Total Score Descending</td>\n",
       "      <td>6579</td>\n",
       "      <td>24.79</td>\n",
       "      <td>44.29</td>\n",
       "    </tr>\n",
       "    <tr>\n",
       "      <th>2</th>\n",
       "      <td>6</td>\n",
       "      <td>3330</td>\n",
       "      <td>Total Score Descending</td>\n",
       "      <td>9909</td>\n",
       "      <td>22.42</td>\n",
       "      <td>66.70</td>\n",
       "    </tr>\n",
       "    <tr>\n",
       "      <th>0</th>\n",
       "      <td>7</td>\n",
       "      <td>4946</td>\n",
       "      <td>Total Score Descending</td>\n",
       "      <td>14855</td>\n",
       "      <td>33.30</td>\n",
       "      <td>100.00</td>\n",
       "    </tr>\n",
       "  </tbody>\n",
       "</table>\n",
       "</div>"
      ],
      "text/plain": [
       "   number_guesses  occurance_count                ordering_type  \\\n",
       "6               1                1     Random Ordering Of Words   \n",
       "5               2              193     Random Ordering Of Words   \n",
       "4               3             1679     Random Ordering Of Words   \n",
       "1               4             3787     Random Ordering Of Words   \n",
       "0               5             3952     Random Ordering Of Words   \n",
       "3               6             2598     Random Ordering Of Words   \n",
       "2               7             2645     Random Ordering Of Words   \n",
       "6               1                1   Positional Score Ascending   \n",
       "5               2               84   Positional Score Ascending   \n",
       "4               3              720   Positional Score Ascending   \n",
       "3               4             2351   Positional Score Ascending   \n",
       "1               5             3879   Positional Score Ascending   \n",
       "2               6             3824   Positional Score Ascending   \n",
       "0               7             3996   Positional Score Ascending   \n",
       "6               1                1  Positional Score Descending   \n",
       "5               2              159  Positional Score Descending   \n",
       "4               3             1598  Positional Score Descending   \n",
       "0               4             4126  Positional Score Descending   \n",
       "1               5             4039  Positional Score Descending   \n",
       "3               6             2444  Positional Score Descending   \n",
       "2               7             2488  Positional Score Descending   \n",
       "6               1                1        Total Score Ascending   \n",
       "5               2               65        Total Score Ascending   \n",
       "4               3              472        Total Score Ascending   \n",
       "3               4             1580        Total Score Ascending   \n",
       "2               5             3137        Total Score Ascending   \n",
       "1               6             3979        Total Score Ascending   \n",
       "0               7             5621        Total Score Ascending   \n",
       "6               1                1       Total Score Descending   \n",
       "5               2               72       Total Score Descending   \n",
       "4               3              620       Total Score Descending   \n",
       "3               4             2204       Total Score Descending   \n",
       "1               5             3682       Total Score Descending   \n",
       "2               6             3330       Total Score Descending   \n",
       "0               7             4946       Total Score Descending   \n",
       "\n",
       "   occurance_count_sum  occurance_percent  occurance_percent_sum  \n",
       "6                    1               0.01                   0.01  \n",
       "5                  194               1.30                   1.31  \n",
       "4                 1873              11.30                  12.61  \n",
       "1                 5660              25.49                  38.10  \n",
       "0                 9612              26.60                  64.71  \n",
       "3                12210              17.49                  82.19  \n",
       "2                14855              17.81                 100.00  \n",
       "6                    1               0.01                   0.01  \n",
       "5                   85               0.57                   0.57  \n",
       "4                  805               4.85                   5.42  \n",
       "3                 3156              15.83                  21.25  \n",
       "1                 7035              26.11                  47.36  \n",
       "2                10859              25.74                  73.10  \n",
       "0                14855              26.90                 100.00  \n",
       "6                    1               0.01                   0.01  \n",
       "5                  160               1.07                   1.08  \n",
       "4                 1758              10.76                  11.83  \n",
       "0                 5884              27.78                  39.61  \n",
       "1                 9923              27.19                  66.80  \n",
       "3                12367              16.45                  83.25  \n",
       "2                14855              16.75                 100.00  \n",
       "6                    1               0.01                   0.01  \n",
       "5                   66               0.44                   0.44  \n",
       "4                  538               3.18                   3.62  \n",
       "3                 2118              10.64                  14.26  \n",
       "2                 5255              21.12                  35.38  \n",
       "1                 9234              26.79                  62.16  \n",
       "0                14855              37.84                 100.00  \n",
       "6                    1               0.01                   0.01  \n",
       "5                   73               0.48                   0.49  \n",
       "4                  693               4.17                   4.67  \n",
       "3                 2897              14.84                  19.50  \n",
       "1                 6579              24.79                  44.29  \n",
       "2                 9909              22.42                  66.70  \n",
       "0                14855              33.30                 100.00  "
      ]
     },
     "execution_count": 93,
     "metadata": {},
     "output_type": "execute_result"
    }
   ],
   "source": [
    "guess_required"
   ]
  },
  {
   "cell_type": "code",
   "execution_count": 94,
   "metadata": {},
   "outputs": [
    {
     "name": "stderr",
     "output_type": "stream",
     "text": [
      "c:\\Users\\rdugg\\miniconda3\\envs\\wordle\\Lib\\site-packages\\plotly\\express\\_core.py:1958: FutureWarning:\n",
      "\n",
      "The default of observed=False is deprecated and will be changed to True in a future version of pandas. Pass observed=False to retain current behavior or observed=True to adopt the future default and silence this warning.\n",
      "\n"
     ]
    },
    {
     "data": {
      "application/vnd.plotly.v1+json": {
       "config": {
        "plotlyServerURL": "https://plot.ly"
       },
       "data": [
        {
         "alignmentgroup": "True",
         "hovertemplate": "ordering_type=Random Ordering Of Words<br>number_guesses=%{x}<br>occurance_count=%{y}<extra></extra>",
         "legendgroup": "Random Ordering Of Words",
         "marker": {
          "color": "#636efa",
          "pattern": {
           "shape": ""
          }
         },
         "name": "Random Ordering Of Words",
         "offsetgroup": "Random Ordering Of Words",
         "orientation": "v",
         "showlegend": true,
         "textposition": "auto",
         "type": "bar",
         "x": [
          1,
          2,
          3,
          4,
          5,
          6,
          7
         ],
         "xaxis": "x",
         "y": [
          1,
          193,
          1679,
          3787,
          3952,
          2598,
          2645
         ],
         "yaxis": "y"
        },
        {
         "alignmentgroup": "True",
         "hovertemplate": "ordering_type=Positional Score Ascending<br>number_guesses=%{x}<br>occurance_count=%{y}<extra></extra>",
         "legendgroup": "Positional Score Ascending",
         "marker": {
          "color": "#EF553B",
          "pattern": {
           "shape": ""
          }
         },
         "name": "Positional Score Ascending",
         "offsetgroup": "Positional Score Ascending",
         "orientation": "v",
         "showlegend": true,
         "textposition": "auto",
         "type": "bar",
         "x": [
          1,
          2,
          3,
          4,
          5,
          6,
          7
         ],
         "xaxis": "x",
         "y": [
          1,
          84,
          720,
          2351,
          3879,
          3824,
          3996
         ],
         "yaxis": "y"
        },
        {
         "alignmentgroup": "True",
         "hovertemplate": "ordering_type=Positional Score Descending<br>number_guesses=%{x}<br>occurance_count=%{y}<extra></extra>",
         "legendgroup": "Positional Score Descending",
         "marker": {
          "color": "#00cc96",
          "pattern": {
           "shape": ""
          }
         },
         "name": "Positional Score Descending",
         "offsetgroup": "Positional Score Descending",
         "orientation": "v",
         "showlegend": true,
         "textposition": "auto",
         "type": "bar",
         "x": [
          1,
          2,
          3,
          4,
          5,
          6,
          7
         ],
         "xaxis": "x",
         "y": [
          1,
          159,
          1598,
          4126,
          4039,
          2444,
          2488
         ],
         "yaxis": "y"
        },
        {
         "alignmentgroup": "True",
         "hovertemplate": "ordering_type=Total Score Ascending<br>number_guesses=%{x}<br>occurance_count=%{y}<extra></extra>",
         "legendgroup": "Total Score Ascending",
         "marker": {
          "color": "#ab63fa",
          "pattern": {
           "shape": ""
          }
         },
         "name": "Total Score Ascending",
         "offsetgroup": "Total Score Ascending",
         "orientation": "v",
         "showlegend": true,
         "textposition": "auto",
         "type": "bar",
         "x": [
          1,
          2,
          3,
          4,
          5,
          6,
          7
         ],
         "xaxis": "x",
         "y": [
          1,
          65,
          472,
          1580,
          3137,
          3979,
          5621
         ],
         "yaxis": "y"
        },
        {
         "alignmentgroup": "True",
         "hovertemplate": "ordering_type=Total Score Descending<br>number_guesses=%{x}<br>occurance_count=%{y}<extra></extra>",
         "legendgroup": "Total Score Descending",
         "marker": {
          "color": "#FFA15A",
          "pattern": {
           "shape": ""
          }
         },
         "name": "Total Score Descending",
         "offsetgroup": "Total Score Descending",
         "orientation": "v",
         "showlegend": true,
         "textposition": "auto",
         "type": "bar",
         "x": [
          1,
          2,
          3,
          4,
          5,
          6,
          7
         ],
         "xaxis": "x",
         "y": [
          1,
          72,
          620,
          2204,
          3682,
          3330,
          4946
         ],
         "yaxis": "y"
        }
       ],
       "layout": {
        "barmode": "group",
        "legend": {
         "title": {
          "text": "ordering_type"
         },
         "tracegroupgap": 0
        },
        "margin": {
         "t": 60
        },
        "template": {
         "data": {
          "bar": [
           {
            "error_x": {
             "color": "#2a3f5f"
            },
            "error_y": {
             "color": "#2a3f5f"
            },
            "marker": {
             "line": {
              "color": "#E5ECF6",
              "width": 0.5
             },
             "pattern": {
              "fillmode": "overlay",
              "size": 10,
              "solidity": 0.2
             }
            },
            "type": "bar"
           }
          ],
          "barpolar": [
           {
            "marker": {
             "line": {
              "color": "#E5ECF6",
              "width": 0.5
             },
             "pattern": {
              "fillmode": "overlay",
              "size": 10,
              "solidity": 0.2
             }
            },
            "type": "barpolar"
           }
          ],
          "carpet": [
           {
            "aaxis": {
             "endlinecolor": "#2a3f5f",
             "gridcolor": "white",
             "linecolor": "white",
             "minorgridcolor": "white",
             "startlinecolor": "#2a3f5f"
            },
            "baxis": {
             "endlinecolor": "#2a3f5f",
             "gridcolor": "white",
             "linecolor": "white",
             "minorgridcolor": "white",
             "startlinecolor": "#2a3f5f"
            },
            "type": "carpet"
           }
          ],
          "choropleth": [
           {
            "colorbar": {
             "outlinewidth": 0,
             "ticks": ""
            },
            "type": "choropleth"
           }
          ],
          "contour": [
           {
            "colorbar": {
             "outlinewidth": 0,
             "ticks": ""
            },
            "colorscale": [
             [
              0,
              "#0d0887"
             ],
             [
              0.1111111111111111,
              "#46039f"
             ],
             [
              0.2222222222222222,
              "#7201a8"
             ],
             [
              0.3333333333333333,
              "#9c179e"
             ],
             [
              0.4444444444444444,
              "#bd3786"
             ],
             [
              0.5555555555555556,
              "#d8576b"
             ],
             [
              0.6666666666666666,
              "#ed7953"
             ],
             [
              0.7777777777777778,
              "#fb9f3a"
             ],
             [
              0.8888888888888888,
              "#fdca26"
             ],
             [
              1,
              "#f0f921"
             ]
            ],
            "type": "contour"
           }
          ],
          "contourcarpet": [
           {
            "colorbar": {
             "outlinewidth": 0,
             "ticks": ""
            },
            "type": "contourcarpet"
           }
          ],
          "heatmap": [
           {
            "colorbar": {
             "outlinewidth": 0,
             "ticks": ""
            },
            "colorscale": [
             [
              0,
              "#0d0887"
             ],
             [
              0.1111111111111111,
              "#46039f"
             ],
             [
              0.2222222222222222,
              "#7201a8"
             ],
             [
              0.3333333333333333,
              "#9c179e"
             ],
             [
              0.4444444444444444,
              "#bd3786"
             ],
             [
              0.5555555555555556,
              "#d8576b"
             ],
             [
              0.6666666666666666,
              "#ed7953"
             ],
             [
              0.7777777777777778,
              "#fb9f3a"
             ],
             [
              0.8888888888888888,
              "#fdca26"
             ],
             [
              1,
              "#f0f921"
             ]
            ],
            "type": "heatmap"
           }
          ],
          "heatmapgl": [
           {
            "colorbar": {
             "outlinewidth": 0,
             "ticks": ""
            },
            "colorscale": [
             [
              0,
              "#0d0887"
             ],
             [
              0.1111111111111111,
              "#46039f"
             ],
             [
              0.2222222222222222,
              "#7201a8"
             ],
             [
              0.3333333333333333,
              "#9c179e"
             ],
             [
              0.4444444444444444,
              "#bd3786"
             ],
             [
              0.5555555555555556,
              "#d8576b"
             ],
             [
              0.6666666666666666,
              "#ed7953"
             ],
             [
              0.7777777777777778,
              "#fb9f3a"
             ],
             [
              0.8888888888888888,
              "#fdca26"
             ],
             [
              1,
              "#f0f921"
             ]
            ],
            "type": "heatmapgl"
           }
          ],
          "histogram": [
           {
            "marker": {
             "pattern": {
              "fillmode": "overlay",
              "size": 10,
              "solidity": 0.2
             }
            },
            "type": "histogram"
           }
          ],
          "histogram2d": [
           {
            "colorbar": {
             "outlinewidth": 0,
             "ticks": ""
            },
            "colorscale": [
             [
              0,
              "#0d0887"
             ],
             [
              0.1111111111111111,
              "#46039f"
             ],
             [
              0.2222222222222222,
              "#7201a8"
             ],
             [
              0.3333333333333333,
              "#9c179e"
             ],
             [
              0.4444444444444444,
              "#bd3786"
             ],
             [
              0.5555555555555556,
              "#d8576b"
             ],
             [
              0.6666666666666666,
              "#ed7953"
             ],
             [
              0.7777777777777778,
              "#fb9f3a"
             ],
             [
              0.8888888888888888,
              "#fdca26"
             ],
             [
              1,
              "#f0f921"
             ]
            ],
            "type": "histogram2d"
           }
          ],
          "histogram2dcontour": [
           {
            "colorbar": {
             "outlinewidth": 0,
             "ticks": ""
            },
            "colorscale": [
             [
              0,
              "#0d0887"
             ],
             [
              0.1111111111111111,
              "#46039f"
             ],
             [
              0.2222222222222222,
              "#7201a8"
             ],
             [
              0.3333333333333333,
              "#9c179e"
             ],
             [
              0.4444444444444444,
              "#bd3786"
             ],
             [
              0.5555555555555556,
              "#d8576b"
             ],
             [
              0.6666666666666666,
              "#ed7953"
             ],
             [
              0.7777777777777778,
              "#fb9f3a"
             ],
             [
              0.8888888888888888,
              "#fdca26"
             ],
             [
              1,
              "#f0f921"
             ]
            ],
            "type": "histogram2dcontour"
           }
          ],
          "mesh3d": [
           {
            "colorbar": {
             "outlinewidth": 0,
             "ticks": ""
            },
            "type": "mesh3d"
           }
          ],
          "parcoords": [
           {
            "line": {
             "colorbar": {
              "outlinewidth": 0,
              "ticks": ""
             }
            },
            "type": "parcoords"
           }
          ],
          "pie": [
           {
            "automargin": true,
            "type": "pie"
           }
          ],
          "scatter": [
           {
            "fillpattern": {
             "fillmode": "overlay",
             "size": 10,
             "solidity": 0.2
            },
            "type": "scatter"
           }
          ],
          "scatter3d": [
           {
            "line": {
             "colorbar": {
              "outlinewidth": 0,
              "ticks": ""
             }
            },
            "marker": {
             "colorbar": {
              "outlinewidth": 0,
              "ticks": ""
             }
            },
            "type": "scatter3d"
           }
          ],
          "scattercarpet": [
           {
            "marker": {
             "colorbar": {
              "outlinewidth": 0,
              "ticks": ""
             }
            },
            "type": "scattercarpet"
           }
          ],
          "scattergeo": [
           {
            "marker": {
             "colorbar": {
              "outlinewidth": 0,
              "ticks": ""
             }
            },
            "type": "scattergeo"
           }
          ],
          "scattergl": [
           {
            "marker": {
             "colorbar": {
              "outlinewidth": 0,
              "ticks": ""
             }
            },
            "type": "scattergl"
           }
          ],
          "scattermapbox": [
           {
            "marker": {
             "colorbar": {
              "outlinewidth": 0,
              "ticks": ""
             }
            },
            "type": "scattermapbox"
           }
          ],
          "scatterpolar": [
           {
            "marker": {
             "colorbar": {
              "outlinewidth": 0,
              "ticks": ""
             }
            },
            "type": "scatterpolar"
           }
          ],
          "scatterpolargl": [
           {
            "marker": {
             "colorbar": {
              "outlinewidth": 0,
              "ticks": ""
             }
            },
            "type": "scatterpolargl"
           }
          ],
          "scatterternary": [
           {
            "marker": {
             "colorbar": {
              "outlinewidth": 0,
              "ticks": ""
             }
            },
            "type": "scatterternary"
           }
          ],
          "surface": [
           {
            "colorbar": {
             "outlinewidth": 0,
             "ticks": ""
            },
            "colorscale": [
             [
              0,
              "#0d0887"
             ],
             [
              0.1111111111111111,
              "#46039f"
             ],
             [
              0.2222222222222222,
              "#7201a8"
             ],
             [
              0.3333333333333333,
              "#9c179e"
             ],
             [
              0.4444444444444444,
              "#bd3786"
             ],
             [
              0.5555555555555556,
              "#d8576b"
             ],
             [
              0.6666666666666666,
              "#ed7953"
             ],
             [
              0.7777777777777778,
              "#fb9f3a"
             ],
             [
              0.8888888888888888,
              "#fdca26"
             ],
             [
              1,
              "#f0f921"
             ]
            ],
            "type": "surface"
           }
          ],
          "table": [
           {
            "cells": {
             "fill": {
              "color": "#EBF0F8"
             },
             "line": {
              "color": "white"
             }
            },
            "header": {
             "fill": {
              "color": "#C8D4E3"
             },
             "line": {
              "color": "white"
             }
            },
            "type": "table"
           }
          ]
         },
         "layout": {
          "annotationdefaults": {
           "arrowcolor": "#2a3f5f",
           "arrowhead": 0,
           "arrowwidth": 1
          },
          "autotypenumbers": "strict",
          "coloraxis": {
           "colorbar": {
            "outlinewidth": 0,
            "ticks": ""
           }
          },
          "colorscale": {
           "diverging": [
            [
             0,
             "#8e0152"
            ],
            [
             0.1,
             "#c51b7d"
            ],
            [
             0.2,
             "#de77ae"
            ],
            [
             0.3,
             "#f1b6da"
            ],
            [
             0.4,
             "#fde0ef"
            ],
            [
             0.5,
             "#f7f7f7"
            ],
            [
             0.6,
             "#e6f5d0"
            ],
            [
             0.7,
             "#b8e186"
            ],
            [
             0.8,
             "#7fbc41"
            ],
            [
             0.9,
             "#4d9221"
            ],
            [
             1,
             "#276419"
            ]
           ],
           "sequential": [
            [
             0,
             "#0d0887"
            ],
            [
             0.1111111111111111,
             "#46039f"
            ],
            [
             0.2222222222222222,
             "#7201a8"
            ],
            [
             0.3333333333333333,
             "#9c179e"
            ],
            [
             0.4444444444444444,
             "#bd3786"
            ],
            [
             0.5555555555555556,
             "#d8576b"
            ],
            [
             0.6666666666666666,
             "#ed7953"
            ],
            [
             0.7777777777777778,
             "#fb9f3a"
            ],
            [
             0.8888888888888888,
             "#fdca26"
            ],
            [
             1,
             "#f0f921"
            ]
           ],
           "sequentialminus": [
            [
             0,
             "#0d0887"
            ],
            [
             0.1111111111111111,
             "#46039f"
            ],
            [
             0.2222222222222222,
             "#7201a8"
            ],
            [
             0.3333333333333333,
             "#9c179e"
            ],
            [
             0.4444444444444444,
             "#bd3786"
            ],
            [
             0.5555555555555556,
             "#d8576b"
            ],
            [
             0.6666666666666666,
             "#ed7953"
            ],
            [
             0.7777777777777778,
             "#fb9f3a"
            ],
            [
             0.8888888888888888,
             "#fdca26"
            ],
            [
             1,
             "#f0f921"
            ]
           ]
          },
          "colorway": [
           "#636efa",
           "#EF553B",
           "#00cc96",
           "#ab63fa",
           "#FFA15A",
           "#19d3f3",
           "#FF6692",
           "#B6E880",
           "#FF97FF",
           "#FECB52"
          ],
          "font": {
           "color": "#2a3f5f"
          },
          "geo": {
           "bgcolor": "white",
           "lakecolor": "white",
           "landcolor": "#E5ECF6",
           "showlakes": true,
           "showland": true,
           "subunitcolor": "white"
          },
          "hoverlabel": {
           "align": "left"
          },
          "hovermode": "closest",
          "mapbox": {
           "style": "light"
          },
          "paper_bgcolor": "white",
          "plot_bgcolor": "#E5ECF6",
          "polar": {
           "angularaxis": {
            "gridcolor": "white",
            "linecolor": "white",
            "ticks": ""
           },
           "bgcolor": "#E5ECF6",
           "radialaxis": {
            "gridcolor": "white",
            "linecolor": "white",
            "ticks": ""
           }
          },
          "scene": {
           "xaxis": {
            "backgroundcolor": "#E5ECF6",
            "gridcolor": "white",
            "gridwidth": 2,
            "linecolor": "white",
            "showbackground": true,
            "ticks": "",
            "zerolinecolor": "white"
           },
           "yaxis": {
            "backgroundcolor": "#E5ECF6",
            "gridcolor": "white",
            "gridwidth": 2,
            "linecolor": "white",
            "showbackground": true,
            "ticks": "",
            "zerolinecolor": "white"
           },
           "zaxis": {
            "backgroundcolor": "#E5ECF6",
            "gridcolor": "white",
            "gridwidth": 2,
            "linecolor": "white",
            "showbackground": true,
            "ticks": "",
            "zerolinecolor": "white"
           }
          },
          "shapedefaults": {
           "line": {
            "color": "#2a3f5f"
           }
          },
          "ternary": {
           "aaxis": {
            "gridcolor": "white",
            "linecolor": "white",
            "ticks": ""
           },
           "baxis": {
            "gridcolor": "white",
            "linecolor": "white",
            "ticks": ""
           },
           "bgcolor": "#E5ECF6",
           "caxis": {
            "gridcolor": "white",
            "linecolor": "white",
            "ticks": ""
           }
          },
          "title": {
           "x": 0.05
          },
          "xaxis": {
           "automargin": true,
           "gridcolor": "white",
           "linecolor": "white",
           "ticks": "",
           "title": {
            "standoff": 15
           },
           "zerolinecolor": "white",
           "zerolinewidth": 2
          },
          "yaxis": {
           "automargin": true,
           "gridcolor": "white",
           "linecolor": "white",
           "ticks": "",
           "title": {
            "standoff": 15
           },
           "zerolinecolor": "white",
           "zerolinewidth": 2
          }
         }
        },
        "xaxis": {
         "anchor": "y",
         "domain": [
          0,
          1
         ],
         "title": {
          "text": "number_guesses"
         }
        },
        "yaxis": {
         "anchor": "x",
         "domain": [
          0,
          1
         ],
         "title": {
          "text": "occurance_count"
         }
        }
       }
      }
     },
     "metadata": {},
     "output_type": "display_data"
    }
   ],
   "source": [
    "px.bar(guess_required, x=\"number_guesses\", y=\"occurance_count\", color=\"ordering_type\", barmode=\"group\")"
   ]
  },
  {
   "cell_type": "code",
   "execution_count": 95,
   "metadata": {},
   "outputs": [
    {
     "name": "stderr",
     "output_type": "stream",
     "text": [
      "c:\\Users\\rdugg\\miniconda3\\envs\\wordle\\Lib\\site-packages\\plotly\\express\\_core.py:1958: FutureWarning:\n",
      "\n",
      "The default of observed=False is deprecated and will be changed to True in a future version of pandas. Pass observed=False to retain current behavior or observed=True to adopt the future default and silence this warning.\n",
      "\n"
     ]
    },
    {
     "data": {
      "application/vnd.plotly.v1+json": {
       "config": {
        "plotlyServerURL": "https://plot.ly"
       },
       "data": [
        {
         "hovertemplate": "ordering_type=Random Ordering Of Words<br>number_guesses=%{x}<br>occurance_percent_sum=%{y}<extra></extra>",
         "legendgroup": "Random Ordering Of Words",
         "line": {
          "color": "#636efa",
          "dash": "solid"
         },
         "marker": {
          "symbol": "circle"
         },
         "mode": "markers+lines",
         "name": "Random Ordering Of Words",
         "orientation": "v",
         "showlegend": true,
         "type": "scatter",
         "x": [
          1,
          2,
          3,
          4,
          5,
          6,
          7
         ],
         "xaxis": "x",
         "y": [
          0.01,
          1.31,
          12.61,
          38.1,
          64.71,
          82.19,
          100
         ],
         "yaxis": "y"
        },
        {
         "hovertemplate": "ordering_type=Positional Score Ascending<br>number_guesses=%{x}<br>occurance_percent_sum=%{y}<extra></extra>",
         "legendgroup": "Positional Score Ascending",
         "line": {
          "color": "#EF553B",
          "dash": "solid"
         },
         "marker": {
          "symbol": "circle"
         },
         "mode": "markers+lines",
         "name": "Positional Score Ascending",
         "orientation": "v",
         "showlegend": true,
         "type": "scatter",
         "x": [
          1,
          2,
          3,
          4,
          5,
          6,
          7
         ],
         "xaxis": "x",
         "y": [
          0.01,
          0.57,
          5.42,
          21.25,
          47.36,
          73.1,
          100
         ],
         "yaxis": "y"
        },
        {
         "hovertemplate": "ordering_type=Positional Score Descending<br>number_guesses=%{x}<br>occurance_percent_sum=%{y}<extra></extra>",
         "legendgroup": "Positional Score Descending",
         "line": {
          "color": "#00cc96",
          "dash": "solid"
         },
         "marker": {
          "symbol": "circle"
         },
         "mode": "markers+lines",
         "name": "Positional Score Descending",
         "orientation": "v",
         "showlegend": true,
         "type": "scatter",
         "x": [
          1,
          2,
          3,
          4,
          5,
          6,
          7
         ],
         "xaxis": "x",
         "y": [
          0.01,
          1.08,
          11.83,
          39.61,
          66.8,
          83.25,
          100
         ],
         "yaxis": "y"
        },
        {
         "hovertemplate": "ordering_type=Total Score Ascending<br>number_guesses=%{x}<br>occurance_percent_sum=%{y}<extra></extra>",
         "legendgroup": "Total Score Ascending",
         "line": {
          "color": "#ab63fa",
          "dash": "solid"
         },
         "marker": {
          "symbol": "circle"
         },
         "mode": "markers+lines",
         "name": "Total Score Ascending",
         "orientation": "v",
         "showlegend": true,
         "type": "scatter",
         "x": [
          1,
          2,
          3,
          4,
          5,
          6,
          7
         ],
         "xaxis": "x",
         "y": [
          0.01,
          0.44,
          3.62,
          14.26,
          35.38,
          62.16,
          100
         ],
         "yaxis": "y"
        },
        {
         "hovertemplate": "ordering_type=Total Score Descending<br>number_guesses=%{x}<br>occurance_percent_sum=%{y}<extra></extra>",
         "legendgroup": "Total Score Descending",
         "line": {
          "color": "#FFA15A",
          "dash": "solid"
         },
         "marker": {
          "symbol": "circle"
         },
         "mode": "markers+lines",
         "name": "Total Score Descending",
         "orientation": "v",
         "showlegend": true,
         "type": "scatter",
         "x": [
          1,
          2,
          3,
          4,
          5,
          6,
          7
         ],
         "xaxis": "x",
         "y": [
          0.01,
          0.49,
          4.67,
          19.5,
          44.29,
          66.7,
          100
         ],
         "yaxis": "y"
        }
       ],
       "layout": {
        "legend": {
         "title": {
          "text": "ordering_type"
         },
         "tracegroupgap": 0
        },
        "margin": {
         "t": 60
        },
        "template": {
         "data": {
          "bar": [
           {
            "error_x": {
             "color": "#2a3f5f"
            },
            "error_y": {
             "color": "#2a3f5f"
            },
            "marker": {
             "line": {
              "color": "#E5ECF6",
              "width": 0.5
             },
             "pattern": {
              "fillmode": "overlay",
              "size": 10,
              "solidity": 0.2
             }
            },
            "type": "bar"
           }
          ],
          "barpolar": [
           {
            "marker": {
             "line": {
              "color": "#E5ECF6",
              "width": 0.5
             },
             "pattern": {
              "fillmode": "overlay",
              "size": 10,
              "solidity": 0.2
             }
            },
            "type": "barpolar"
           }
          ],
          "carpet": [
           {
            "aaxis": {
             "endlinecolor": "#2a3f5f",
             "gridcolor": "white",
             "linecolor": "white",
             "minorgridcolor": "white",
             "startlinecolor": "#2a3f5f"
            },
            "baxis": {
             "endlinecolor": "#2a3f5f",
             "gridcolor": "white",
             "linecolor": "white",
             "minorgridcolor": "white",
             "startlinecolor": "#2a3f5f"
            },
            "type": "carpet"
           }
          ],
          "choropleth": [
           {
            "colorbar": {
             "outlinewidth": 0,
             "ticks": ""
            },
            "type": "choropleth"
           }
          ],
          "contour": [
           {
            "colorbar": {
             "outlinewidth": 0,
             "ticks": ""
            },
            "colorscale": [
             [
              0,
              "#0d0887"
             ],
             [
              0.1111111111111111,
              "#46039f"
             ],
             [
              0.2222222222222222,
              "#7201a8"
             ],
             [
              0.3333333333333333,
              "#9c179e"
             ],
             [
              0.4444444444444444,
              "#bd3786"
             ],
             [
              0.5555555555555556,
              "#d8576b"
             ],
             [
              0.6666666666666666,
              "#ed7953"
             ],
             [
              0.7777777777777778,
              "#fb9f3a"
             ],
             [
              0.8888888888888888,
              "#fdca26"
             ],
             [
              1,
              "#f0f921"
             ]
            ],
            "type": "contour"
           }
          ],
          "contourcarpet": [
           {
            "colorbar": {
             "outlinewidth": 0,
             "ticks": ""
            },
            "type": "contourcarpet"
           }
          ],
          "heatmap": [
           {
            "colorbar": {
             "outlinewidth": 0,
             "ticks": ""
            },
            "colorscale": [
             [
              0,
              "#0d0887"
             ],
             [
              0.1111111111111111,
              "#46039f"
             ],
             [
              0.2222222222222222,
              "#7201a8"
             ],
             [
              0.3333333333333333,
              "#9c179e"
             ],
             [
              0.4444444444444444,
              "#bd3786"
             ],
             [
              0.5555555555555556,
              "#d8576b"
             ],
             [
              0.6666666666666666,
              "#ed7953"
             ],
             [
              0.7777777777777778,
              "#fb9f3a"
             ],
             [
              0.8888888888888888,
              "#fdca26"
             ],
             [
              1,
              "#f0f921"
             ]
            ],
            "type": "heatmap"
           }
          ],
          "heatmapgl": [
           {
            "colorbar": {
             "outlinewidth": 0,
             "ticks": ""
            },
            "colorscale": [
             [
              0,
              "#0d0887"
             ],
             [
              0.1111111111111111,
              "#46039f"
             ],
             [
              0.2222222222222222,
              "#7201a8"
             ],
             [
              0.3333333333333333,
              "#9c179e"
             ],
             [
              0.4444444444444444,
              "#bd3786"
             ],
             [
              0.5555555555555556,
              "#d8576b"
             ],
             [
              0.6666666666666666,
              "#ed7953"
             ],
             [
              0.7777777777777778,
              "#fb9f3a"
             ],
             [
              0.8888888888888888,
              "#fdca26"
             ],
             [
              1,
              "#f0f921"
             ]
            ],
            "type": "heatmapgl"
           }
          ],
          "histogram": [
           {
            "marker": {
             "pattern": {
              "fillmode": "overlay",
              "size": 10,
              "solidity": 0.2
             }
            },
            "type": "histogram"
           }
          ],
          "histogram2d": [
           {
            "colorbar": {
             "outlinewidth": 0,
             "ticks": ""
            },
            "colorscale": [
             [
              0,
              "#0d0887"
             ],
             [
              0.1111111111111111,
              "#46039f"
             ],
             [
              0.2222222222222222,
              "#7201a8"
             ],
             [
              0.3333333333333333,
              "#9c179e"
             ],
             [
              0.4444444444444444,
              "#bd3786"
             ],
             [
              0.5555555555555556,
              "#d8576b"
             ],
             [
              0.6666666666666666,
              "#ed7953"
             ],
             [
              0.7777777777777778,
              "#fb9f3a"
             ],
             [
              0.8888888888888888,
              "#fdca26"
             ],
             [
              1,
              "#f0f921"
             ]
            ],
            "type": "histogram2d"
           }
          ],
          "histogram2dcontour": [
           {
            "colorbar": {
             "outlinewidth": 0,
             "ticks": ""
            },
            "colorscale": [
             [
              0,
              "#0d0887"
             ],
             [
              0.1111111111111111,
              "#46039f"
             ],
             [
              0.2222222222222222,
              "#7201a8"
             ],
             [
              0.3333333333333333,
              "#9c179e"
             ],
             [
              0.4444444444444444,
              "#bd3786"
             ],
             [
              0.5555555555555556,
              "#d8576b"
             ],
             [
              0.6666666666666666,
              "#ed7953"
             ],
             [
              0.7777777777777778,
              "#fb9f3a"
             ],
             [
              0.8888888888888888,
              "#fdca26"
             ],
             [
              1,
              "#f0f921"
             ]
            ],
            "type": "histogram2dcontour"
           }
          ],
          "mesh3d": [
           {
            "colorbar": {
             "outlinewidth": 0,
             "ticks": ""
            },
            "type": "mesh3d"
           }
          ],
          "parcoords": [
           {
            "line": {
             "colorbar": {
              "outlinewidth": 0,
              "ticks": ""
             }
            },
            "type": "parcoords"
           }
          ],
          "pie": [
           {
            "automargin": true,
            "type": "pie"
           }
          ],
          "scatter": [
           {
            "fillpattern": {
             "fillmode": "overlay",
             "size": 10,
             "solidity": 0.2
            },
            "type": "scatter"
           }
          ],
          "scatter3d": [
           {
            "line": {
             "colorbar": {
              "outlinewidth": 0,
              "ticks": ""
             }
            },
            "marker": {
             "colorbar": {
              "outlinewidth": 0,
              "ticks": ""
             }
            },
            "type": "scatter3d"
           }
          ],
          "scattercarpet": [
           {
            "marker": {
             "colorbar": {
              "outlinewidth": 0,
              "ticks": ""
             }
            },
            "type": "scattercarpet"
           }
          ],
          "scattergeo": [
           {
            "marker": {
             "colorbar": {
              "outlinewidth": 0,
              "ticks": ""
             }
            },
            "type": "scattergeo"
           }
          ],
          "scattergl": [
           {
            "marker": {
             "colorbar": {
              "outlinewidth": 0,
              "ticks": ""
             }
            },
            "type": "scattergl"
           }
          ],
          "scattermapbox": [
           {
            "marker": {
             "colorbar": {
              "outlinewidth": 0,
              "ticks": ""
             }
            },
            "type": "scattermapbox"
           }
          ],
          "scatterpolar": [
           {
            "marker": {
             "colorbar": {
              "outlinewidth": 0,
              "ticks": ""
             }
            },
            "type": "scatterpolar"
           }
          ],
          "scatterpolargl": [
           {
            "marker": {
             "colorbar": {
              "outlinewidth": 0,
              "ticks": ""
             }
            },
            "type": "scatterpolargl"
           }
          ],
          "scatterternary": [
           {
            "marker": {
             "colorbar": {
              "outlinewidth": 0,
              "ticks": ""
             }
            },
            "type": "scatterternary"
           }
          ],
          "surface": [
           {
            "colorbar": {
             "outlinewidth": 0,
             "ticks": ""
            },
            "colorscale": [
             [
              0,
              "#0d0887"
             ],
             [
              0.1111111111111111,
              "#46039f"
             ],
             [
              0.2222222222222222,
              "#7201a8"
             ],
             [
              0.3333333333333333,
              "#9c179e"
             ],
             [
              0.4444444444444444,
              "#bd3786"
             ],
             [
              0.5555555555555556,
              "#d8576b"
             ],
             [
              0.6666666666666666,
              "#ed7953"
             ],
             [
              0.7777777777777778,
              "#fb9f3a"
             ],
             [
              0.8888888888888888,
              "#fdca26"
             ],
             [
              1,
              "#f0f921"
             ]
            ],
            "type": "surface"
           }
          ],
          "table": [
           {
            "cells": {
             "fill": {
              "color": "#EBF0F8"
             },
             "line": {
              "color": "white"
             }
            },
            "header": {
             "fill": {
              "color": "#C8D4E3"
             },
             "line": {
              "color": "white"
             }
            },
            "type": "table"
           }
          ]
         },
         "layout": {
          "annotationdefaults": {
           "arrowcolor": "#2a3f5f",
           "arrowhead": 0,
           "arrowwidth": 1
          },
          "autotypenumbers": "strict",
          "coloraxis": {
           "colorbar": {
            "outlinewidth": 0,
            "ticks": ""
           }
          },
          "colorscale": {
           "diverging": [
            [
             0,
             "#8e0152"
            ],
            [
             0.1,
             "#c51b7d"
            ],
            [
             0.2,
             "#de77ae"
            ],
            [
             0.3,
             "#f1b6da"
            ],
            [
             0.4,
             "#fde0ef"
            ],
            [
             0.5,
             "#f7f7f7"
            ],
            [
             0.6,
             "#e6f5d0"
            ],
            [
             0.7,
             "#b8e186"
            ],
            [
             0.8,
             "#7fbc41"
            ],
            [
             0.9,
             "#4d9221"
            ],
            [
             1,
             "#276419"
            ]
           ],
           "sequential": [
            [
             0,
             "#0d0887"
            ],
            [
             0.1111111111111111,
             "#46039f"
            ],
            [
             0.2222222222222222,
             "#7201a8"
            ],
            [
             0.3333333333333333,
             "#9c179e"
            ],
            [
             0.4444444444444444,
             "#bd3786"
            ],
            [
             0.5555555555555556,
             "#d8576b"
            ],
            [
             0.6666666666666666,
             "#ed7953"
            ],
            [
             0.7777777777777778,
             "#fb9f3a"
            ],
            [
             0.8888888888888888,
             "#fdca26"
            ],
            [
             1,
             "#f0f921"
            ]
           ],
           "sequentialminus": [
            [
             0,
             "#0d0887"
            ],
            [
             0.1111111111111111,
             "#46039f"
            ],
            [
             0.2222222222222222,
             "#7201a8"
            ],
            [
             0.3333333333333333,
             "#9c179e"
            ],
            [
             0.4444444444444444,
             "#bd3786"
            ],
            [
             0.5555555555555556,
             "#d8576b"
            ],
            [
             0.6666666666666666,
             "#ed7953"
            ],
            [
             0.7777777777777778,
             "#fb9f3a"
            ],
            [
             0.8888888888888888,
             "#fdca26"
            ],
            [
             1,
             "#f0f921"
            ]
           ]
          },
          "colorway": [
           "#636efa",
           "#EF553B",
           "#00cc96",
           "#ab63fa",
           "#FFA15A",
           "#19d3f3",
           "#FF6692",
           "#B6E880",
           "#FF97FF",
           "#FECB52"
          ],
          "font": {
           "color": "#2a3f5f"
          },
          "geo": {
           "bgcolor": "white",
           "lakecolor": "white",
           "landcolor": "#E5ECF6",
           "showlakes": true,
           "showland": true,
           "subunitcolor": "white"
          },
          "hoverlabel": {
           "align": "left"
          },
          "hovermode": "closest",
          "mapbox": {
           "style": "light"
          },
          "paper_bgcolor": "white",
          "plot_bgcolor": "#E5ECF6",
          "polar": {
           "angularaxis": {
            "gridcolor": "white",
            "linecolor": "white",
            "ticks": ""
           },
           "bgcolor": "#E5ECF6",
           "radialaxis": {
            "gridcolor": "white",
            "linecolor": "white",
            "ticks": ""
           }
          },
          "scene": {
           "xaxis": {
            "backgroundcolor": "#E5ECF6",
            "gridcolor": "white",
            "gridwidth": 2,
            "linecolor": "white",
            "showbackground": true,
            "ticks": "",
            "zerolinecolor": "white"
           },
           "yaxis": {
            "backgroundcolor": "#E5ECF6",
            "gridcolor": "white",
            "gridwidth": 2,
            "linecolor": "white",
            "showbackground": true,
            "ticks": "",
            "zerolinecolor": "white"
           },
           "zaxis": {
            "backgroundcolor": "#E5ECF6",
            "gridcolor": "white",
            "gridwidth": 2,
            "linecolor": "white",
            "showbackground": true,
            "ticks": "",
            "zerolinecolor": "white"
           }
          },
          "shapedefaults": {
           "line": {
            "color": "#2a3f5f"
           }
          },
          "ternary": {
           "aaxis": {
            "gridcolor": "white",
            "linecolor": "white",
            "ticks": ""
           },
           "baxis": {
            "gridcolor": "white",
            "linecolor": "white",
            "ticks": ""
           },
           "bgcolor": "#E5ECF6",
           "caxis": {
            "gridcolor": "white",
            "linecolor": "white",
            "ticks": ""
           }
          },
          "title": {
           "x": 0.05
          },
          "xaxis": {
           "automargin": true,
           "gridcolor": "white",
           "linecolor": "white",
           "ticks": "",
           "title": {
            "standoff": 15
           },
           "zerolinecolor": "white",
           "zerolinewidth": 2
          },
          "yaxis": {
           "automargin": true,
           "gridcolor": "white",
           "linecolor": "white",
           "ticks": "",
           "title": {
            "standoff": 15
           },
           "zerolinecolor": "white",
           "zerolinewidth": 2
          }
         }
        },
        "xaxis": {
         "anchor": "y",
         "domain": [
          0,
          1
         ],
         "title": {
          "text": "number_guesses"
         }
        },
        "yaxis": {
         "anchor": "x",
         "domain": [
          0,
          1
         ],
         "title": {
          "text": "occurance_percent_sum"
         }
        }
       }
      }
     },
     "metadata": {},
     "output_type": "display_data"
    }
   ],
   "source": [
    "px.line(guess_required, x=\"number_guesses\", y=\"occurance_percent_sum\", color=\"ordering_type\", markers=\"circle\")"
   ]
  },
  {
   "cell_type": "code",
   "execution_count": null,
   "metadata": {},
   "outputs": [],
   "source": []
  }
 ],
 "metadata": {
  "kernelspec": {
   "display_name": "wordle",
   "language": "python",
   "name": "python3"
  },
  "language_info": {
   "codemirror_mode": {
    "name": "ipython",
    "version": 3
   },
   "file_extension": ".py",
   "mimetype": "text/x-python",
   "name": "python",
   "nbconvert_exporter": "python",
   "pygments_lexer": "ipython3",
   "version": "3.11.7"
  }
 },
 "nbformat": 4,
 "nbformat_minor": 2
}
