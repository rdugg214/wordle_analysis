{
 "cells": [
  {
   "cell_type": "code",
   "execution_count": 1,
   "metadata": {},
   "outputs": [],
   "source": [
    "import pandas as pd\n",
    "import numpy as np\n",
    "import matplotlib.pyplot as plt\n",
    "import plotly.express as px\n",
    "\n",
    "from wordleanalysis.wordle_game import Wordle, WordleInfinite\n",
    "from wordleanalysis.solvers.FilterSolver import FilterSolver"
   ]
  },
  {
   "cell_type": "code",
   "execution_count": 2,
   "metadata": {},
   "outputs": [],
   "source": [
    "words = pd.read_csv(\"../datasets/words_with_scores.csv\")"
   ]
  },
  {
   "cell_type": "code",
   "execution_count": 3,
   "metadata": {},
   "outputs": [
    {
     "data": {
      "text/html": [
       "<div>\n",
       "<style scoped>\n",
       "    .dataframe tbody tr th:only-of-type {\n",
       "        vertical-align: middle;\n",
       "    }\n",
       "\n",
       "    .dataframe tbody tr th {\n",
       "        vertical-align: top;\n",
       "    }\n",
       "\n",
       "    .dataframe thead th {\n",
       "        text-align: right;\n",
       "    }\n",
       "</style>\n",
       "<table border=\"1\" class=\"dataframe\">\n",
       "  <thead>\n",
       "    <tr style=\"text-align: right;\">\n",
       "      <th></th>\n",
       "      <th>words</th>\n",
       "      <th>letter_1</th>\n",
       "      <th>letter_2</th>\n",
       "      <th>letter_3</th>\n",
       "      <th>letter_4</th>\n",
       "      <th>letter_5</th>\n",
       "      <th>letter_1_positional_score</th>\n",
       "      <th>letter_1_general_score</th>\n",
       "      <th>letter_2_positional_score</th>\n",
       "      <th>letter_2_general_score</th>\n",
       "      <th>letter_3_positional_score</th>\n",
       "      <th>letter_3_general_score</th>\n",
       "      <th>letter_4_positional_score</th>\n",
       "      <th>letter_4_general_score</th>\n",
       "      <th>letter_5_positional_score</th>\n",
       "      <th>letter_5_general_score</th>\n",
       "      <th>total_positional_letter_scores</th>\n",
       "      <th>total_general_letter_scores</th>\n",
       "    </tr>\n",
       "  </thead>\n",
       "  <tbody>\n",
       "    <tr>\n",
       "      <th>0</th>\n",
       "      <td>enzym</td>\n",
       "      <td>e</td>\n",
       "      <td>n</td>\n",
       "      <td>z</td>\n",
       "      <td>y</td>\n",
       "      <td>m</td>\n",
       "      <td>330</td>\n",
       "      <td>7455</td>\n",
       "      <td>388</td>\n",
       "      <td>3478</td>\n",
       "      <td>165</td>\n",
       "      <td>503</td>\n",
       "      <td>124</td>\n",
       "      <td>2400</td>\n",
       "      <td>227</td>\n",
       "      <td>2414</td>\n",
       "      <td>1234</td>\n",
       "      <td>16250</td>\n",
       "    </tr>\n",
       "    <tr>\n",
       "      <th>1</th>\n",
       "      <td>ethyl</td>\n",
       "      <td>e</td>\n",
       "      <td>t</td>\n",
       "      <td>h</td>\n",
       "      <td>y</td>\n",
       "      <td>l</td>\n",
       "      <td>330</td>\n",
       "      <td>7455</td>\n",
       "      <td>256</td>\n",
       "      <td>3707</td>\n",
       "      <td>146</td>\n",
       "      <td>1993</td>\n",
       "      <td>124</td>\n",
       "      <td>2400</td>\n",
       "      <td>539</td>\n",
       "      <td>3780</td>\n",
       "      <td>1395</td>\n",
       "      <td>19335</td>\n",
       "    </tr>\n",
       "    <tr>\n",
       "      <th>2</th>\n",
       "      <td>othyl</td>\n",
       "      <td>o</td>\n",
       "      <td>t</td>\n",
       "      <td>h</td>\n",
       "      <td>y</td>\n",
       "      <td>l</td>\n",
       "      <td>352</td>\n",
       "      <td>5212</td>\n",
       "      <td>256</td>\n",
       "      <td>3707</td>\n",
       "      <td>146</td>\n",
       "      <td>1993</td>\n",
       "      <td>124</td>\n",
       "      <td>2400</td>\n",
       "      <td>539</td>\n",
       "      <td>3780</td>\n",
       "      <td>1417</td>\n",
       "      <td>17092</td>\n",
       "    </tr>\n",
       "    <tr>\n",
       "      <th>3</th>\n",
       "      <td>ewhow</td>\n",
       "      <td>e</td>\n",
       "      <td>w</td>\n",
       "      <td>h</td>\n",
       "      <td>o</td>\n",
       "      <td>w</td>\n",
       "      <td>330</td>\n",
       "      <td>7455</td>\n",
       "      <td>177</td>\n",
       "      <td>1127</td>\n",
       "      <td>146</td>\n",
       "      <td>1993</td>\n",
       "      <td>827</td>\n",
       "      <td>5212</td>\n",
       "      <td>68</td>\n",
       "      <td>1127</td>\n",
       "      <td>1548</td>\n",
       "      <td>16914</td>\n",
       "    </tr>\n",
       "    <tr>\n",
       "      <th>4</th>\n",
       "      <td>udyog</td>\n",
       "      <td>u</td>\n",
       "      <td>d</td>\n",
       "      <td>y</td>\n",
       "      <td>o</td>\n",
       "      <td>g</td>\n",
       "      <td>217</td>\n",
       "      <td>2927</td>\n",
       "      <td>108</td>\n",
       "      <td>2735</td>\n",
       "      <td>246</td>\n",
       "      <td>2400</td>\n",
       "      <td>827</td>\n",
       "      <td>5212</td>\n",
       "      <td>171</td>\n",
       "      <td>1864</td>\n",
       "      <td>1569</td>\n",
       "      <td>15138</td>\n",
       "    </tr>\n",
       "    <tr>\n",
       "      <th>...</th>\n",
       "      <td>...</td>\n",
       "      <td>...</td>\n",
       "      <td>...</td>\n",
       "      <td>...</td>\n",
       "      <td>...</td>\n",
       "      <td>...</td>\n",
       "      <td>...</td>\n",
       "      <td>...</td>\n",
       "      <td>...</td>\n",
       "      <td>...</td>\n",
       "      <td>...</td>\n",
       "      <td>...</td>\n",
       "      <td>...</td>\n",
       "      <td>...</td>\n",
       "      <td>...</td>\n",
       "      <td>...</td>\n",
       "      <td>...</td>\n",
       "      <td>...</td>\n",
       "    </tr>\n",
       "    <tr>\n",
       "      <th>14850</th>\n",
       "      <td>pares</td>\n",
       "      <td>p</td>\n",
       "      <td>a</td>\n",
       "      <td>r</td>\n",
       "      <td>e</td>\n",
       "      <td>s</td>\n",
       "      <td>1130</td>\n",
       "      <td>2436</td>\n",
       "      <td>2682</td>\n",
       "      <td>7128</td>\n",
       "      <td>1354</td>\n",
       "      <td>4714</td>\n",
       "      <td>2531</td>\n",
       "      <td>7455</td>\n",
       "      <td>4339</td>\n",
       "      <td>7319</td>\n",
       "      <td>12036</td>\n",
       "      <td>29052</td>\n",
       "    </tr>\n",
       "    <tr>\n",
       "      <th>14851</th>\n",
       "      <td>sones</td>\n",
       "      <td>s</td>\n",
       "      <td>o</td>\n",
       "      <td>n</td>\n",
       "      <td>e</td>\n",
       "      <td>s</td>\n",
       "      <td>1666</td>\n",
       "      <td>7319</td>\n",
       "      <td>2414</td>\n",
       "      <td>5212</td>\n",
       "      <td>1119</td>\n",
       "      <td>3478</td>\n",
       "      <td>2531</td>\n",
       "      <td>7455</td>\n",
       "      <td>4339</td>\n",
       "      <td>7319</td>\n",
       "      <td>12069</td>\n",
       "      <td>30783</td>\n",
       "    </tr>\n",
       "    <tr>\n",
       "      <th>14852</th>\n",
       "      <td>sales</td>\n",
       "      <td>s</td>\n",
       "      <td>a</td>\n",
       "      <td>l</td>\n",
       "      <td>e</td>\n",
       "      <td>s</td>\n",
       "      <td>1666</td>\n",
       "      <td>7319</td>\n",
       "      <td>2682</td>\n",
       "      <td>7128</td>\n",
       "      <td>973</td>\n",
       "      <td>3780</td>\n",
       "      <td>2531</td>\n",
       "      <td>7455</td>\n",
       "      <td>4339</td>\n",
       "      <td>7319</td>\n",
       "      <td>12191</td>\n",
       "      <td>33001</td>\n",
       "    </tr>\n",
       "    <tr>\n",
       "      <th>14853</th>\n",
       "      <td>sores</td>\n",
       "      <td>s</td>\n",
       "      <td>o</td>\n",
       "      <td>r</td>\n",
       "      <td>e</td>\n",
       "      <td>s</td>\n",
       "      <td>1666</td>\n",
       "      <td>7319</td>\n",
       "      <td>2414</td>\n",
       "      <td>5212</td>\n",
       "      <td>1354</td>\n",
       "      <td>4714</td>\n",
       "      <td>2531</td>\n",
       "      <td>7455</td>\n",
       "      <td>4339</td>\n",
       "      <td>7319</td>\n",
       "      <td>12304</td>\n",
       "      <td>32019</td>\n",
       "    </tr>\n",
       "    <tr>\n",
       "      <th>14854</th>\n",
       "      <td>sanes</td>\n",
       "      <td>s</td>\n",
       "      <td>a</td>\n",
       "      <td>n</td>\n",
       "      <td>e</td>\n",
       "      <td>s</td>\n",
       "      <td>1666</td>\n",
       "      <td>7319</td>\n",
       "      <td>2682</td>\n",
       "      <td>7128</td>\n",
       "      <td>1119</td>\n",
       "      <td>3478</td>\n",
       "      <td>2531</td>\n",
       "      <td>7455</td>\n",
       "      <td>4339</td>\n",
       "      <td>7319</td>\n",
       "      <td>12337</td>\n",
       "      <td>32699</td>\n",
       "    </tr>\n",
       "  </tbody>\n",
       "</table>\n",
       "<p>14855 rows × 18 columns</p>\n",
       "</div>"
      ],
      "text/plain": [
       "       words letter_1 letter_2 letter_3 letter_4 letter_5  \\\n",
       "0      enzym        e        n        z        y        m   \n",
       "1      ethyl        e        t        h        y        l   \n",
       "2      othyl        o        t        h        y        l   \n",
       "3      ewhow        e        w        h        o        w   \n",
       "4      udyog        u        d        y        o        g   \n",
       "...      ...      ...      ...      ...      ...      ...   \n",
       "14850  pares        p        a        r        e        s   \n",
       "14851  sones        s        o        n        e        s   \n",
       "14852  sales        s        a        l        e        s   \n",
       "14853  sores        s        o        r        e        s   \n",
       "14854  sanes        s        a        n        e        s   \n",
       "\n",
       "       letter_1_positional_score  letter_1_general_score  \\\n",
       "0                            330                    7455   \n",
       "1                            330                    7455   \n",
       "2                            352                    5212   \n",
       "3                            330                    7455   \n",
       "4                            217                    2927   \n",
       "...                          ...                     ...   \n",
       "14850                       1130                    2436   \n",
       "14851                       1666                    7319   \n",
       "14852                       1666                    7319   \n",
       "14853                       1666                    7319   \n",
       "14854                       1666                    7319   \n",
       "\n",
       "       letter_2_positional_score  letter_2_general_score  \\\n",
       "0                            388                    3478   \n",
       "1                            256                    3707   \n",
       "2                            256                    3707   \n",
       "3                            177                    1127   \n",
       "4                            108                    2735   \n",
       "...                          ...                     ...   \n",
       "14850                       2682                    7128   \n",
       "14851                       2414                    5212   \n",
       "14852                       2682                    7128   \n",
       "14853                       2414                    5212   \n",
       "14854                       2682                    7128   \n",
       "\n",
       "       letter_3_positional_score  letter_3_general_score  \\\n",
       "0                            165                     503   \n",
       "1                            146                    1993   \n",
       "2                            146                    1993   \n",
       "3                            146                    1993   \n",
       "4                            246                    2400   \n",
       "...                          ...                     ...   \n",
       "14850                       1354                    4714   \n",
       "14851                       1119                    3478   \n",
       "14852                        973                    3780   \n",
       "14853                       1354                    4714   \n",
       "14854                       1119                    3478   \n",
       "\n",
       "       letter_4_positional_score  letter_4_general_score  \\\n",
       "0                            124                    2400   \n",
       "1                            124                    2400   \n",
       "2                            124                    2400   \n",
       "3                            827                    5212   \n",
       "4                            827                    5212   \n",
       "...                          ...                     ...   \n",
       "14850                       2531                    7455   \n",
       "14851                       2531                    7455   \n",
       "14852                       2531                    7455   \n",
       "14853                       2531                    7455   \n",
       "14854                       2531                    7455   \n",
       "\n",
       "       letter_5_positional_score  letter_5_general_score  \\\n",
       "0                            227                    2414   \n",
       "1                            539                    3780   \n",
       "2                            539                    3780   \n",
       "3                             68                    1127   \n",
       "4                            171                    1864   \n",
       "...                          ...                     ...   \n",
       "14850                       4339                    7319   \n",
       "14851                       4339                    7319   \n",
       "14852                       4339                    7319   \n",
       "14853                       4339                    7319   \n",
       "14854                       4339                    7319   \n",
       "\n",
       "       total_positional_letter_scores  total_general_letter_scores  \n",
       "0                                1234                        16250  \n",
       "1                                1395                        19335  \n",
       "2                                1417                        17092  \n",
       "3                                1548                        16914  \n",
       "4                                1569                        15138  \n",
       "...                               ...                          ...  \n",
       "14850                           12036                        29052  \n",
       "14851                           12069                        30783  \n",
       "14852                           12191                        33001  \n",
       "14853                           12304                        32019  \n",
       "14854                           12337                        32699  \n",
       "\n",
       "[14855 rows x 18 columns]"
      ]
     },
     "execution_count": 3,
     "metadata": {},
     "output_type": "execute_result"
    }
   ],
   "source": [
    "words"
   ]
  },
  {
   "cell_type": "code",
   "execution_count": 4,
   "metadata": {},
   "outputs": [],
   "source": [
    "letter_cols = ['letter_1', 'letter_2', 'letter_3', 'letter_4', 'letter_5']"
   ]
  },
  {
   "cell_type": "code",
   "execution_count": 5,
   "metadata": {},
   "outputs": [],
   "source": [
    "def get_number_of_guesses_using_letter_score_strategy(target_words, guess_words, game_count=None):\n",
    "    max_guesses = 6\n",
    "\n",
    "    wordle = WordleInfinite()\n",
    "    num_guesses = []\n",
    "\n",
    "    # letter_masks = calculate_letter_masks(guess_words, letter_cols)\n",
    "\n",
    "    letter_masks = FilterSolver.calculate_letter_masks(guess_words, letter_cols)\n",
    "\n",
    "    if game_count is None:\n",
    "        game_count = guess_words.shape[0]\n",
    "\n",
    "    for word_index in range(game_count):\n",
    "        wordle.create_new_game(target_words.iloc[word_index])\n",
    "\n",
    "        filter_solver = FilterSolver(target_words, letter_masks)\n",
    "\n",
    "        game_details = filter_solver.attempt_solve(wordle, max_guesses)\n",
    "\n",
    "        num_guesses.append(game_details.number_guesses)\n",
    "\n",
    "    return pd.Series(num_guesses)"
   ]
  },
  {
   "cell_type": "code",
   "execution_count": 6,
   "metadata": {},
   "outputs": [],
   "source": [
    "import time"
   ]
  },
  {
   "cell_type": "code",
   "execution_count": 7,
   "metadata": {},
   "outputs": [],
   "source": [
    "letter_masks = FilterSolver.calculate_letter_masks(words, letter_cols)\n",
    "wordle = WordleInfinite()\n",
    "wordle.create_new_game()\n",
    "\n",
    "target_words = words[\"words\"].sample(frac=1)\n",
    "\n",
    "iteration_durations = []\n",
    "for i in range(14000):\n",
    "    start_time = time.time()\n",
    "    wordle.create_new_game(target_words.iloc[i])\n",
    "\n",
    "    filter_solver = FilterSolver(words[\"words\"], letter_masks)\n",
    "\n",
    "    game_details = filter_solver.attempt_solve(wordle)\n",
    "\n",
    "    duration = time.time() - start_time\n",
    "    iteration_durations.append(duration)\n"
   ]
  },
  {
   "cell_type": "code",
   "execution_count": 8,
   "metadata": {},
   "outputs": [
    {
     "data": {
      "text/plain": [
       "0.0020926779678889684"
      ]
     },
     "execution_count": 8,
     "metadata": {},
     "output_type": "execute_result"
    }
   ],
   "source": [
    "pd.Series(iteration_durations).mean()"
   ]
  },
  {
   "cell_type": "code",
   "execution_count": 9,
   "metadata": {},
   "outputs": [
    {
     "data": {
      "text/plain": [
       "14855"
      ]
     },
     "execution_count": 9,
     "metadata": {},
     "output_type": "execute_result"
    }
   ],
   "source": [
    "words.shape[0]"
   ]
  },
  {
   "cell_type": "code",
   "execution_count": 10,
   "metadata": {},
   "outputs": [
    {
     "data": {
      "text/plain": [
       "31.086731212990625"
      ]
     },
     "execution_count": 10,
     "metadata": {},
     "output_type": "execute_result"
    }
   ],
   "source": [
    "pd.Series(iteration_durations).mean() * words.shape[0]"
   ]
  },
  {
   "cell_type": "code",
   "execution_count": 11,
   "metadata": {},
   "outputs": [
    {
     "data": {
      "text/plain": [
       "'koiwi'"
      ]
     },
     "execution_count": 11,
     "metadata": {},
     "output_type": "execute_result"
    }
   ],
   "source": [
    "wordle.target_word"
   ]
  },
  {
   "cell_type": "code",
   "execution_count": 12,
   "metadata": {},
   "outputs": [
    {
     "data": {
      "text/plain": [
       "['enzym', 'oxbow', 'chowk', 'koiwi']"
      ]
     },
     "execution_count": 12,
     "metadata": {},
     "output_type": "execute_result"
    }
   ],
   "source": [
    "game_details.guesses"
   ]
  },
  {
   "cell_type": "code",
   "execution_count": 13,
   "metadata": {},
   "outputs": [
    {
     "data": {
      "text/plain": [
       "6865     lamby\n",
       "3548     greve\n",
       "2381     kipah\n",
       "6218     feart\n",
       "9715     pavie\n",
       "         ...  \n",
       "1028     flack\n",
       "7812     sadic\n",
       "14754    fones\n",
       "10886    myons\n",
       "14227    bamas\n",
       "Name: words, Length: 14855, dtype: object"
      ]
     },
     "execution_count": 13,
     "metadata": {},
     "output_type": "execute_result"
    }
   ],
   "source": [
    "target_words"
   ]
  },
  {
   "cell_type": "code",
   "execution_count": 14,
   "metadata": {},
   "outputs": [],
   "source": [
    "# def get_number_of_guesses_using_letter_score_strategy(target_words, guess_words, game_count=None):\n",
    "#     max_guesses = 6\n",
    "\n",
    "#     wordle = WordleInfinite()\n",
    "#     num_guesses = []\n",
    "\n",
    "#     letter_masks = calculate_letter_masks(guess_words, letter_cols)\n",
    "\n",
    "#     if game_count is None:\n",
    "#         game_count = guess_words.shape[0]\n",
    "\n",
    "#     for word_index in range(game_count):\n",
    "#         wordle.create_new_game(target_words.iloc[word_index])\n",
    "\n",
    "#         guess_score = [0, 0, 0, 0, 0]\n",
    "#         words_matching_guess_mask = pd.Series(data=True, index=guess_words.index)\n",
    "\n",
    "#         for i in range(max_guesses):\n",
    "#             guess_word = guess_words[words_matching_guess_mask].iloc[0][\"words\"]\n",
    "#             guess_score = wordle.make_guess(guess_word)\n",
    "\n",
    "#             num_guesses, updated = update_num_guesses(num_guesses, guess_score, i)\n",
    "#             if updated:\n",
    "#                 break\n",
    "\n",
    "#             words_matching_guess_mask = update_mask(letter_masks, words_matching_guess_mask, guess_word, guess_score, letter_cols)\n",
    "\n",
    "#     return pd.Series(num_guesses)\n",
    "\n",
    "\n",
    "# def update_num_guesses(num_guesses, guess_score, current_guess):\n",
    "#     total_score = calculate_score(guess_score)\n",
    "#     updated = False\n",
    "#     if total_score == 10:\n",
    "#         # print(f\"Solved! The word '{guess_word}' was guessed after {i+1} attempts and the actual word was '{wordle.target_word}'\")\n",
    "#         num_guesses.append(current_guess+1)\n",
    "#         updated = True\n",
    "#     elif current_guess == 5:\n",
    "#         num_guesses.append(7)\n",
    "#         updated = True\n",
    "\n",
    "#     return num_guesses, updated\n",
    "\n",
    "# def calculate_score(guess_score):\n",
    "#     total_score = 0\n",
    "#     for score in guess_score:\n",
    "#         total_score += score\n",
    "\n",
    "#     return total_score\n",
    "\n",
    "# def update_mask(letter_masks, words_matching_guess_mask, guess_word, guess_score, letter_cols):\n",
    "\n",
    "#     for letter_score, letter, letter_col in zip(guess_score, guess_word, letter_cols):\n",
    "#         mask = letter_masks[letter][letter_col]\n",
    "\n",
    "#         if letter_score != 2:\n",
    "#             mask = ~mask\n",
    "\n",
    "#             non_zero_occurance_count = 0\n",
    "#             for letter_j, guess_score_j in zip(guess_word, guess_score):\n",
    "#                 if letter == letter_j and guess_score_j > 0:\n",
    "#                     non_zero_occurance_count += 1\n",
    "\n",
    "#             if letter_score == 1:\n",
    "#                 mask = mask & (letter_masks[letter][\"occurance_sum\"] >= non_zero_occurance_count)\n",
    "#             else:\n",
    "#                 mask = mask & (letter_masks[letter][\"occurance_sum\"] == non_zero_occurance_count)\n",
    "\n",
    "#         words_matching_guess_mask = words_matching_guess_mask & mask\n",
    "    \n",
    "#     return words_matching_guess_mask\n",
    "\n",
    "\n",
    "#         # if 2 then filter for occurances in that postion\n",
    "#         # if no 2 then filter out occurances in that position\n",
    "#         # if 1 letter must occur at least as many times as 1s + 2s\n",
    "#         # if 0 letter must not occur more than number of 1s + 2s\n",
    "\n",
    "# def calculate_letter_masks(guess_words, letter_cols):\n",
    "#     all_letters = [\n",
    "#         'e', 's', 'a', 'o', 'r', 'i', 'l', 't', 'n', 'u', 'd', 'p', 'm',\n",
    "#         'y', 'c', 'h', 'g', 'b', 'k', 'f', 'w', 'v', 'z', 'j', 'x', 'q'\n",
    "#     ]\n",
    "\n",
    "#     letter_masks = {}\n",
    "#     for letter in all_letters:\n",
    "#         letter_masks[letter] = {}\n",
    "#         letter_masks[letter][\"occurance_sum\"] = pd.Series(data=0, index=guess_words.index)\n",
    "#         for letter_col in letter_cols:\n",
    "#             mask = guess_words[letter_col] == letter\n",
    "#             letter_masks[letter][letter_col] = mask\n",
    "#             letter_masks[letter][\"occurance_sum\"] = letter_masks[letter][\"occurance_sum\"] + mask\n",
    "\n",
    "#     return letter_masks"
   ]
  },
  {
   "cell_type": "code",
   "execution_count": 15,
   "metadata": {},
   "outputs": [],
   "source": [
    "np.random.seed(10)\n",
    "target_words = words[\"words\"].sample(frac=1)"
   ]
  },
  {
   "cell_type": "code",
   "execution_count": 16,
   "metadata": {},
   "outputs": [
    {
     "data": {
      "text/plain": [
       "590      azoic\n",
       "8505     roomy\n",
       "5893     fitly\n",
       "14535    wages\n",
       "7533     sozin\n",
       "         ...  \n",
       "11633    mixis\n",
       "1344     wagyu\n",
       "12815    minos\n",
       "7293     corso\n",
       "1289     light\n",
       "Name: words, Length: 14855, dtype: object"
      ]
     },
     "execution_count": 16,
     "metadata": {},
     "output_type": "execute_result"
    }
   ],
   "source": [
    "target_words"
   ]
  },
  {
   "cell_type": "code",
   "execution_count": 17,
   "metadata": {},
   "outputs": [
    {
     "ename": "KeyboardInterrupt",
     "evalue": "",
     "output_type": "error",
     "traceback": [
      "\u001b[1;31m---------------------------------------------------------------------------\u001b[0m",
      "\u001b[1;31mKeyboardInterrupt\u001b[0m                         Traceback (most recent call last)",
      "Cell \u001b[1;32mIn[17], line 2\u001b[0m\n\u001b[0;32m      1\u001b[0m np\u001b[38;5;241m.\u001b[39mrandom\u001b[38;5;241m.\u001b[39mseed(\u001b[38;5;241m25\u001b[39m)\n\u001b[1;32m----> 2\u001b[0m random_order \u001b[38;5;241m=\u001b[39m get_number_of_guesses_using_letter_score_strategy(target_words, words\u001b[38;5;241m.\u001b[39msample(frac\u001b[38;5;241m=\u001b[39m\u001b[38;5;241m1\u001b[39m))\n",
      "Cell \u001b[1;32mIn[5], line 19\u001b[0m, in \u001b[0;36mget_number_of_guesses_using_letter_score_strategy\u001b[1;34m(target_words, guess_words, game_count)\u001b[0m\n\u001b[0;32m     15\u001b[0m     wordle\u001b[38;5;241m.\u001b[39mcreate_new_game(target_words\u001b[38;5;241m.\u001b[39miloc[word_index])\n\u001b[0;32m     17\u001b[0m     filter_solver \u001b[38;5;241m=\u001b[39m FilterSolver(target_words, letter_masks)\n\u001b[1;32m---> 19\u001b[0m     game_details \u001b[38;5;241m=\u001b[39m filter_solver\u001b[38;5;241m.\u001b[39mattempt_solve(wordle, max_guesses)\n\u001b[0;32m     21\u001b[0m     num_guesses\u001b[38;5;241m.\u001b[39mappend(game_details\u001b[38;5;241m.\u001b[39mnumber_guesses)\n\u001b[0;32m     23\u001b[0m \u001b[38;5;28;01mreturn\u001b[39;00m pd\u001b[38;5;241m.\u001b[39mSeries(num_guesses)\n",
      "File \u001b[1;32mc:\\Users\\rdugg\\miniconda3\\envs\\wordle\\Lib\\site-packages\\wordleanalysis\\solvers\\WordleSolver.py:21\u001b[0m, in \u001b[0;36mWordleSolver.attempt_solve\u001b[1;34m(self, wordle_game, number_guesses)\u001b[0m\n\u001b[0;32m     18\u001b[0m     \u001b[38;5;28;01mif\u001b[39;00m \u001b[38;5;28mself\u001b[39m\u001b[38;5;241m.\u001b[39m_is_solved(guess_score):\n\u001b[0;32m     19\u001b[0m         \u001b[38;5;28;01mbreak\u001b[39;00m\n\u001b[1;32m---> 21\u001b[0m     \u001b[38;5;28mself\u001b[39m\u001b[38;5;241m.\u001b[39mprepare_next_guess(guess_word, guess_score)\n\u001b[0;32m     23\u001b[0m \u001b[38;5;28;01mif\u001b[39;00m \u001b[38;5;129;01mnot\u001b[39;00m \u001b[38;5;28mself\u001b[39m\u001b[38;5;241m.\u001b[39m_is_solved(guess_score):\n\u001b[0;32m     24\u001b[0m     game_details\u001b[38;5;241m.\u001b[39mran_out_of_guesses()\n",
      "File \u001b[1;32mc:\\Users\\rdugg\\miniconda3\\envs\\wordle\\Lib\\site-packages\\wordleanalysis\\solvers\\FilterSolver.py:16\u001b[0m, in \u001b[0;36mFilterSolver.prepare_next_guess\u001b[1;34m(self, guess_word, guess_score)\u001b[0m\n\u001b[0;32m     15\u001b[0m \u001b[38;5;28;01mdef\u001b[39;00m \u001b[38;5;21mprepare_next_guess\u001b[39m(\u001b[38;5;28mself\u001b[39m, guess_word: \u001b[38;5;28mstr\u001b[39m, guess_score: \u001b[38;5;28mlist\u001b[39m[\u001b[38;5;28mint\u001b[39m]):\n\u001b[1;32m---> 16\u001b[0m     \u001b[38;5;28mself\u001b[39m\u001b[38;5;241m.\u001b[39mupdate_mask(guess_word, guess_score)\n",
      "File \u001b[1;32mc:\\Users\\rdugg\\miniconda3\\envs\\wordle\\Lib\\site-packages\\wordleanalysis\\solvers\\FilterSolver.py:36\u001b[0m, in \u001b[0;36mFilterSolver.update_mask\u001b[1;34m(self, guess_word, guess_score)\u001b[0m\n\u001b[0;32m     33\u001b[0m     \u001b[38;5;28;01melse\u001b[39;00m:\n\u001b[0;32m     34\u001b[0m         mask \u001b[38;5;241m=\u001b[39m mask \u001b[38;5;241m&\u001b[39m (\u001b[38;5;28mself\u001b[39m\u001b[38;5;241m.\u001b[39mletter_masks[letter][\u001b[38;5;124m\"\u001b[39m\u001b[38;5;124moccurance_sum\u001b[39m\u001b[38;5;124m\"\u001b[39m] \u001b[38;5;241m==\u001b[39m non_zero_occurance_count)\n\u001b[1;32m---> 36\u001b[0m \u001b[38;5;28mself\u001b[39m\u001b[38;5;241m.\u001b[39mwords_matching_guess_mask \u001b[38;5;241m=\u001b[39m \u001b[38;5;28mself\u001b[39m\u001b[38;5;241m.\u001b[39mwords_matching_guess_mask \u001b[38;5;241m&\u001b[39m mask\n",
      "File \u001b[1;32mc:\\Users\\rdugg\\miniconda3\\envs\\wordle\\Lib\\site-packages\\pandas\\core\\ops\\common.py:76\u001b[0m, in \u001b[0;36m_unpack_zerodim_and_defer.<locals>.new_method\u001b[1;34m(self, other)\u001b[0m\n\u001b[0;32m     72\u001b[0m             \u001b[38;5;28;01mreturn\u001b[39;00m \u001b[38;5;28mNotImplemented\u001b[39m\n\u001b[0;32m     74\u001b[0m other \u001b[38;5;241m=\u001b[39m item_from_zerodim(other)\n\u001b[1;32m---> 76\u001b[0m \u001b[38;5;28;01mreturn\u001b[39;00m method(\u001b[38;5;28mself\u001b[39m, other)\n",
      "File \u001b[1;32mc:\\Users\\rdugg\\miniconda3\\envs\\wordle\\Lib\\site-packages\\pandas\\core\\arraylike.py:70\u001b[0m, in \u001b[0;36mOpsMixin.__and__\u001b[1;34m(self, other)\u001b[0m\n\u001b[0;32m     68\u001b[0m \u001b[38;5;129m@unpack_zerodim_and_defer\u001b[39m(\u001b[38;5;124m\"\u001b[39m\u001b[38;5;124m__and__\u001b[39m\u001b[38;5;124m\"\u001b[39m)\n\u001b[0;32m     69\u001b[0m \u001b[38;5;28;01mdef\u001b[39;00m \u001b[38;5;21m__and__\u001b[39m(\u001b[38;5;28mself\u001b[39m, other):\n\u001b[1;32m---> 70\u001b[0m     \u001b[38;5;28;01mreturn\u001b[39;00m \u001b[38;5;28mself\u001b[39m\u001b[38;5;241m.\u001b[39m_logical_method(other, operator\u001b[38;5;241m.\u001b[39mand_)\n",
      "File \u001b[1;32mc:\\Users\\rdugg\\miniconda3\\envs\\wordle\\Lib\\site-packages\\pandas\\core\\series.py:5809\u001b[0m, in \u001b[0;36mSeries._logical_method\u001b[1;34m(self, other, op)\u001b[0m\n\u001b[0;32m   5807\u001b[0m \u001b[38;5;28;01mdef\u001b[39;00m \u001b[38;5;21m_logical_method\u001b[39m(\u001b[38;5;28mself\u001b[39m, other, op):\n\u001b[0;32m   5808\u001b[0m     res_name \u001b[38;5;241m=\u001b[39m ops\u001b[38;5;241m.\u001b[39mget_op_result_name(\u001b[38;5;28mself\u001b[39m, other)\n\u001b[1;32m-> 5809\u001b[0m     \u001b[38;5;28mself\u001b[39m, other \u001b[38;5;241m=\u001b[39m \u001b[38;5;28mself\u001b[39m\u001b[38;5;241m.\u001b[39m_align_for_op(other, align_asobject\u001b[38;5;241m=\u001b[39m\u001b[38;5;28;01mTrue\u001b[39;00m)\n\u001b[0;32m   5811\u001b[0m     lvalues \u001b[38;5;241m=\u001b[39m \u001b[38;5;28mself\u001b[39m\u001b[38;5;241m.\u001b[39m_values\n\u001b[0;32m   5812\u001b[0m     rvalues \u001b[38;5;241m=\u001b[39m extract_array(other, extract_numpy\u001b[38;5;241m=\u001b[39m\u001b[38;5;28;01mTrue\u001b[39;00m, extract_range\u001b[38;5;241m=\u001b[39m\u001b[38;5;28;01mTrue\u001b[39;00m)\n",
      "File \u001b[1;32mc:\\Users\\rdugg\\miniconda3\\envs\\wordle\\Lib\\site-packages\\pandas\\core\\series.py:5848\u001b[0m, in \u001b[0;36mSeries._align_for_op\u001b[1;34m(self, right, align_asobject)\u001b[0m\n\u001b[0;32m   5845\u001b[0m             left \u001b[38;5;241m=\u001b[39m left\u001b[38;5;241m.\u001b[39mastype(\u001b[38;5;28mobject\u001b[39m)\n\u001b[0;32m   5846\u001b[0m             right \u001b[38;5;241m=\u001b[39m right\u001b[38;5;241m.\u001b[39mastype(\u001b[38;5;28mobject\u001b[39m)\n\u001b[1;32m-> 5848\u001b[0m         left, right \u001b[38;5;241m=\u001b[39m left\u001b[38;5;241m.\u001b[39malign(right, copy\u001b[38;5;241m=\u001b[39m\u001b[38;5;28;01mFalse\u001b[39;00m)\n\u001b[0;32m   5850\u001b[0m \u001b[38;5;28;01mreturn\u001b[39;00m left, right\n",
      "File \u001b[1;32mc:\\Users\\rdugg\\miniconda3\\envs\\wordle\\Lib\\site-packages\\pandas\\core\\generic.py:10103\u001b[0m, in \u001b[0;36mNDFrame.align\u001b[1;34m(self, other, join, axis, level, copy, fill_value, method, limit, fill_axis, broadcast_axis)\u001b[0m\n\u001b[0;32m  10090\u001b[0m     left, _right, join_index \u001b[38;5;241m=\u001b[39m \u001b[38;5;28mself\u001b[39m\u001b[38;5;241m.\u001b[39m_align_frame(\n\u001b[0;32m  10091\u001b[0m         other,\n\u001b[0;32m  10092\u001b[0m         join\u001b[38;5;241m=\u001b[39mjoin,\n\u001b[1;32m   (...)\u001b[0m\n\u001b[0;32m  10099\u001b[0m         fill_axis\u001b[38;5;241m=\u001b[39mfill_axis,\n\u001b[0;32m  10100\u001b[0m     )\n\u001b[0;32m  10102\u001b[0m \u001b[38;5;28;01melif\u001b[39;00m \u001b[38;5;28misinstance\u001b[39m(other, ABCSeries):\n\u001b[1;32m> 10103\u001b[0m     left, _right, join_index \u001b[38;5;241m=\u001b[39m \u001b[38;5;28mself\u001b[39m\u001b[38;5;241m.\u001b[39m_align_series(\n\u001b[0;32m  10104\u001b[0m         other,\n\u001b[0;32m  10105\u001b[0m         join\u001b[38;5;241m=\u001b[39mjoin,\n\u001b[0;32m  10106\u001b[0m         axis\u001b[38;5;241m=\u001b[39maxis,\n\u001b[0;32m  10107\u001b[0m         level\u001b[38;5;241m=\u001b[39mlevel,\n\u001b[0;32m  10108\u001b[0m         copy\u001b[38;5;241m=\u001b[39mcopy,\n\u001b[0;32m  10109\u001b[0m         fill_value\u001b[38;5;241m=\u001b[39mfill_value,\n\u001b[0;32m  10110\u001b[0m         method\u001b[38;5;241m=\u001b[39mmethod,\n\u001b[0;32m  10111\u001b[0m         limit\u001b[38;5;241m=\u001b[39mlimit,\n\u001b[0;32m  10112\u001b[0m         fill_axis\u001b[38;5;241m=\u001b[39mfill_axis,\n\u001b[0;32m  10113\u001b[0m     )\n\u001b[0;32m  10114\u001b[0m \u001b[38;5;28;01melse\u001b[39;00m:  \u001b[38;5;66;03m# pragma: no cover\u001b[39;00m\n\u001b[0;32m  10115\u001b[0m     \u001b[38;5;28;01mraise\u001b[39;00m \u001b[38;5;167;01mTypeError\u001b[39;00m(\u001b[38;5;124mf\u001b[39m\u001b[38;5;124m\"\u001b[39m\u001b[38;5;124munsupported type: \u001b[39m\u001b[38;5;132;01m{\u001b[39;00m\u001b[38;5;28mtype\u001b[39m(other)\u001b[38;5;132;01m}\u001b[39;00m\u001b[38;5;124m\"\u001b[39m)\n",
      "File \u001b[1;32mc:\\Users\\rdugg\\miniconda3\\envs\\wordle\\Lib\\site-packages\\pandas\\core\\generic.py:10220\u001b[0m, in \u001b[0;36mNDFrame._align_series\u001b[1;34m(self, other, join, axis, level, copy, fill_value, method, limit, fill_axis)\u001b[0m\n\u001b[0;32m  10218\u001b[0m     join_index, lidx, ridx \u001b[38;5;241m=\u001b[39m \u001b[38;5;28;01mNone\u001b[39;00m, \u001b[38;5;28;01mNone\u001b[39;00m, \u001b[38;5;28;01mNone\u001b[39;00m\n\u001b[0;32m  10219\u001b[0m \u001b[38;5;28;01melse\u001b[39;00m:\n\u001b[1;32m> 10220\u001b[0m     join_index, lidx, ridx \u001b[38;5;241m=\u001b[39m \u001b[38;5;28mself\u001b[39m\u001b[38;5;241m.\u001b[39mindex\u001b[38;5;241m.\u001b[39mjoin(\n\u001b[0;32m  10221\u001b[0m         other\u001b[38;5;241m.\u001b[39mindex, how\u001b[38;5;241m=\u001b[39mjoin, level\u001b[38;5;241m=\u001b[39mlevel, return_indexers\u001b[38;5;241m=\u001b[39m\u001b[38;5;28;01mTrue\u001b[39;00m\n\u001b[0;32m  10222\u001b[0m     )\n\u001b[0;32m  10224\u001b[0m \u001b[38;5;28;01mif\u001b[39;00m is_series:\n\u001b[0;32m  10225\u001b[0m     left \u001b[38;5;241m=\u001b[39m \u001b[38;5;28mself\u001b[39m\u001b[38;5;241m.\u001b[39m_reindex_indexer(join_index, lidx, copy)\n",
      "File \u001b[1;32mc:\\Users\\rdugg\\miniconda3\\envs\\wordle\\Lib\\site-packages\\pandas\\core\\indexes\\base.py:267\u001b[0m, in \u001b[0;36m_maybe_return_indexers.<locals>.join\u001b[1;34m(self, other, how, level, return_indexers, sort)\u001b[0m\n\u001b[0;32m    257\u001b[0m \u001b[38;5;129m@functools\u001b[39m\u001b[38;5;241m.\u001b[39mwraps(meth)\n\u001b[0;32m    258\u001b[0m \u001b[38;5;28;01mdef\u001b[39;00m \u001b[38;5;21mjoin\u001b[39m(\n\u001b[0;32m    259\u001b[0m     \u001b[38;5;28mself\u001b[39m,\n\u001b[1;32m   (...)\u001b[0m\n\u001b[0;32m    265\u001b[0m     sort: \u001b[38;5;28mbool\u001b[39m \u001b[38;5;241m=\u001b[39m \u001b[38;5;28;01mFalse\u001b[39;00m,\n\u001b[0;32m    266\u001b[0m ):\n\u001b[1;32m--> 267\u001b[0m     join_index, lidx, ridx \u001b[38;5;241m=\u001b[39m meth(\u001b[38;5;28mself\u001b[39m, other, how\u001b[38;5;241m=\u001b[39mhow, level\u001b[38;5;241m=\u001b[39mlevel, sort\u001b[38;5;241m=\u001b[39msort)\n\u001b[0;32m    268\u001b[0m     \u001b[38;5;28;01mif\u001b[39;00m \u001b[38;5;129;01mnot\u001b[39;00m return_indexers:\n\u001b[0;32m    269\u001b[0m         \u001b[38;5;28;01mreturn\u001b[39;00m join_index\n",
      "File \u001b[1;32mc:\\Users\\rdugg\\miniconda3\\envs\\wordle\\Lib\\site-packages\\pandas\\core\\indexes\\base.py:4692\u001b[0m, in \u001b[0;36mIndex.join\u001b[1;34m(self, other, how, level, return_indexers, sort)\u001b[0m\n\u001b[0;32m   4688\u001b[0m     \u001b[38;5;28;01mexcept\u001b[39;00m \u001b[38;5;167;01mTypeError\u001b[39;00m:\n\u001b[0;32m   4689\u001b[0m         \u001b[38;5;66;03m# object dtype; non-comparable objects\u001b[39;00m\n\u001b[0;32m   4690\u001b[0m         \u001b[38;5;28;01mpass\u001b[39;00m\n\u001b[1;32m-> 4692\u001b[0m \u001b[38;5;28;01mreturn\u001b[39;00m \u001b[38;5;28mself\u001b[39m\u001b[38;5;241m.\u001b[39m_join_via_get_indexer(other, how, sort)\n",
      "File \u001b[1;32mc:\\Users\\rdugg\\miniconda3\\envs\\wordle\\Lib\\site-packages\\pandas\\core\\indexes\\base.py:4714\u001b[0m, in \u001b[0;36mIndex._join_via_get_indexer\u001b[1;34m(self, other, how, sort)\u001b[0m\n\u001b[0;32m   4710\u001b[0m     join_index \u001b[38;5;241m=\u001b[39m \u001b[38;5;28mself\u001b[39m\u001b[38;5;241m.\u001b[39mintersection(other, sort\u001b[38;5;241m=\u001b[39m\u001b[38;5;28;01mFalse\u001b[39;00m)\n\u001b[0;32m   4711\u001b[0m \u001b[38;5;28;01melif\u001b[39;00m how \u001b[38;5;241m==\u001b[39m \u001b[38;5;124m\"\u001b[39m\u001b[38;5;124mouter\u001b[39m\u001b[38;5;124m\"\u001b[39m:\n\u001b[0;32m   4712\u001b[0m     \u001b[38;5;66;03m# TODO: sort=True here for backwards compat. It may\u001b[39;00m\n\u001b[0;32m   4713\u001b[0m     \u001b[38;5;66;03m# be better to use the sort parameter passed into join\u001b[39;00m\n\u001b[1;32m-> 4714\u001b[0m     join_index \u001b[38;5;241m=\u001b[39m \u001b[38;5;28mself\u001b[39m\u001b[38;5;241m.\u001b[39munion(other)\n\u001b[0;32m   4716\u001b[0m \u001b[38;5;28;01mif\u001b[39;00m sort:\n\u001b[0;32m   4717\u001b[0m     join_index \u001b[38;5;241m=\u001b[39m join_index\u001b[38;5;241m.\u001b[39msort_values()\n",
      "File \u001b[1;32mc:\\Users\\rdugg\\miniconda3\\envs\\wordle\\Lib\\site-packages\\pandas\\core\\indexes\\base.py:3336\u001b[0m, in \u001b[0;36mIndex.union\u001b[1;34m(self, other, sort)\u001b[0m\n\u001b[0;32m   3333\u001b[0m         \u001b[38;5;28;01mreturn\u001b[39;00m result\u001b[38;5;241m.\u001b[39msort_values()\n\u001b[0;32m   3334\u001b[0m     \u001b[38;5;28;01mreturn\u001b[39;00m result\n\u001b[1;32m-> 3336\u001b[0m result \u001b[38;5;241m=\u001b[39m \u001b[38;5;28mself\u001b[39m\u001b[38;5;241m.\u001b[39m_union(other, sort\u001b[38;5;241m=\u001b[39msort)\n\u001b[0;32m   3338\u001b[0m \u001b[38;5;28;01mreturn\u001b[39;00m \u001b[38;5;28mself\u001b[39m\u001b[38;5;241m.\u001b[39m_wrap_setop_result(other, result)\n",
      "File \u001b[1;32mc:\\Users\\rdugg\\miniconda3\\envs\\wordle\\Lib\\site-packages\\pandas\\core\\indexes\\base.py:3395\u001b[0m, in \u001b[0;36mIndex._union\u001b[1;34m(self, other, sort)\u001b[0m\n\u001b[0;32m   3390\u001b[0m \u001b[38;5;66;03m# The rest of this method is analogous to Index._intersection_via_get_indexer\u001b[39;00m\n\u001b[0;32m   3391\u001b[0m \n\u001b[0;32m   3392\u001b[0m \u001b[38;5;66;03m# Self may have duplicates; other already checked as unique\u001b[39;00m\n\u001b[0;32m   3393\u001b[0m \u001b[38;5;66;03m# find indexes of things in \"other\" that are not in \"self\"\u001b[39;00m\n\u001b[0;32m   3394\u001b[0m \u001b[38;5;28;01mif\u001b[39;00m \u001b[38;5;28mself\u001b[39m\u001b[38;5;241m.\u001b[39m_index_as_unique:\n\u001b[1;32m-> 3395\u001b[0m     indexer \u001b[38;5;241m=\u001b[39m \u001b[38;5;28mself\u001b[39m\u001b[38;5;241m.\u001b[39mget_indexer(other)\n\u001b[0;32m   3396\u001b[0m     missing \u001b[38;5;241m=\u001b[39m (indexer \u001b[38;5;241m==\u001b[39m \u001b[38;5;241m-\u001b[39m\u001b[38;5;241m1\u001b[39m)\u001b[38;5;241m.\u001b[39mnonzero()[\u001b[38;5;241m0\u001b[39m]\n\u001b[0;32m   3397\u001b[0m \u001b[38;5;28;01melse\u001b[39;00m:\n",
      "File \u001b[1;32mc:\\Users\\rdugg\\miniconda3\\envs\\wordle\\Lib\\site-packages\\pandas\\core\\indexes\\base.py:3928\u001b[0m, in \u001b[0;36mIndex.get_indexer\u001b[1;34m(self, target, method, limit, tolerance)\u001b[0m\n\u001b[0;32m   3923\u001b[0m \u001b[38;5;28;01mif\u001b[39;00m pself \u001b[38;5;129;01mis\u001b[39;00m \u001b[38;5;129;01mnot\u001b[39;00m \u001b[38;5;28mself\u001b[39m \u001b[38;5;129;01mor\u001b[39;00m ptarget \u001b[38;5;129;01mis\u001b[39;00m \u001b[38;5;129;01mnot\u001b[39;00m target:\n\u001b[0;32m   3924\u001b[0m     \u001b[38;5;28;01mreturn\u001b[39;00m pself\u001b[38;5;241m.\u001b[39mget_indexer(\n\u001b[0;32m   3925\u001b[0m         ptarget, method\u001b[38;5;241m=\u001b[39mmethod, limit\u001b[38;5;241m=\u001b[39mlimit, tolerance\u001b[38;5;241m=\u001b[39mtolerance\n\u001b[0;32m   3926\u001b[0m     )\n\u001b[1;32m-> 3928\u001b[0m \u001b[38;5;28;01mif\u001b[39;00m \u001b[38;5;28mself\u001b[39m\u001b[38;5;241m.\u001b[39mdtype \u001b[38;5;241m==\u001b[39m target\u001b[38;5;241m.\u001b[39mdtype \u001b[38;5;129;01mand\u001b[39;00m \u001b[38;5;28mself\u001b[39m\u001b[38;5;241m.\u001b[39mequals(target):\n\u001b[0;32m   3929\u001b[0m     \u001b[38;5;66;03m# Only call equals if we have same dtype to avoid inference/casting\u001b[39;00m\n\u001b[0;32m   3930\u001b[0m     \u001b[38;5;28;01mreturn\u001b[39;00m np\u001b[38;5;241m.\u001b[39marange(\u001b[38;5;28mlen\u001b[39m(target), dtype\u001b[38;5;241m=\u001b[39mnp\u001b[38;5;241m.\u001b[39mintp)\n\u001b[0;32m   3932\u001b[0m \u001b[38;5;28;01mif\u001b[39;00m \u001b[38;5;28mself\u001b[39m\u001b[38;5;241m.\u001b[39mdtype \u001b[38;5;241m!=\u001b[39m target\u001b[38;5;241m.\u001b[39mdtype \u001b[38;5;129;01mand\u001b[39;00m \u001b[38;5;129;01mnot\u001b[39;00m \u001b[38;5;28mself\u001b[39m\u001b[38;5;241m.\u001b[39m_should_partial_index(target):\n\u001b[0;32m   3933\u001b[0m     \u001b[38;5;66;03m# _should_partial_index e.g. IntervalIndex with numeric scalars\u001b[39;00m\n\u001b[0;32m   3934\u001b[0m     \u001b[38;5;66;03m#  that can be matched to Interval scalars.\u001b[39;00m\n",
      "File \u001b[1;32mc:\\Users\\rdugg\\miniconda3\\envs\\wordle\\Lib\\site-packages\\pandas\\core\\indexes\\base.py:5608\u001b[0m, in \u001b[0;36mIndex.equals\u001b[1;34m(self, other)\u001b[0m\n\u001b[0;32m   5604\u001b[0m \u001b[38;5;28;01mif\u001b[39;00m \u001b[38;5;28misinstance\u001b[39m(other\u001b[38;5;241m.\u001b[39mdtype, ExtensionDtype):\n\u001b[0;32m   5605\u001b[0m     \u001b[38;5;66;03m# All EA-backed Index subclasses override equals\u001b[39;00m\n\u001b[0;32m   5606\u001b[0m     \u001b[38;5;28;01mreturn\u001b[39;00m other\u001b[38;5;241m.\u001b[39mequals(\u001b[38;5;28mself\u001b[39m)\n\u001b[1;32m-> 5608\u001b[0m \u001b[38;5;28;01mreturn\u001b[39;00m array_equivalent(\u001b[38;5;28mself\u001b[39m\u001b[38;5;241m.\u001b[39m_values, other\u001b[38;5;241m.\u001b[39m_values)\n",
      "File \u001b[1;32mc:\\Users\\rdugg\\miniconda3\\envs\\wordle\\Lib\\site-packages\\pandas\\core\\dtypes\\missing.py:553\u001b[0m, in \u001b[0;36marray_equivalent\u001b[1;34m(left, right, strict_nan, dtype_equal)\u001b[0m\n\u001b[0;32m    548\u001b[0m \u001b[38;5;28;01mif\u001b[39;00m (\n\u001b[0;32m    549\u001b[0m     left\u001b[38;5;241m.\u001b[39mdtype\u001b[38;5;241m.\u001b[39mtype \u001b[38;5;129;01mis\u001b[39;00m np\u001b[38;5;241m.\u001b[39mvoid \u001b[38;5;129;01mor\u001b[39;00m right\u001b[38;5;241m.\u001b[39mdtype\u001b[38;5;241m.\u001b[39mtype \u001b[38;5;129;01mis\u001b[39;00m np\u001b[38;5;241m.\u001b[39mvoid\n\u001b[0;32m    550\u001b[0m ) \u001b[38;5;129;01mand\u001b[39;00m left\u001b[38;5;241m.\u001b[39mdtype \u001b[38;5;241m!=\u001b[39m right\u001b[38;5;241m.\u001b[39mdtype:\n\u001b[0;32m    551\u001b[0m     \u001b[38;5;28;01mreturn\u001b[39;00m \u001b[38;5;28;01mFalse\u001b[39;00m\n\u001b[1;32m--> 553\u001b[0m \u001b[38;5;28;01mreturn\u001b[39;00m np\u001b[38;5;241m.\u001b[39marray_equal(left, right)\n",
      "File \u001b[1;32mc:\\Users\\rdugg\\miniconda3\\envs\\wordle\\Lib\\site-packages\\numpy\\core\\numeric.py:2439\u001b[0m, in \u001b[0;36marray_equal\u001b[1;34m(a1, a2, equal_nan)\u001b[0m\n\u001b[0;32m   2437\u001b[0m     \u001b[38;5;28;01mreturn\u001b[39;00m \u001b[38;5;28;01mFalse\u001b[39;00m\n\u001b[0;32m   2438\u001b[0m \u001b[38;5;28;01mif\u001b[39;00m \u001b[38;5;129;01mnot\u001b[39;00m equal_nan:\n\u001b[1;32m-> 2439\u001b[0m     \u001b[38;5;28;01mreturn\u001b[39;00m \u001b[38;5;28mbool\u001b[39m(asarray(a1 \u001b[38;5;241m==\u001b[39m a2)\u001b[38;5;241m.\u001b[39mall())\n\u001b[0;32m   2440\u001b[0m \u001b[38;5;66;03m# Handling NaN values if equal_nan is True\u001b[39;00m\n\u001b[0;32m   2441\u001b[0m a1nan, a2nan \u001b[38;5;241m=\u001b[39m isnan(a1), isnan(a2)\n",
      "\u001b[1;31mKeyboardInterrupt\u001b[0m: "
     ]
    }
   ],
   "source": [
    "np.random.seed(25)\n",
    "random_order = get_number_of_guesses_using_letter_score_strategy(target_words, words.sample(frac=1))"
   ]
  },
  {
   "cell_type": "code",
   "execution_count": null,
   "metadata": {},
   "outputs": [
    {
     "data": {
      "text/plain": [
       "5    3952\n",
       "4    3787\n",
       "7    2645\n",
       "6    2598\n",
       "3    1679\n",
       "2     193\n",
       "1       1\n",
       "Name: count, dtype: int64"
      ]
     },
     "execution_count": 9,
     "metadata": {},
     "output_type": "execute_result"
    }
   ],
   "source": [
    "random_order.value_counts()"
   ]
  },
  {
   "cell_type": "code",
   "execution_count": null,
   "metadata": {},
   "outputs": [],
   "source": [
    "pos_score_ascending = get_number_of_guesses_using_letter_score_strategy(target_words, words.sort_values(\"total_positional_letter_scores\"))\n",
    "pos_score_descending = get_number_of_guesses_using_letter_score_strategy(target_words, words.sort_values(\"total_positional_letter_scores\", ascending=False))"
   ]
  },
  {
   "cell_type": "code",
   "execution_count": 11,
   "metadata": {},
   "outputs": [],
   "source": [
    "gen_score_ascending = get_number_of_guesses_using_letter_score_strategy(target_words, words.sort_values([\"total_general_letter_scores\", \"total_positional_letter_scores\"]))\n",
    "gen_score_descending = get_number_of_guesses_using_letter_score_strategy(target_words, words.sort_values([\"total_general_letter_scores\", \"total_positional_letter_scores\"], ascending=False))"
   ]
  },
  {
   "cell_type": "code",
   "execution_count": 12,
   "metadata": {},
   "outputs": [],
   "source": [
    "def get_counts_df(guesses_required, type_val):\n",
    "    guesses_required_count = guesses_required.value_counts()\n",
    "    guesses_required_count = guesses_required_count.reset_index()\n",
    "    guesses_required_count.columns = [\"number_guesses\", \"occurance_count\"]\n",
    "    guesses_required_count[\"type\"] = type_val\n",
    "    return guesses_required_count"
   ]
  },
  {
   "cell_type": "code",
   "execution_count": 13,
   "metadata": {},
   "outputs": [],
   "source": [
    "random_order_counts = get_counts_df(random_order, \"Random Ordering Of Words\")\n",
    "pos_score_ascending_counts = get_counts_df(pos_score_ascending, \"Positional Score Ascending\")\n",
    "pos_score_descending_counts = get_counts_df(pos_score_descending, \"Positional Score Descending\")\n",
    "gen_score_ascending_counts = get_counts_df(gen_score_ascending, \"Total Score Ascending\")\n",
    "gen_score_descending_counts = get_counts_df(gen_score_descending, \"Total Score Descending\")\n",
    "\n",
    "guess_required = pd.concat([random_order_counts, pos_score_ascending_counts, pos_score_descending_counts, gen_score_ascending_counts, gen_score_descending_counts])"
   ]
  },
  {
   "cell_type": "code",
   "execution_count": 14,
   "metadata": {},
   "outputs": [
    {
     "data": {
      "text/html": [
       "<div>\n",
       "<style scoped>\n",
       "    .dataframe tbody tr th:only-of-type {\n",
       "        vertical-align: middle;\n",
       "    }\n",
       "\n",
       "    .dataframe tbody tr th {\n",
       "        vertical-align: top;\n",
       "    }\n",
       "\n",
       "    .dataframe thead th {\n",
       "        text-align: right;\n",
       "    }\n",
       "</style>\n",
       "<table border=\"1\" class=\"dataframe\">\n",
       "  <thead>\n",
       "    <tr style=\"text-align: right;\">\n",
       "      <th></th>\n",
       "      <th>number_guesses</th>\n",
       "      <th>occurance_count</th>\n",
       "      <th>type</th>\n",
       "    </tr>\n",
       "  </thead>\n",
       "  <tbody>\n",
       "    <tr>\n",
       "      <th>0</th>\n",
       "      <td>5</td>\n",
       "      <td>3952</td>\n",
       "      <td>Random Ordering Of Words</td>\n",
       "    </tr>\n",
       "    <tr>\n",
       "      <th>1</th>\n",
       "      <td>4</td>\n",
       "      <td>3787</td>\n",
       "      <td>Random Ordering Of Words</td>\n",
       "    </tr>\n",
       "    <tr>\n",
       "      <th>2</th>\n",
       "      <td>7</td>\n",
       "      <td>2645</td>\n",
       "      <td>Random Ordering Of Words</td>\n",
       "    </tr>\n",
       "    <tr>\n",
       "      <th>3</th>\n",
       "      <td>6</td>\n",
       "      <td>2598</td>\n",
       "      <td>Random Ordering Of Words</td>\n",
       "    </tr>\n",
       "    <tr>\n",
       "      <th>4</th>\n",
       "      <td>3</td>\n",
       "      <td>1679</td>\n",
       "      <td>Random Ordering Of Words</td>\n",
       "    </tr>\n",
       "    <tr>\n",
       "      <th>5</th>\n",
       "      <td>2</td>\n",
       "      <td>193</td>\n",
       "      <td>Random Ordering Of Words</td>\n",
       "    </tr>\n",
       "    <tr>\n",
       "      <th>6</th>\n",
       "      <td>1</td>\n",
       "      <td>1</td>\n",
       "      <td>Random Ordering Of Words</td>\n",
       "    </tr>\n",
       "    <tr>\n",
       "      <th>0</th>\n",
       "      <td>7</td>\n",
       "      <td>3996</td>\n",
       "      <td>Positional Score Ascending</td>\n",
       "    </tr>\n",
       "    <tr>\n",
       "      <th>1</th>\n",
       "      <td>5</td>\n",
       "      <td>3879</td>\n",
       "      <td>Positional Score Ascending</td>\n",
       "    </tr>\n",
       "    <tr>\n",
       "      <th>2</th>\n",
       "      <td>6</td>\n",
       "      <td>3824</td>\n",
       "      <td>Positional Score Ascending</td>\n",
       "    </tr>\n",
       "    <tr>\n",
       "      <th>3</th>\n",
       "      <td>4</td>\n",
       "      <td>2351</td>\n",
       "      <td>Positional Score Ascending</td>\n",
       "    </tr>\n",
       "    <tr>\n",
       "      <th>4</th>\n",
       "      <td>3</td>\n",
       "      <td>720</td>\n",
       "      <td>Positional Score Ascending</td>\n",
       "    </tr>\n",
       "    <tr>\n",
       "      <th>5</th>\n",
       "      <td>2</td>\n",
       "      <td>84</td>\n",
       "      <td>Positional Score Ascending</td>\n",
       "    </tr>\n",
       "    <tr>\n",
       "      <th>6</th>\n",
       "      <td>1</td>\n",
       "      <td>1</td>\n",
       "      <td>Positional Score Ascending</td>\n",
       "    </tr>\n",
       "    <tr>\n",
       "      <th>0</th>\n",
       "      <td>4</td>\n",
       "      <td>4126</td>\n",
       "      <td>Positional Score Descending</td>\n",
       "    </tr>\n",
       "    <tr>\n",
       "      <th>1</th>\n",
       "      <td>5</td>\n",
       "      <td>4039</td>\n",
       "      <td>Positional Score Descending</td>\n",
       "    </tr>\n",
       "    <tr>\n",
       "      <th>2</th>\n",
       "      <td>7</td>\n",
       "      <td>2488</td>\n",
       "      <td>Positional Score Descending</td>\n",
       "    </tr>\n",
       "    <tr>\n",
       "      <th>3</th>\n",
       "      <td>6</td>\n",
       "      <td>2444</td>\n",
       "      <td>Positional Score Descending</td>\n",
       "    </tr>\n",
       "    <tr>\n",
       "      <th>4</th>\n",
       "      <td>3</td>\n",
       "      <td>1598</td>\n",
       "      <td>Positional Score Descending</td>\n",
       "    </tr>\n",
       "    <tr>\n",
       "      <th>5</th>\n",
       "      <td>2</td>\n",
       "      <td>159</td>\n",
       "      <td>Positional Score Descending</td>\n",
       "    </tr>\n",
       "    <tr>\n",
       "      <th>6</th>\n",
       "      <td>1</td>\n",
       "      <td>1</td>\n",
       "      <td>Positional Score Descending</td>\n",
       "    </tr>\n",
       "    <tr>\n",
       "      <th>0</th>\n",
       "      <td>7</td>\n",
       "      <td>5621</td>\n",
       "      <td>Total Score Ascending</td>\n",
       "    </tr>\n",
       "    <tr>\n",
       "      <th>1</th>\n",
       "      <td>6</td>\n",
       "      <td>3979</td>\n",
       "      <td>Total Score Ascending</td>\n",
       "    </tr>\n",
       "    <tr>\n",
       "      <th>2</th>\n",
       "      <td>5</td>\n",
       "      <td>3137</td>\n",
       "      <td>Total Score Ascending</td>\n",
       "    </tr>\n",
       "    <tr>\n",
       "      <th>3</th>\n",
       "      <td>4</td>\n",
       "      <td>1580</td>\n",
       "      <td>Total Score Ascending</td>\n",
       "    </tr>\n",
       "    <tr>\n",
       "      <th>4</th>\n",
       "      <td>3</td>\n",
       "      <td>472</td>\n",
       "      <td>Total Score Ascending</td>\n",
       "    </tr>\n",
       "    <tr>\n",
       "      <th>5</th>\n",
       "      <td>2</td>\n",
       "      <td>65</td>\n",
       "      <td>Total Score Ascending</td>\n",
       "    </tr>\n",
       "    <tr>\n",
       "      <th>6</th>\n",
       "      <td>1</td>\n",
       "      <td>1</td>\n",
       "      <td>Total Score Ascending</td>\n",
       "    </tr>\n",
       "    <tr>\n",
       "      <th>0</th>\n",
       "      <td>7</td>\n",
       "      <td>4946</td>\n",
       "      <td>Total Score Descending</td>\n",
       "    </tr>\n",
       "    <tr>\n",
       "      <th>1</th>\n",
       "      <td>5</td>\n",
       "      <td>3682</td>\n",
       "      <td>Total Score Descending</td>\n",
       "    </tr>\n",
       "    <tr>\n",
       "      <th>2</th>\n",
       "      <td>6</td>\n",
       "      <td>3330</td>\n",
       "      <td>Total Score Descending</td>\n",
       "    </tr>\n",
       "    <tr>\n",
       "      <th>3</th>\n",
       "      <td>4</td>\n",
       "      <td>2204</td>\n",
       "      <td>Total Score Descending</td>\n",
       "    </tr>\n",
       "    <tr>\n",
       "      <th>4</th>\n",
       "      <td>3</td>\n",
       "      <td>620</td>\n",
       "      <td>Total Score Descending</td>\n",
       "    </tr>\n",
       "    <tr>\n",
       "      <th>5</th>\n",
       "      <td>2</td>\n",
       "      <td>72</td>\n",
       "      <td>Total Score Descending</td>\n",
       "    </tr>\n",
       "    <tr>\n",
       "      <th>6</th>\n",
       "      <td>1</td>\n",
       "      <td>1</td>\n",
       "      <td>Total Score Descending</td>\n",
       "    </tr>\n",
       "  </tbody>\n",
       "</table>\n",
       "</div>"
      ],
      "text/plain": [
       "   number_guesses  occurance_count                         type\n",
       "0               5             3952     Random Ordering Of Words\n",
       "1               4             3787     Random Ordering Of Words\n",
       "2               7             2645     Random Ordering Of Words\n",
       "3               6             2598     Random Ordering Of Words\n",
       "4               3             1679     Random Ordering Of Words\n",
       "5               2              193     Random Ordering Of Words\n",
       "6               1                1     Random Ordering Of Words\n",
       "0               7             3996   Positional Score Ascending\n",
       "1               5             3879   Positional Score Ascending\n",
       "2               6             3824   Positional Score Ascending\n",
       "3               4             2351   Positional Score Ascending\n",
       "4               3              720   Positional Score Ascending\n",
       "5               2               84   Positional Score Ascending\n",
       "6               1                1   Positional Score Ascending\n",
       "0               4             4126  Positional Score Descending\n",
       "1               5             4039  Positional Score Descending\n",
       "2               7             2488  Positional Score Descending\n",
       "3               6             2444  Positional Score Descending\n",
       "4               3             1598  Positional Score Descending\n",
       "5               2              159  Positional Score Descending\n",
       "6               1                1  Positional Score Descending\n",
       "0               7             5621        Total Score Ascending\n",
       "1               6             3979        Total Score Ascending\n",
       "2               5             3137        Total Score Ascending\n",
       "3               4             1580        Total Score Ascending\n",
       "4               3              472        Total Score Ascending\n",
       "5               2               65        Total Score Ascending\n",
       "6               1                1        Total Score Ascending\n",
       "0               7             4946       Total Score Descending\n",
       "1               5             3682       Total Score Descending\n",
       "2               6             3330       Total Score Descending\n",
       "3               4             2204       Total Score Descending\n",
       "4               3              620       Total Score Descending\n",
       "5               2               72       Total Score Descending\n",
       "6               1                1       Total Score Descending"
      ]
     },
     "execution_count": 14,
     "metadata": {},
     "output_type": "execute_result"
    }
   ],
   "source": [
    "guess_required"
   ]
  },
  {
   "cell_type": "code",
   "execution_count": 15,
   "metadata": {},
   "outputs": [
    {
     "data": {
      "application/vnd.plotly.v1+json": {
       "config": {
        "plotlyServerURL": "https://plot.ly"
       },
       "data": [
        {
         "alignmentgroup": "True",
         "hovertemplate": "type=Random Ordering Of Words<br>number_guesses=%{x}<br>occurance_count=%{y}<extra></extra>",
         "legendgroup": "Random Ordering Of Words",
         "marker": {
          "color": "#636efa",
          "pattern": {
           "shape": ""
          }
         },
         "name": "Random Ordering Of Words",
         "offsetgroup": "Random Ordering Of Words",
         "orientation": "v",
         "showlegend": true,
         "textposition": "auto",
         "type": "bar",
         "x": [
          5,
          4,
          7,
          6,
          3,
          2,
          1
         ],
         "xaxis": "x",
         "y": [
          3952,
          3787,
          2645,
          2598,
          1679,
          193,
          1
         ],
         "yaxis": "y"
        },
        {
         "alignmentgroup": "True",
         "hovertemplate": "type=Positional Score Ascending<br>number_guesses=%{x}<br>occurance_count=%{y}<extra></extra>",
         "legendgroup": "Positional Score Ascending",
         "marker": {
          "color": "#EF553B",
          "pattern": {
           "shape": ""
          }
         },
         "name": "Positional Score Ascending",
         "offsetgroup": "Positional Score Ascending",
         "orientation": "v",
         "showlegend": true,
         "textposition": "auto",
         "type": "bar",
         "x": [
          7,
          5,
          6,
          4,
          3,
          2,
          1
         ],
         "xaxis": "x",
         "y": [
          3996,
          3879,
          3824,
          2351,
          720,
          84,
          1
         ],
         "yaxis": "y"
        },
        {
         "alignmentgroup": "True",
         "hovertemplate": "type=Positional Score Descending<br>number_guesses=%{x}<br>occurance_count=%{y}<extra></extra>",
         "legendgroup": "Positional Score Descending",
         "marker": {
          "color": "#00cc96",
          "pattern": {
           "shape": ""
          }
         },
         "name": "Positional Score Descending",
         "offsetgroup": "Positional Score Descending",
         "orientation": "v",
         "showlegend": true,
         "textposition": "auto",
         "type": "bar",
         "x": [
          4,
          5,
          7,
          6,
          3,
          2,
          1
         ],
         "xaxis": "x",
         "y": [
          4126,
          4039,
          2488,
          2444,
          1598,
          159,
          1
         ],
         "yaxis": "y"
        },
        {
         "alignmentgroup": "True",
         "hovertemplate": "type=Total Score Ascending<br>number_guesses=%{x}<br>occurance_count=%{y}<extra></extra>",
         "legendgroup": "Total Score Ascending",
         "marker": {
          "color": "#ab63fa",
          "pattern": {
           "shape": ""
          }
         },
         "name": "Total Score Ascending",
         "offsetgroup": "Total Score Ascending",
         "orientation": "v",
         "showlegend": true,
         "textposition": "auto",
         "type": "bar",
         "x": [
          7,
          6,
          5,
          4,
          3,
          2,
          1
         ],
         "xaxis": "x",
         "y": [
          5621,
          3979,
          3137,
          1580,
          472,
          65,
          1
         ],
         "yaxis": "y"
        },
        {
         "alignmentgroup": "True",
         "hovertemplate": "type=Total Score Descending<br>number_guesses=%{x}<br>occurance_count=%{y}<extra></extra>",
         "legendgroup": "Total Score Descending",
         "marker": {
          "color": "#FFA15A",
          "pattern": {
           "shape": ""
          }
         },
         "name": "Total Score Descending",
         "offsetgroup": "Total Score Descending",
         "orientation": "v",
         "showlegend": true,
         "textposition": "auto",
         "type": "bar",
         "x": [
          7,
          5,
          6,
          4,
          3,
          2,
          1
         ],
         "xaxis": "x",
         "y": [
          4946,
          3682,
          3330,
          2204,
          620,
          72,
          1
         ],
         "yaxis": "y"
        }
       ],
       "layout": {
        "barmode": "group",
        "legend": {
         "title": {
          "text": "type"
         },
         "tracegroupgap": 0
        },
        "margin": {
         "t": 60
        },
        "template": {
         "data": {
          "bar": [
           {
            "error_x": {
             "color": "#2a3f5f"
            },
            "error_y": {
             "color": "#2a3f5f"
            },
            "marker": {
             "line": {
              "color": "#E5ECF6",
              "width": 0.5
             },
             "pattern": {
              "fillmode": "overlay",
              "size": 10,
              "solidity": 0.2
             }
            },
            "type": "bar"
           }
          ],
          "barpolar": [
           {
            "marker": {
             "line": {
              "color": "#E5ECF6",
              "width": 0.5
             },
             "pattern": {
              "fillmode": "overlay",
              "size": 10,
              "solidity": 0.2
             }
            },
            "type": "barpolar"
           }
          ],
          "carpet": [
           {
            "aaxis": {
             "endlinecolor": "#2a3f5f",
             "gridcolor": "white",
             "linecolor": "white",
             "minorgridcolor": "white",
             "startlinecolor": "#2a3f5f"
            },
            "baxis": {
             "endlinecolor": "#2a3f5f",
             "gridcolor": "white",
             "linecolor": "white",
             "minorgridcolor": "white",
             "startlinecolor": "#2a3f5f"
            },
            "type": "carpet"
           }
          ],
          "choropleth": [
           {
            "colorbar": {
             "outlinewidth": 0,
             "ticks": ""
            },
            "type": "choropleth"
           }
          ],
          "contour": [
           {
            "colorbar": {
             "outlinewidth": 0,
             "ticks": ""
            },
            "colorscale": [
             [
              0,
              "#0d0887"
             ],
             [
              0.1111111111111111,
              "#46039f"
             ],
             [
              0.2222222222222222,
              "#7201a8"
             ],
             [
              0.3333333333333333,
              "#9c179e"
             ],
             [
              0.4444444444444444,
              "#bd3786"
             ],
             [
              0.5555555555555556,
              "#d8576b"
             ],
             [
              0.6666666666666666,
              "#ed7953"
             ],
             [
              0.7777777777777778,
              "#fb9f3a"
             ],
             [
              0.8888888888888888,
              "#fdca26"
             ],
             [
              1,
              "#f0f921"
             ]
            ],
            "type": "contour"
           }
          ],
          "contourcarpet": [
           {
            "colorbar": {
             "outlinewidth": 0,
             "ticks": ""
            },
            "type": "contourcarpet"
           }
          ],
          "heatmap": [
           {
            "colorbar": {
             "outlinewidth": 0,
             "ticks": ""
            },
            "colorscale": [
             [
              0,
              "#0d0887"
             ],
             [
              0.1111111111111111,
              "#46039f"
             ],
             [
              0.2222222222222222,
              "#7201a8"
             ],
             [
              0.3333333333333333,
              "#9c179e"
             ],
             [
              0.4444444444444444,
              "#bd3786"
             ],
             [
              0.5555555555555556,
              "#d8576b"
             ],
             [
              0.6666666666666666,
              "#ed7953"
             ],
             [
              0.7777777777777778,
              "#fb9f3a"
             ],
             [
              0.8888888888888888,
              "#fdca26"
             ],
             [
              1,
              "#f0f921"
             ]
            ],
            "type": "heatmap"
           }
          ],
          "heatmapgl": [
           {
            "colorbar": {
             "outlinewidth": 0,
             "ticks": ""
            },
            "colorscale": [
             [
              0,
              "#0d0887"
             ],
             [
              0.1111111111111111,
              "#46039f"
             ],
             [
              0.2222222222222222,
              "#7201a8"
             ],
             [
              0.3333333333333333,
              "#9c179e"
             ],
             [
              0.4444444444444444,
              "#bd3786"
             ],
             [
              0.5555555555555556,
              "#d8576b"
             ],
             [
              0.6666666666666666,
              "#ed7953"
             ],
             [
              0.7777777777777778,
              "#fb9f3a"
             ],
             [
              0.8888888888888888,
              "#fdca26"
             ],
             [
              1,
              "#f0f921"
             ]
            ],
            "type": "heatmapgl"
           }
          ],
          "histogram": [
           {
            "marker": {
             "pattern": {
              "fillmode": "overlay",
              "size": 10,
              "solidity": 0.2
             }
            },
            "type": "histogram"
           }
          ],
          "histogram2d": [
           {
            "colorbar": {
             "outlinewidth": 0,
             "ticks": ""
            },
            "colorscale": [
             [
              0,
              "#0d0887"
             ],
             [
              0.1111111111111111,
              "#46039f"
             ],
             [
              0.2222222222222222,
              "#7201a8"
             ],
             [
              0.3333333333333333,
              "#9c179e"
             ],
             [
              0.4444444444444444,
              "#bd3786"
             ],
             [
              0.5555555555555556,
              "#d8576b"
             ],
             [
              0.6666666666666666,
              "#ed7953"
             ],
             [
              0.7777777777777778,
              "#fb9f3a"
             ],
             [
              0.8888888888888888,
              "#fdca26"
             ],
             [
              1,
              "#f0f921"
             ]
            ],
            "type": "histogram2d"
           }
          ],
          "histogram2dcontour": [
           {
            "colorbar": {
             "outlinewidth": 0,
             "ticks": ""
            },
            "colorscale": [
             [
              0,
              "#0d0887"
             ],
             [
              0.1111111111111111,
              "#46039f"
             ],
             [
              0.2222222222222222,
              "#7201a8"
             ],
             [
              0.3333333333333333,
              "#9c179e"
             ],
             [
              0.4444444444444444,
              "#bd3786"
             ],
             [
              0.5555555555555556,
              "#d8576b"
             ],
             [
              0.6666666666666666,
              "#ed7953"
             ],
             [
              0.7777777777777778,
              "#fb9f3a"
             ],
             [
              0.8888888888888888,
              "#fdca26"
             ],
             [
              1,
              "#f0f921"
             ]
            ],
            "type": "histogram2dcontour"
           }
          ],
          "mesh3d": [
           {
            "colorbar": {
             "outlinewidth": 0,
             "ticks": ""
            },
            "type": "mesh3d"
           }
          ],
          "parcoords": [
           {
            "line": {
             "colorbar": {
              "outlinewidth": 0,
              "ticks": ""
             }
            },
            "type": "parcoords"
           }
          ],
          "pie": [
           {
            "automargin": true,
            "type": "pie"
           }
          ],
          "scatter": [
           {
            "fillpattern": {
             "fillmode": "overlay",
             "size": 10,
             "solidity": 0.2
            },
            "type": "scatter"
           }
          ],
          "scatter3d": [
           {
            "line": {
             "colorbar": {
              "outlinewidth": 0,
              "ticks": ""
             }
            },
            "marker": {
             "colorbar": {
              "outlinewidth": 0,
              "ticks": ""
             }
            },
            "type": "scatter3d"
           }
          ],
          "scattercarpet": [
           {
            "marker": {
             "colorbar": {
              "outlinewidth": 0,
              "ticks": ""
             }
            },
            "type": "scattercarpet"
           }
          ],
          "scattergeo": [
           {
            "marker": {
             "colorbar": {
              "outlinewidth": 0,
              "ticks": ""
             }
            },
            "type": "scattergeo"
           }
          ],
          "scattergl": [
           {
            "marker": {
             "colorbar": {
              "outlinewidth": 0,
              "ticks": ""
             }
            },
            "type": "scattergl"
           }
          ],
          "scattermapbox": [
           {
            "marker": {
             "colorbar": {
              "outlinewidth": 0,
              "ticks": ""
             }
            },
            "type": "scattermapbox"
           }
          ],
          "scatterpolar": [
           {
            "marker": {
             "colorbar": {
              "outlinewidth": 0,
              "ticks": ""
             }
            },
            "type": "scatterpolar"
           }
          ],
          "scatterpolargl": [
           {
            "marker": {
             "colorbar": {
              "outlinewidth": 0,
              "ticks": ""
             }
            },
            "type": "scatterpolargl"
           }
          ],
          "scatterternary": [
           {
            "marker": {
             "colorbar": {
              "outlinewidth": 0,
              "ticks": ""
             }
            },
            "type": "scatterternary"
           }
          ],
          "surface": [
           {
            "colorbar": {
             "outlinewidth": 0,
             "ticks": ""
            },
            "colorscale": [
             [
              0,
              "#0d0887"
             ],
             [
              0.1111111111111111,
              "#46039f"
             ],
             [
              0.2222222222222222,
              "#7201a8"
             ],
             [
              0.3333333333333333,
              "#9c179e"
             ],
             [
              0.4444444444444444,
              "#bd3786"
             ],
             [
              0.5555555555555556,
              "#d8576b"
             ],
             [
              0.6666666666666666,
              "#ed7953"
             ],
             [
              0.7777777777777778,
              "#fb9f3a"
             ],
             [
              0.8888888888888888,
              "#fdca26"
             ],
             [
              1,
              "#f0f921"
             ]
            ],
            "type": "surface"
           }
          ],
          "table": [
           {
            "cells": {
             "fill": {
              "color": "#EBF0F8"
             },
             "line": {
              "color": "white"
             }
            },
            "header": {
             "fill": {
              "color": "#C8D4E3"
             },
             "line": {
              "color": "white"
             }
            },
            "type": "table"
           }
          ]
         },
         "layout": {
          "annotationdefaults": {
           "arrowcolor": "#2a3f5f",
           "arrowhead": 0,
           "arrowwidth": 1
          },
          "autotypenumbers": "strict",
          "coloraxis": {
           "colorbar": {
            "outlinewidth": 0,
            "ticks": ""
           }
          },
          "colorscale": {
           "diverging": [
            [
             0,
             "#8e0152"
            ],
            [
             0.1,
             "#c51b7d"
            ],
            [
             0.2,
             "#de77ae"
            ],
            [
             0.3,
             "#f1b6da"
            ],
            [
             0.4,
             "#fde0ef"
            ],
            [
             0.5,
             "#f7f7f7"
            ],
            [
             0.6,
             "#e6f5d0"
            ],
            [
             0.7,
             "#b8e186"
            ],
            [
             0.8,
             "#7fbc41"
            ],
            [
             0.9,
             "#4d9221"
            ],
            [
             1,
             "#276419"
            ]
           ],
           "sequential": [
            [
             0,
             "#0d0887"
            ],
            [
             0.1111111111111111,
             "#46039f"
            ],
            [
             0.2222222222222222,
             "#7201a8"
            ],
            [
             0.3333333333333333,
             "#9c179e"
            ],
            [
             0.4444444444444444,
             "#bd3786"
            ],
            [
             0.5555555555555556,
             "#d8576b"
            ],
            [
             0.6666666666666666,
             "#ed7953"
            ],
            [
             0.7777777777777778,
             "#fb9f3a"
            ],
            [
             0.8888888888888888,
             "#fdca26"
            ],
            [
             1,
             "#f0f921"
            ]
           ],
           "sequentialminus": [
            [
             0,
             "#0d0887"
            ],
            [
             0.1111111111111111,
             "#46039f"
            ],
            [
             0.2222222222222222,
             "#7201a8"
            ],
            [
             0.3333333333333333,
             "#9c179e"
            ],
            [
             0.4444444444444444,
             "#bd3786"
            ],
            [
             0.5555555555555556,
             "#d8576b"
            ],
            [
             0.6666666666666666,
             "#ed7953"
            ],
            [
             0.7777777777777778,
             "#fb9f3a"
            ],
            [
             0.8888888888888888,
             "#fdca26"
            ],
            [
             1,
             "#f0f921"
            ]
           ]
          },
          "colorway": [
           "#636efa",
           "#EF553B",
           "#00cc96",
           "#ab63fa",
           "#FFA15A",
           "#19d3f3",
           "#FF6692",
           "#B6E880",
           "#FF97FF",
           "#FECB52"
          ],
          "font": {
           "color": "#2a3f5f"
          },
          "geo": {
           "bgcolor": "white",
           "lakecolor": "white",
           "landcolor": "#E5ECF6",
           "showlakes": true,
           "showland": true,
           "subunitcolor": "white"
          },
          "hoverlabel": {
           "align": "left"
          },
          "hovermode": "closest",
          "mapbox": {
           "style": "light"
          },
          "paper_bgcolor": "white",
          "plot_bgcolor": "#E5ECF6",
          "polar": {
           "angularaxis": {
            "gridcolor": "white",
            "linecolor": "white",
            "ticks": ""
           },
           "bgcolor": "#E5ECF6",
           "radialaxis": {
            "gridcolor": "white",
            "linecolor": "white",
            "ticks": ""
           }
          },
          "scene": {
           "xaxis": {
            "backgroundcolor": "#E5ECF6",
            "gridcolor": "white",
            "gridwidth": 2,
            "linecolor": "white",
            "showbackground": true,
            "ticks": "",
            "zerolinecolor": "white"
           },
           "yaxis": {
            "backgroundcolor": "#E5ECF6",
            "gridcolor": "white",
            "gridwidth": 2,
            "linecolor": "white",
            "showbackground": true,
            "ticks": "",
            "zerolinecolor": "white"
           },
           "zaxis": {
            "backgroundcolor": "#E5ECF6",
            "gridcolor": "white",
            "gridwidth": 2,
            "linecolor": "white",
            "showbackground": true,
            "ticks": "",
            "zerolinecolor": "white"
           }
          },
          "shapedefaults": {
           "line": {
            "color": "#2a3f5f"
           }
          },
          "ternary": {
           "aaxis": {
            "gridcolor": "white",
            "linecolor": "white",
            "ticks": ""
           },
           "baxis": {
            "gridcolor": "white",
            "linecolor": "white",
            "ticks": ""
           },
           "bgcolor": "#E5ECF6",
           "caxis": {
            "gridcolor": "white",
            "linecolor": "white",
            "ticks": ""
           }
          },
          "title": {
           "x": 0.05
          },
          "xaxis": {
           "automargin": true,
           "gridcolor": "white",
           "linecolor": "white",
           "ticks": "",
           "title": {
            "standoff": 15
           },
           "zerolinecolor": "white",
           "zerolinewidth": 2
          },
          "yaxis": {
           "automargin": true,
           "gridcolor": "white",
           "linecolor": "white",
           "ticks": "",
           "title": {
            "standoff": 15
           },
           "zerolinecolor": "white",
           "zerolinewidth": 2
          }
         }
        },
        "xaxis": {
         "anchor": "y",
         "domain": [
          0,
          1
         ],
         "title": {
          "text": "number_guesses"
         }
        },
        "yaxis": {
         "anchor": "x",
         "domain": [
          0,
          1
         ],
         "title": {
          "text": "occurance_count"
         }
        }
       }
      }
     },
     "metadata": {},
     "output_type": "display_data"
    }
   ],
   "source": [
    "px.bar(guess_required, x=\"number_guesses\", y=\"occurance_count\", color=\"type\", barmode=\"group\")"
   ]
  },
  {
   "cell_type": "code",
   "execution_count": null,
   "metadata": {},
   "outputs": [],
   "source": []
  },
  {
   "cell_type": "code",
   "execution_count": null,
   "metadata": {},
   "outputs": [],
   "source": []
  }
 ],
 "metadata": {
  "kernelspec": {
   "display_name": "wordle",
   "language": "python",
   "name": "python3"
  },
  "language_info": {
   "codemirror_mode": {
    "name": "ipython",
    "version": 3
   },
   "file_extension": ".py",
   "mimetype": "text/x-python",
   "name": "python",
   "nbconvert_exporter": "python",
   "pygments_lexer": "ipython3",
   "version": "3.11.7"
  }
 },
 "nbformat": 4,
 "nbformat_minor": 2
}
