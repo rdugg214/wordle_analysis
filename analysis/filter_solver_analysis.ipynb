{
 "cells": [
  {
   "cell_type": "code",
   "execution_count": 1,
   "metadata": {},
   "outputs": [],
   "source": [
    "import pandas as pd\n",
    "import numpy as np\n",
    "import matplotlib.pyplot as plt\n",
    "import plotly.express as px\n",
    "\n",
    "from wordleanalysis.wordle_game import Wordle, WordleInfinite"
   ]
  },
  {
   "cell_type": "code",
   "execution_count": 2,
   "metadata": {},
   "outputs": [],
   "source": [
    "words = pd.read_csv(\"../datasets/words_with_scores.csv\")"
   ]
  },
  {
   "cell_type": "code",
   "execution_count": 3,
   "metadata": {},
   "outputs": [
    {
     "data": {
      "text/html": [
       "<div>\n",
       "<style scoped>\n",
       "    .dataframe tbody tr th:only-of-type {\n",
       "        vertical-align: middle;\n",
       "    }\n",
       "\n",
       "    .dataframe tbody tr th {\n",
       "        vertical-align: top;\n",
       "    }\n",
       "\n",
       "    .dataframe thead th {\n",
       "        text-align: right;\n",
       "    }\n",
       "</style>\n",
       "<table border=\"1\" class=\"dataframe\">\n",
       "  <thead>\n",
       "    <tr style=\"text-align: right;\">\n",
       "      <th></th>\n",
       "      <th>words</th>\n",
       "      <th>letter_1</th>\n",
       "      <th>letter_2</th>\n",
       "      <th>letter_3</th>\n",
       "      <th>letter_4</th>\n",
       "      <th>letter_5</th>\n",
       "      <th>letter_1_positional_score</th>\n",
       "      <th>letter_1_general_score</th>\n",
       "      <th>letter_2_positional_score</th>\n",
       "      <th>letter_2_general_score</th>\n",
       "      <th>letter_3_positional_score</th>\n",
       "      <th>letter_3_general_score</th>\n",
       "      <th>letter_4_positional_score</th>\n",
       "      <th>letter_4_general_score</th>\n",
       "      <th>letter_5_positional_score</th>\n",
       "      <th>letter_5_general_score</th>\n",
       "      <th>total_positional_letter_scores</th>\n",
       "      <th>total_general_letter_scores</th>\n",
       "    </tr>\n",
       "  </thead>\n",
       "  <tbody>\n",
       "    <tr>\n",
       "      <th>0</th>\n",
       "      <td>enzym</td>\n",
       "      <td>e</td>\n",
       "      <td>n</td>\n",
       "      <td>z</td>\n",
       "      <td>y</td>\n",
       "      <td>m</td>\n",
       "      <td>330</td>\n",
       "      <td>7455</td>\n",
       "      <td>388</td>\n",
       "      <td>3478</td>\n",
       "      <td>165</td>\n",
       "      <td>503</td>\n",
       "      <td>124</td>\n",
       "      <td>2400</td>\n",
       "      <td>227</td>\n",
       "      <td>2414</td>\n",
       "      <td>1234</td>\n",
       "      <td>16250</td>\n",
       "    </tr>\n",
       "    <tr>\n",
       "      <th>1</th>\n",
       "      <td>ethyl</td>\n",
       "      <td>e</td>\n",
       "      <td>t</td>\n",
       "      <td>h</td>\n",
       "      <td>y</td>\n",
       "      <td>l</td>\n",
       "      <td>330</td>\n",
       "      <td>7455</td>\n",
       "      <td>256</td>\n",
       "      <td>3707</td>\n",
       "      <td>146</td>\n",
       "      <td>1993</td>\n",
       "      <td>124</td>\n",
       "      <td>2400</td>\n",
       "      <td>539</td>\n",
       "      <td>3780</td>\n",
       "      <td>1395</td>\n",
       "      <td>19335</td>\n",
       "    </tr>\n",
       "    <tr>\n",
       "      <th>2</th>\n",
       "      <td>othyl</td>\n",
       "      <td>o</td>\n",
       "      <td>t</td>\n",
       "      <td>h</td>\n",
       "      <td>y</td>\n",
       "      <td>l</td>\n",
       "      <td>352</td>\n",
       "      <td>5212</td>\n",
       "      <td>256</td>\n",
       "      <td>3707</td>\n",
       "      <td>146</td>\n",
       "      <td>1993</td>\n",
       "      <td>124</td>\n",
       "      <td>2400</td>\n",
       "      <td>539</td>\n",
       "      <td>3780</td>\n",
       "      <td>1417</td>\n",
       "      <td>17092</td>\n",
       "    </tr>\n",
       "    <tr>\n",
       "      <th>3</th>\n",
       "      <td>ewhow</td>\n",
       "      <td>e</td>\n",
       "      <td>w</td>\n",
       "      <td>h</td>\n",
       "      <td>o</td>\n",
       "      <td>w</td>\n",
       "      <td>330</td>\n",
       "      <td>7455</td>\n",
       "      <td>177</td>\n",
       "      <td>1127</td>\n",
       "      <td>146</td>\n",
       "      <td>1993</td>\n",
       "      <td>827</td>\n",
       "      <td>5212</td>\n",
       "      <td>68</td>\n",
       "      <td>1127</td>\n",
       "      <td>1548</td>\n",
       "      <td>16914</td>\n",
       "    </tr>\n",
       "    <tr>\n",
       "      <th>4</th>\n",
       "      <td>udyog</td>\n",
       "      <td>u</td>\n",
       "      <td>d</td>\n",
       "      <td>y</td>\n",
       "      <td>o</td>\n",
       "      <td>g</td>\n",
       "      <td>217</td>\n",
       "      <td>2927</td>\n",
       "      <td>108</td>\n",
       "      <td>2735</td>\n",
       "      <td>246</td>\n",
       "      <td>2400</td>\n",
       "      <td>827</td>\n",
       "      <td>5212</td>\n",
       "      <td>171</td>\n",
       "      <td>1864</td>\n",
       "      <td>1569</td>\n",
       "      <td>15138</td>\n",
       "    </tr>\n",
       "    <tr>\n",
       "      <th>...</th>\n",
       "      <td>...</td>\n",
       "      <td>...</td>\n",
       "      <td>...</td>\n",
       "      <td>...</td>\n",
       "      <td>...</td>\n",
       "      <td>...</td>\n",
       "      <td>...</td>\n",
       "      <td>...</td>\n",
       "      <td>...</td>\n",
       "      <td>...</td>\n",
       "      <td>...</td>\n",
       "      <td>...</td>\n",
       "      <td>...</td>\n",
       "      <td>...</td>\n",
       "      <td>...</td>\n",
       "      <td>...</td>\n",
       "      <td>...</td>\n",
       "      <td>...</td>\n",
       "    </tr>\n",
       "    <tr>\n",
       "      <th>14850</th>\n",
       "      <td>pares</td>\n",
       "      <td>p</td>\n",
       "      <td>a</td>\n",
       "      <td>r</td>\n",
       "      <td>e</td>\n",
       "      <td>s</td>\n",
       "      <td>1130</td>\n",
       "      <td>2436</td>\n",
       "      <td>2682</td>\n",
       "      <td>7128</td>\n",
       "      <td>1354</td>\n",
       "      <td>4714</td>\n",
       "      <td>2531</td>\n",
       "      <td>7455</td>\n",
       "      <td>4339</td>\n",
       "      <td>7319</td>\n",
       "      <td>12036</td>\n",
       "      <td>29052</td>\n",
       "    </tr>\n",
       "    <tr>\n",
       "      <th>14851</th>\n",
       "      <td>sones</td>\n",
       "      <td>s</td>\n",
       "      <td>o</td>\n",
       "      <td>n</td>\n",
       "      <td>e</td>\n",
       "      <td>s</td>\n",
       "      <td>1666</td>\n",
       "      <td>7319</td>\n",
       "      <td>2414</td>\n",
       "      <td>5212</td>\n",
       "      <td>1119</td>\n",
       "      <td>3478</td>\n",
       "      <td>2531</td>\n",
       "      <td>7455</td>\n",
       "      <td>4339</td>\n",
       "      <td>7319</td>\n",
       "      <td>12069</td>\n",
       "      <td>30783</td>\n",
       "    </tr>\n",
       "    <tr>\n",
       "      <th>14852</th>\n",
       "      <td>sales</td>\n",
       "      <td>s</td>\n",
       "      <td>a</td>\n",
       "      <td>l</td>\n",
       "      <td>e</td>\n",
       "      <td>s</td>\n",
       "      <td>1666</td>\n",
       "      <td>7319</td>\n",
       "      <td>2682</td>\n",
       "      <td>7128</td>\n",
       "      <td>973</td>\n",
       "      <td>3780</td>\n",
       "      <td>2531</td>\n",
       "      <td>7455</td>\n",
       "      <td>4339</td>\n",
       "      <td>7319</td>\n",
       "      <td>12191</td>\n",
       "      <td>33001</td>\n",
       "    </tr>\n",
       "    <tr>\n",
       "      <th>14853</th>\n",
       "      <td>sores</td>\n",
       "      <td>s</td>\n",
       "      <td>o</td>\n",
       "      <td>r</td>\n",
       "      <td>e</td>\n",
       "      <td>s</td>\n",
       "      <td>1666</td>\n",
       "      <td>7319</td>\n",
       "      <td>2414</td>\n",
       "      <td>5212</td>\n",
       "      <td>1354</td>\n",
       "      <td>4714</td>\n",
       "      <td>2531</td>\n",
       "      <td>7455</td>\n",
       "      <td>4339</td>\n",
       "      <td>7319</td>\n",
       "      <td>12304</td>\n",
       "      <td>32019</td>\n",
       "    </tr>\n",
       "    <tr>\n",
       "      <th>14854</th>\n",
       "      <td>sanes</td>\n",
       "      <td>s</td>\n",
       "      <td>a</td>\n",
       "      <td>n</td>\n",
       "      <td>e</td>\n",
       "      <td>s</td>\n",
       "      <td>1666</td>\n",
       "      <td>7319</td>\n",
       "      <td>2682</td>\n",
       "      <td>7128</td>\n",
       "      <td>1119</td>\n",
       "      <td>3478</td>\n",
       "      <td>2531</td>\n",
       "      <td>7455</td>\n",
       "      <td>4339</td>\n",
       "      <td>7319</td>\n",
       "      <td>12337</td>\n",
       "      <td>32699</td>\n",
       "    </tr>\n",
       "  </tbody>\n",
       "</table>\n",
       "<p>14855 rows × 18 columns</p>\n",
       "</div>"
      ],
      "text/plain": [
       "       words letter_1 letter_2 letter_3 letter_4 letter_5  \\\n",
       "0      enzym        e        n        z        y        m   \n",
       "1      ethyl        e        t        h        y        l   \n",
       "2      othyl        o        t        h        y        l   \n",
       "3      ewhow        e        w        h        o        w   \n",
       "4      udyog        u        d        y        o        g   \n",
       "...      ...      ...      ...      ...      ...      ...   \n",
       "14850  pares        p        a        r        e        s   \n",
       "14851  sones        s        o        n        e        s   \n",
       "14852  sales        s        a        l        e        s   \n",
       "14853  sores        s        o        r        e        s   \n",
       "14854  sanes        s        a        n        e        s   \n",
       "\n",
       "       letter_1_positional_score  letter_1_general_score  \\\n",
       "0                            330                    7455   \n",
       "1                            330                    7455   \n",
       "2                            352                    5212   \n",
       "3                            330                    7455   \n",
       "4                            217                    2927   \n",
       "...                          ...                     ...   \n",
       "14850                       1130                    2436   \n",
       "14851                       1666                    7319   \n",
       "14852                       1666                    7319   \n",
       "14853                       1666                    7319   \n",
       "14854                       1666                    7319   \n",
       "\n",
       "       letter_2_positional_score  letter_2_general_score  \\\n",
       "0                            388                    3478   \n",
       "1                            256                    3707   \n",
       "2                            256                    3707   \n",
       "3                            177                    1127   \n",
       "4                            108                    2735   \n",
       "...                          ...                     ...   \n",
       "14850                       2682                    7128   \n",
       "14851                       2414                    5212   \n",
       "14852                       2682                    7128   \n",
       "14853                       2414                    5212   \n",
       "14854                       2682                    7128   \n",
       "\n",
       "       letter_3_positional_score  letter_3_general_score  \\\n",
       "0                            165                     503   \n",
       "1                            146                    1993   \n",
       "2                            146                    1993   \n",
       "3                            146                    1993   \n",
       "4                            246                    2400   \n",
       "...                          ...                     ...   \n",
       "14850                       1354                    4714   \n",
       "14851                       1119                    3478   \n",
       "14852                        973                    3780   \n",
       "14853                       1354                    4714   \n",
       "14854                       1119                    3478   \n",
       "\n",
       "       letter_4_positional_score  letter_4_general_score  \\\n",
       "0                            124                    2400   \n",
       "1                            124                    2400   \n",
       "2                            124                    2400   \n",
       "3                            827                    5212   \n",
       "4                            827                    5212   \n",
       "...                          ...                     ...   \n",
       "14850                       2531                    7455   \n",
       "14851                       2531                    7455   \n",
       "14852                       2531                    7455   \n",
       "14853                       2531                    7455   \n",
       "14854                       2531                    7455   \n",
       "\n",
       "       letter_5_positional_score  letter_5_general_score  \\\n",
       "0                            227                    2414   \n",
       "1                            539                    3780   \n",
       "2                            539                    3780   \n",
       "3                             68                    1127   \n",
       "4                            171                    1864   \n",
       "...                          ...                     ...   \n",
       "14850                       4339                    7319   \n",
       "14851                       4339                    7319   \n",
       "14852                       4339                    7319   \n",
       "14853                       4339                    7319   \n",
       "14854                       4339                    7319   \n",
       "\n",
       "       total_positional_letter_scores  total_general_letter_scores  \n",
       "0                                1234                        16250  \n",
       "1                                1395                        19335  \n",
       "2                                1417                        17092  \n",
       "3                                1548                        16914  \n",
       "4                                1569                        15138  \n",
       "...                               ...                          ...  \n",
       "14850                           12036                        29052  \n",
       "14851                           12069                        30783  \n",
       "14852                           12191                        33001  \n",
       "14853                           12304                        32019  \n",
       "14854                           12337                        32699  \n",
       "\n",
       "[14855 rows x 18 columns]"
      ]
     },
     "execution_count": 3,
     "metadata": {},
     "output_type": "execute_result"
    }
   ],
   "source": [
    "words"
   ]
  },
  {
   "cell_type": "code",
   "execution_count": 4,
   "metadata": {},
   "outputs": [],
   "source": [
    "letter_cols = ['letter_1', 'letter_2', 'letter_3', 'letter_4', 'letter_5']"
   ]
  },
  {
   "cell_type": "code",
   "execution_count": 5,
   "metadata": {},
   "outputs": [],
   "source": [
    "def get_number_of_guesses_using_letter_score_strategy(target_words, guess_words, game_count=None):\n",
    "    max_guesses = 6\n",
    "\n",
    "    wordle = WordleInfinite()\n",
    "    num_guesses = []\n",
    "\n",
    "    letter_masks = calculate_letter_masks(guess_words, letter_cols)\n",
    "\n",
    "    if game_count is None:\n",
    "        game_count = guess_words.shape[0]\n",
    "\n",
    "    for word_index in range(game_count):\n",
    "        wordle.create_new_game(target_words.iloc[word_index])\n",
    "\n",
    "        guess_score = [0, 0, 0, 0, 0]\n",
    "        words_matching_guess_mask = pd.Series(data=True, index=guess_words.index)\n",
    "\n",
    "        for i in range(max_guesses):\n",
    "            guess_word = guess_words[words_matching_guess_mask].iloc[0][\"words\"]\n",
    "            guess_score = wordle.make_guess(guess_word)\n",
    "\n",
    "            num_guesses, updated = update_num_guesses(num_guesses, guess_score, i)\n",
    "            if updated:\n",
    "                break\n",
    "\n",
    "            words_matching_guess_mask = update_mask(letter_masks, words_matching_guess_mask, guess_word, guess_score, letter_cols)\n",
    "\n",
    "    return pd.Series(num_guesses)\n",
    "\n",
    "\n",
    "def update_num_guesses(num_guesses, guess_score, current_guess):\n",
    "    total_score = calculate_score(guess_score)\n",
    "    updated = False\n",
    "    if total_score == 10:\n",
    "        # print(f\"Solved! The word '{guess_word}' was guessed after {i+1} attempts and the actual word was '{wordle.target_word}'\")\n",
    "        num_guesses.append(current_guess+1)\n",
    "        updated = True\n",
    "    elif current_guess == 5:\n",
    "        num_guesses.append(7)\n",
    "        updated = True\n",
    "\n",
    "    return num_guesses, updated\n",
    "\n",
    "def calculate_score(guess_score):\n",
    "    total_score = 0\n",
    "    for score in guess_score:\n",
    "        total_score += score\n",
    "\n",
    "    return total_score\n",
    "\n",
    "def update_mask(letter_masks, words_matching_guess_mask, guess_word, guess_score, letter_cols):\n",
    "\n",
    "    for letter_score, letter, letter_col in zip(guess_score, guess_word, letter_cols):\n",
    "        mask = letter_masks[letter][letter_col]\n",
    "\n",
    "        if letter_score != 2:\n",
    "            mask = ~mask\n",
    "\n",
    "            non_zero_occurance_count = 0\n",
    "            for letter_j, guess_score_j in zip(guess_word, guess_score):\n",
    "                if letter == letter_j and guess_score_j > 0:\n",
    "                    non_zero_occurance_count += 1\n",
    "\n",
    "            if letter_score == 1:\n",
    "                mask = mask & (letter_masks[letter][\"occurance_sum\"] >= non_zero_occurance_count)\n",
    "            else:\n",
    "                mask = mask & (letter_masks[letter][\"occurance_sum\"] == non_zero_occurance_count)\n",
    "\n",
    "        words_matching_guess_mask = words_matching_guess_mask & mask\n",
    "    \n",
    "    return words_matching_guess_mask\n",
    "\n",
    "\n",
    "        # if 2 then filter for occurances in that postion\n",
    "        # if no 2 then filter out occurances in that position\n",
    "        # if 1 letter must occur at least as many times as 1s + 2s\n",
    "        # if 0 letter must not occur more than number of 1s + 2s\n",
    "\n",
    "def calculate_letter_masks(guess_words, letter_cols):\n",
    "    all_letters = [\n",
    "        'e', 's', 'a', 'o', 'r', 'i', 'l', 't', 'n', 'u', 'd', 'p', 'm',\n",
    "        'y', 'c', 'h', 'g', 'b', 'k', 'f', 'w', 'v', 'z', 'j', 'x', 'q'\n",
    "    ]\n",
    "\n",
    "    letter_masks = {}\n",
    "    for letter in all_letters:\n",
    "        letter_masks[letter] = {}\n",
    "        letter_masks[letter][\"occurance_sum\"] = pd.Series(data=0, index=guess_words.index)\n",
    "        for letter_col in letter_cols:\n",
    "            mask = guess_words[letter_col] == letter\n",
    "            letter_masks[letter][letter_col] = mask\n",
    "            letter_masks[letter][\"occurance_sum\"] = letter_masks[letter][\"occurance_sum\"] + mask\n",
    "\n",
    "    return letter_masks"
   ]
  },
  {
   "cell_type": "code",
   "execution_count": 6,
   "metadata": {},
   "outputs": [],
   "source": [
    "np.random.seed(10)\n",
    "target_words = words[\"words\"].sample(frac=1)"
   ]
  },
  {
   "cell_type": "code",
   "execution_count": 7,
   "metadata": {},
   "outputs": [
    {
     "data": {
      "text/plain": [
       "590      azoic\n",
       "8505     roomy\n",
       "5893     fitly\n",
       "14535    wages\n",
       "7533     sozin\n",
       "         ...  \n",
       "11633    mixis\n",
       "1344     wagyu\n",
       "12815    minos\n",
       "7293     corso\n",
       "1289     light\n",
       "Name: words, Length: 14855, dtype: object"
      ]
     },
     "execution_count": 7,
     "metadata": {},
     "output_type": "execute_result"
    }
   ],
   "source": [
    "target_words"
   ]
  },
  {
   "cell_type": "code",
   "execution_count": 8,
   "metadata": {},
   "outputs": [],
   "source": [
    "np.random.seed(25)\n",
    "random_order = get_number_of_guesses_using_letter_score_strategy(target_words, words.sample(frac=1))"
   ]
  },
  {
   "cell_type": "code",
   "execution_count": 9,
   "metadata": {},
   "outputs": [
    {
     "data": {
      "text/plain": [
       "5    3952\n",
       "4    3787\n",
       "7    2645\n",
       "6    2598\n",
       "3    1679\n",
       "2     193\n",
       "1       1\n",
       "Name: count, dtype: int64"
      ]
     },
     "execution_count": 9,
     "metadata": {},
     "output_type": "execute_result"
    }
   ],
   "source": [
    "random_order.value_counts()"
   ]
  },
  {
   "cell_type": "code",
   "execution_count": 10,
   "metadata": {},
   "outputs": [],
   "source": [
    "pos_score_ascending = get_number_of_guesses_using_letter_score_strategy(target_words, words.sort_values(\"total_positional_letter_scores\"))\n",
    "pos_score_descending = get_number_of_guesses_using_letter_score_strategy(target_words, words.sort_values(\"total_positional_letter_scores\", ascending=False))"
   ]
  },
  {
   "cell_type": "code",
   "execution_count": 11,
   "metadata": {},
   "outputs": [],
   "source": [
    "gen_score_ascending = get_number_of_guesses_using_letter_score_strategy(target_words, words.sort_values([\"total_general_letter_scores\", \"total_positional_letter_scores\"]))\n",
    "gen_score_descending = get_number_of_guesses_using_letter_score_strategy(target_words, words.sort_values([\"total_general_letter_scores\", \"total_positional_letter_scores\"], ascending=False))"
   ]
  },
  {
   "cell_type": "code",
   "execution_count": 12,
   "metadata": {},
   "outputs": [],
   "source": [
    "def get_counts_df(guesses_required, type_val):\n",
    "    guesses_required_count = guesses_required.value_counts()\n",
    "    guesses_required_count = guesses_required_count.reset_index()\n",
    "    guesses_required_count.columns = [\"number_guesses\", \"occurance_count\"]\n",
    "    guesses_required_count[\"type\"] = type_val\n",
    "    return guesses_required_count"
   ]
  },
  {
   "cell_type": "code",
   "execution_count": 13,
   "metadata": {},
   "outputs": [],
   "source": [
    "random_order_counts = get_counts_df(random_order, \"Random Ordering Of Words\")\n",
    "pos_score_ascending_counts = get_counts_df(pos_score_ascending, \"Positional Score Ascending\")\n",
    "pos_score_descending_counts = get_counts_df(pos_score_descending, \"Positional Score Descending\")\n",
    "gen_score_ascending_counts = get_counts_df(gen_score_ascending, \"Total Score Ascending\")\n",
    "gen_score_descending_counts = get_counts_df(gen_score_descending, \"Total Score Descending\")\n",
    "\n",
    "guess_required = pd.concat([random_order_counts, pos_score_ascending_counts, pos_score_descending_counts, gen_score_ascending_counts, gen_score_descending_counts])"
   ]
  },
  {
   "cell_type": "code",
   "execution_count": 14,
   "metadata": {},
   "outputs": [
    {
     "data": {
      "text/html": [
       "<div>\n",
       "<style scoped>\n",
       "    .dataframe tbody tr th:only-of-type {\n",
       "        vertical-align: middle;\n",
       "    }\n",
       "\n",
       "    .dataframe tbody tr th {\n",
       "        vertical-align: top;\n",
       "    }\n",
       "\n",
       "    .dataframe thead th {\n",
       "        text-align: right;\n",
       "    }\n",
       "</style>\n",
       "<table border=\"1\" class=\"dataframe\">\n",
       "  <thead>\n",
       "    <tr style=\"text-align: right;\">\n",
       "      <th></th>\n",
       "      <th>number_guesses</th>\n",
       "      <th>occurance_count</th>\n",
       "      <th>type</th>\n",
       "    </tr>\n",
       "  </thead>\n",
       "  <tbody>\n",
       "    <tr>\n",
       "      <th>0</th>\n",
       "      <td>5</td>\n",
       "      <td>3952</td>\n",
       "      <td>Random Ordering Of Words</td>\n",
       "    </tr>\n",
       "    <tr>\n",
       "      <th>1</th>\n",
       "      <td>4</td>\n",
       "      <td>3787</td>\n",
       "      <td>Random Ordering Of Words</td>\n",
       "    </tr>\n",
       "    <tr>\n",
       "      <th>2</th>\n",
       "      <td>7</td>\n",
       "      <td>2645</td>\n",
       "      <td>Random Ordering Of Words</td>\n",
       "    </tr>\n",
       "    <tr>\n",
       "      <th>3</th>\n",
       "      <td>6</td>\n",
       "      <td>2598</td>\n",
       "      <td>Random Ordering Of Words</td>\n",
       "    </tr>\n",
       "    <tr>\n",
       "      <th>4</th>\n",
       "      <td>3</td>\n",
       "      <td>1679</td>\n",
       "      <td>Random Ordering Of Words</td>\n",
       "    </tr>\n",
       "    <tr>\n",
       "      <th>5</th>\n",
       "      <td>2</td>\n",
       "      <td>193</td>\n",
       "      <td>Random Ordering Of Words</td>\n",
       "    </tr>\n",
       "    <tr>\n",
       "      <th>6</th>\n",
       "      <td>1</td>\n",
       "      <td>1</td>\n",
       "      <td>Random Ordering Of Words</td>\n",
       "    </tr>\n",
       "    <tr>\n",
       "      <th>0</th>\n",
       "      <td>7</td>\n",
       "      <td>3996</td>\n",
       "      <td>Positional Score Ascending</td>\n",
       "    </tr>\n",
       "    <tr>\n",
       "      <th>1</th>\n",
       "      <td>5</td>\n",
       "      <td>3879</td>\n",
       "      <td>Positional Score Ascending</td>\n",
       "    </tr>\n",
       "    <tr>\n",
       "      <th>2</th>\n",
       "      <td>6</td>\n",
       "      <td>3824</td>\n",
       "      <td>Positional Score Ascending</td>\n",
       "    </tr>\n",
       "    <tr>\n",
       "      <th>3</th>\n",
       "      <td>4</td>\n",
       "      <td>2351</td>\n",
       "      <td>Positional Score Ascending</td>\n",
       "    </tr>\n",
       "    <tr>\n",
       "      <th>4</th>\n",
       "      <td>3</td>\n",
       "      <td>720</td>\n",
       "      <td>Positional Score Ascending</td>\n",
       "    </tr>\n",
       "    <tr>\n",
       "      <th>5</th>\n",
       "      <td>2</td>\n",
       "      <td>84</td>\n",
       "      <td>Positional Score Ascending</td>\n",
       "    </tr>\n",
       "    <tr>\n",
       "      <th>6</th>\n",
       "      <td>1</td>\n",
       "      <td>1</td>\n",
       "      <td>Positional Score Ascending</td>\n",
       "    </tr>\n",
       "    <tr>\n",
       "      <th>0</th>\n",
       "      <td>4</td>\n",
       "      <td>4126</td>\n",
       "      <td>Positional Score Descending</td>\n",
       "    </tr>\n",
       "    <tr>\n",
       "      <th>1</th>\n",
       "      <td>5</td>\n",
       "      <td>4039</td>\n",
       "      <td>Positional Score Descending</td>\n",
       "    </tr>\n",
       "    <tr>\n",
       "      <th>2</th>\n",
       "      <td>7</td>\n",
       "      <td>2488</td>\n",
       "      <td>Positional Score Descending</td>\n",
       "    </tr>\n",
       "    <tr>\n",
       "      <th>3</th>\n",
       "      <td>6</td>\n",
       "      <td>2444</td>\n",
       "      <td>Positional Score Descending</td>\n",
       "    </tr>\n",
       "    <tr>\n",
       "      <th>4</th>\n",
       "      <td>3</td>\n",
       "      <td>1598</td>\n",
       "      <td>Positional Score Descending</td>\n",
       "    </tr>\n",
       "    <tr>\n",
       "      <th>5</th>\n",
       "      <td>2</td>\n",
       "      <td>159</td>\n",
       "      <td>Positional Score Descending</td>\n",
       "    </tr>\n",
       "    <tr>\n",
       "      <th>6</th>\n",
       "      <td>1</td>\n",
       "      <td>1</td>\n",
       "      <td>Positional Score Descending</td>\n",
       "    </tr>\n",
       "    <tr>\n",
       "      <th>0</th>\n",
       "      <td>7</td>\n",
       "      <td>5621</td>\n",
       "      <td>Total Score Ascending</td>\n",
       "    </tr>\n",
       "    <tr>\n",
       "      <th>1</th>\n",
       "      <td>6</td>\n",
       "      <td>3979</td>\n",
       "      <td>Total Score Ascending</td>\n",
       "    </tr>\n",
       "    <tr>\n",
       "      <th>2</th>\n",
       "      <td>5</td>\n",
       "      <td>3137</td>\n",
       "      <td>Total Score Ascending</td>\n",
       "    </tr>\n",
       "    <tr>\n",
       "      <th>3</th>\n",
       "      <td>4</td>\n",
       "      <td>1580</td>\n",
       "      <td>Total Score Ascending</td>\n",
       "    </tr>\n",
       "    <tr>\n",
       "      <th>4</th>\n",
       "      <td>3</td>\n",
       "      <td>472</td>\n",
       "      <td>Total Score Ascending</td>\n",
       "    </tr>\n",
       "    <tr>\n",
       "      <th>5</th>\n",
       "      <td>2</td>\n",
       "      <td>65</td>\n",
       "      <td>Total Score Ascending</td>\n",
       "    </tr>\n",
       "    <tr>\n",
       "      <th>6</th>\n",
       "      <td>1</td>\n",
       "      <td>1</td>\n",
       "      <td>Total Score Ascending</td>\n",
       "    </tr>\n",
       "    <tr>\n",
       "      <th>0</th>\n",
       "      <td>7</td>\n",
       "      <td>4946</td>\n",
       "      <td>Total Score Descending</td>\n",
       "    </tr>\n",
       "    <tr>\n",
       "      <th>1</th>\n",
       "      <td>5</td>\n",
       "      <td>3682</td>\n",
       "      <td>Total Score Descending</td>\n",
       "    </tr>\n",
       "    <tr>\n",
       "      <th>2</th>\n",
       "      <td>6</td>\n",
       "      <td>3330</td>\n",
       "      <td>Total Score Descending</td>\n",
       "    </tr>\n",
       "    <tr>\n",
       "      <th>3</th>\n",
       "      <td>4</td>\n",
       "      <td>2204</td>\n",
       "      <td>Total Score Descending</td>\n",
       "    </tr>\n",
       "    <tr>\n",
       "      <th>4</th>\n",
       "      <td>3</td>\n",
       "      <td>620</td>\n",
       "      <td>Total Score Descending</td>\n",
       "    </tr>\n",
       "    <tr>\n",
       "      <th>5</th>\n",
       "      <td>2</td>\n",
       "      <td>72</td>\n",
       "      <td>Total Score Descending</td>\n",
       "    </tr>\n",
       "    <tr>\n",
       "      <th>6</th>\n",
       "      <td>1</td>\n",
       "      <td>1</td>\n",
       "      <td>Total Score Descending</td>\n",
       "    </tr>\n",
       "  </tbody>\n",
       "</table>\n",
       "</div>"
      ],
      "text/plain": [
       "   number_guesses  occurance_count                         type\n",
       "0               5             3952     Random Ordering Of Words\n",
       "1               4             3787     Random Ordering Of Words\n",
       "2               7             2645     Random Ordering Of Words\n",
       "3               6             2598     Random Ordering Of Words\n",
       "4               3             1679     Random Ordering Of Words\n",
       "5               2              193     Random Ordering Of Words\n",
       "6               1                1     Random Ordering Of Words\n",
       "0               7             3996   Positional Score Ascending\n",
       "1               5             3879   Positional Score Ascending\n",
       "2               6             3824   Positional Score Ascending\n",
       "3               4             2351   Positional Score Ascending\n",
       "4               3              720   Positional Score Ascending\n",
       "5               2               84   Positional Score Ascending\n",
       "6               1                1   Positional Score Ascending\n",
       "0               4             4126  Positional Score Descending\n",
       "1               5             4039  Positional Score Descending\n",
       "2               7             2488  Positional Score Descending\n",
       "3               6             2444  Positional Score Descending\n",
       "4               3             1598  Positional Score Descending\n",
       "5               2              159  Positional Score Descending\n",
       "6               1                1  Positional Score Descending\n",
       "0               7             5621        Total Score Ascending\n",
       "1               6             3979        Total Score Ascending\n",
       "2               5             3137        Total Score Ascending\n",
       "3               4             1580        Total Score Ascending\n",
       "4               3              472        Total Score Ascending\n",
       "5               2               65        Total Score Ascending\n",
       "6               1                1        Total Score Ascending\n",
       "0               7             4946       Total Score Descending\n",
       "1               5             3682       Total Score Descending\n",
       "2               6             3330       Total Score Descending\n",
       "3               4             2204       Total Score Descending\n",
       "4               3              620       Total Score Descending\n",
       "5               2               72       Total Score Descending\n",
       "6               1                1       Total Score Descending"
      ]
     },
     "execution_count": 14,
     "metadata": {},
     "output_type": "execute_result"
    }
   ],
   "source": [
    "guess_required"
   ]
  },
  {
   "cell_type": "code",
   "execution_count": 15,
   "metadata": {},
   "outputs": [
    {
     "data": {
      "application/vnd.plotly.v1+json": {
       "config": {
        "plotlyServerURL": "https://plot.ly"
       },
       "data": [
        {
         "alignmentgroup": "True",
         "hovertemplate": "type=Random Ordering Of Words<br>number_guesses=%{x}<br>occurance_count=%{y}<extra></extra>",
         "legendgroup": "Random Ordering Of Words",
         "marker": {
          "color": "#636efa",
          "pattern": {
           "shape": ""
          }
         },
         "name": "Random Ordering Of Words",
         "offsetgroup": "Random Ordering Of Words",
         "orientation": "v",
         "showlegend": true,
         "textposition": "auto",
         "type": "bar",
         "x": [
          5,
          4,
          7,
          6,
          3,
          2,
          1
         ],
         "xaxis": "x",
         "y": [
          3952,
          3787,
          2645,
          2598,
          1679,
          193,
          1
         ],
         "yaxis": "y"
        },
        {
         "alignmentgroup": "True",
         "hovertemplate": "type=Positional Score Ascending<br>number_guesses=%{x}<br>occurance_count=%{y}<extra></extra>",
         "legendgroup": "Positional Score Ascending",
         "marker": {
          "color": "#EF553B",
          "pattern": {
           "shape": ""
          }
         },
         "name": "Positional Score Ascending",
         "offsetgroup": "Positional Score Ascending",
         "orientation": "v",
         "showlegend": true,
         "textposition": "auto",
         "type": "bar",
         "x": [
          7,
          5,
          6,
          4,
          3,
          2,
          1
         ],
         "xaxis": "x",
         "y": [
          3996,
          3879,
          3824,
          2351,
          720,
          84,
          1
         ],
         "yaxis": "y"
        },
        {
         "alignmentgroup": "True",
         "hovertemplate": "type=Positional Score Descending<br>number_guesses=%{x}<br>occurance_count=%{y}<extra></extra>",
         "legendgroup": "Positional Score Descending",
         "marker": {
          "color": "#00cc96",
          "pattern": {
           "shape": ""
          }
         },
         "name": "Positional Score Descending",
         "offsetgroup": "Positional Score Descending",
         "orientation": "v",
         "showlegend": true,
         "textposition": "auto",
         "type": "bar",
         "x": [
          4,
          5,
          7,
          6,
          3,
          2,
          1
         ],
         "xaxis": "x",
         "y": [
          4126,
          4039,
          2488,
          2444,
          1598,
          159,
          1
         ],
         "yaxis": "y"
        },
        {
         "alignmentgroup": "True",
         "hovertemplate": "type=Total Score Ascending<br>number_guesses=%{x}<br>occurance_count=%{y}<extra></extra>",
         "legendgroup": "Total Score Ascending",
         "marker": {
          "color": "#ab63fa",
          "pattern": {
           "shape": ""
          }
         },
         "name": "Total Score Ascending",
         "offsetgroup": "Total Score Ascending",
         "orientation": "v",
         "showlegend": true,
         "textposition": "auto",
         "type": "bar",
         "x": [
          7,
          6,
          5,
          4,
          3,
          2,
          1
         ],
         "xaxis": "x",
         "y": [
          5621,
          3979,
          3137,
          1580,
          472,
          65,
          1
         ],
         "yaxis": "y"
        },
        {
         "alignmentgroup": "True",
         "hovertemplate": "type=Total Score Descending<br>number_guesses=%{x}<br>occurance_count=%{y}<extra></extra>",
         "legendgroup": "Total Score Descending",
         "marker": {
          "color": "#FFA15A",
          "pattern": {
           "shape": ""
          }
         },
         "name": "Total Score Descending",
         "offsetgroup": "Total Score Descending",
         "orientation": "v",
         "showlegend": true,
         "textposition": "auto",
         "type": "bar",
         "x": [
          7,
          5,
          6,
          4,
          3,
          2,
          1
         ],
         "xaxis": "x",
         "y": [
          4946,
          3682,
          3330,
          2204,
          620,
          72,
          1
         ],
         "yaxis": "y"
        }
       ],
       "layout": {
        "barmode": "group",
        "legend": {
         "title": {
          "text": "type"
         },
         "tracegroupgap": 0
        },
        "margin": {
         "t": 60
        },
        "template": {
         "data": {
          "bar": [
           {
            "error_x": {
             "color": "#2a3f5f"
            },
            "error_y": {
             "color": "#2a3f5f"
            },
            "marker": {
             "line": {
              "color": "#E5ECF6",
              "width": 0.5
             },
             "pattern": {
              "fillmode": "overlay",
              "size": 10,
              "solidity": 0.2
             }
            },
            "type": "bar"
           }
          ],
          "barpolar": [
           {
            "marker": {
             "line": {
              "color": "#E5ECF6",
              "width": 0.5
             },
             "pattern": {
              "fillmode": "overlay",
              "size": 10,
              "solidity": 0.2
             }
            },
            "type": "barpolar"
           }
          ],
          "carpet": [
           {
            "aaxis": {
             "endlinecolor": "#2a3f5f",
             "gridcolor": "white",
             "linecolor": "white",
             "minorgridcolor": "white",
             "startlinecolor": "#2a3f5f"
            },
            "baxis": {
             "endlinecolor": "#2a3f5f",
             "gridcolor": "white",
             "linecolor": "white",
             "minorgridcolor": "white",
             "startlinecolor": "#2a3f5f"
            },
            "type": "carpet"
           }
          ],
          "choropleth": [
           {
            "colorbar": {
             "outlinewidth": 0,
             "ticks": ""
            },
            "type": "choropleth"
           }
          ],
          "contour": [
           {
            "colorbar": {
             "outlinewidth": 0,
             "ticks": ""
            },
            "colorscale": [
             [
              0,
              "#0d0887"
             ],
             [
              0.1111111111111111,
              "#46039f"
             ],
             [
              0.2222222222222222,
              "#7201a8"
             ],
             [
              0.3333333333333333,
              "#9c179e"
             ],
             [
              0.4444444444444444,
              "#bd3786"
             ],
             [
              0.5555555555555556,
              "#d8576b"
             ],
             [
              0.6666666666666666,
              "#ed7953"
             ],
             [
              0.7777777777777778,
              "#fb9f3a"
             ],
             [
              0.8888888888888888,
              "#fdca26"
             ],
             [
              1,
              "#f0f921"
             ]
            ],
            "type": "contour"
           }
          ],
          "contourcarpet": [
           {
            "colorbar": {
             "outlinewidth": 0,
             "ticks": ""
            },
            "type": "contourcarpet"
           }
          ],
          "heatmap": [
           {
            "colorbar": {
             "outlinewidth": 0,
             "ticks": ""
            },
            "colorscale": [
             [
              0,
              "#0d0887"
             ],
             [
              0.1111111111111111,
              "#46039f"
             ],
             [
              0.2222222222222222,
              "#7201a8"
             ],
             [
              0.3333333333333333,
              "#9c179e"
             ],
             [
              0.4444444444444444,
              "#bd3786"
             ],
             [
              0.5555555555555556,
              "#d8576b"
             ],
             [
              0.6666666666666666,
              "#ed7953"
             ],
             [
              0.7777777777777778,
              "#fb9f3a"
             ],
             [
              0.8888888888888888,
              "#fdca26"
             ],
             [
              1,
              "#f0f921"
             ]
            ],
            "type": "heatmap"
           }
          ],
          "heatmapgl": [
           {
            "colorbar": {
             "outlinewidth": 0,
             "ticks": ""
            },
            "colorscale": [
             [
              0,
              "#0d0887"
             ],
             [
              0.1111111111111111,
              "#46039f"
             ],
             [
              0.2222222222222222,
              "#7201a8"
             ],
             [
              0.3333333333333333,
              "#9c179e"
             ],
             [
              0.4444444444444444,
              "#bd3786"
             ],
             [
              0.5555555555555556,
              "#d8576b"
             ],
             [
              0.6666666666666666,
              "#ed7953"
             ],
             [
              0.7777777777777778,
              "#fb9f3a"
             ],
             [
              0.8888888888888888,
              "#fdca26"
             ],
             [
              1,
              "#f0f921"
             ]
            ],
            "type": "heatmapgl"
           }
          ],
          "histogram": [
           {
            "marker": {
             "pattern": {
              "fillmode": "overlay",
              "size": 10,
              "solidity": 0.2
             }
            },
            "type": "histogram"
           }
          ],
          "histogram2d": [
           {
            "colorbar": {
             "outlinewidth": 0,
             "ticks": ""
            },
            "colorscale": [
             [
              0,
              "#0d0887"
             ],
             [
              0.1111111111111111,
              "#46039f"
             ],
             [
              0.2222222222222222,
              "#7201a8"
             ],
             [
              0.3333333333333333,
              "#9c179e"
             ],
             [
              0.4444444444444444,
              "#bd3786"
             ],
             [
              0.5555555555555556,
              "#d8576b"
             ],
             [
              0.6666666666666666,
              "#ed7953"
             ],
             [
              0.7777777777777778,
              "#fb9f3a"
             ],
             [
              0.8888888888888888,
              "#fdca26"
             ],
             [
              1,
              "#f0f921"
             ]
            ],
            "type": "histogram2d"
           }
          ],
          "histogram2dcontour": [
           {
            "colorbar": {
             "outlinewidth": 0,
             "ticks": ""
            },
            "colorscale": [
             [
              0,
              "#0d0887"
             ],
             [
              0.1111111111111111,
              "#46039f"
             ],
             [
              0.2222222222222222,
              "#7201a8"
             ],
             [
              0.3333333333333333,
              "#9c179e"
             ],
             [
              0.4444444444444444,
              "#bd3786"
             ],
             [
              0.5555555555555556,
              "#d8576b"
             ],
             [
              0.6666666666666666,
              "#ed7953"
             ],
             [
              0.7777777777777778,
              "#fb9f3a"
             ],
             [
              0.8888888888888888,
              "#fdca26"
             ],
             [
              1,
              "#f0f921"
             ]
            ],
            "type": "histogram2dcontour"
           }
          ],
          "mesh3d": [
           {
            "colorbar": {
             "outlinewidth": 0,
             "ticks": ""
            },
            "type": "mesh3d"
           }
          ],
          "parcoords": [
           {
            "line": {
             "colorbar": {
              "outlinewidth": 0,
              "ticks": ""
             }
            },
            "type": "parcoords"
           }
          ],
          "pie": [
           {
            "automargin": true,
            "type": "pie"
           }
          ],
          "scatter": [
           {
            "fillpattern": {
             "fillmode": "overlay",
             "size": 10,
             "solidity": 0.2
            },
            "type": "scatter"
           }
          ],
          "scatter3d": [
           {
            "line": {
             "colorbar": {
              "outlinewidth": 0,
              "ticks": ""
             }
            },
            "marker": {
             "colorbar": {
              "outlinewidth": 0,
              "ticks": ""
             }
            },
            "type": "scatter3d"
           }
          ],
          "scattercarpet": [
           {
            "marker": {
             "colorbar": {
              "outlinewidth": 0,
              "ticks": ""
             }
            },
            "type": "scattercarpet"
           }
          ],
          "scattergeo": [
           {
            "marker": {
             "colorbar": {
              "outlinewidth": 0,
              "ticks": ""
             }
            },
            "type": "scattergeo"
           }
          ],
          "scattergl": [
           {
            "marker": {
             "colorbar": {
              "outlinewidth": 0,
              "ticks": ""
             }
            },
            "type": "scattergl"
           }
          ],
          "scattermapbox": [
           {
            "marker": {
             "colorbar": {
              "outlinewidth": 0,
              "ticks": ""
             }
            },
            "type": "scattermapbox"
           }
          ],
          "scatterpolar": [
           {
            "marker": {
             "colorbar": {
              "outlinewidth": 0,
              "ticks": ""
             }
            },
            "type": "scatterpolar"
           }
          ],
          "scatterpolargl": [
           {
            "marker": {
             "colorbar": {
              "outlinewidth": 0,
              "ticks": ""
             }
            },
            "type": "scatterpolargl"
           }
          ],
          "scatterternary": [
           {
            "marker": {
             "colorbar": {
              "outlinewidth": 0,
              "ticks": ""
             }
            },
            "type": "scatterternary"
           }
          ],
          "surface": [
           {
            "colorbar": {
             "outlinewidth": 0,
             "ticks": ""
            },
            "colorscale": [
             [
              0,
              "#0d0887"
             ],
             [
              0.1111111111111111,
              "#46039f"
             ],
             [
              0.2222222222222222,
              "#7201a8"
             ],
             [
              0.3333333333333333,
              "#9c179e"
             ],
             [
              0.4444444444444444,
              "#bd3786"
             ],
             [
              0.5555555555555556,
              "#d8576b"
             ],
             [
              0.6666666666666666,
              "#ed7953"
             ],
             [
              0.7777777777777778,
              "#fb9f3a"
             ],
             [
              0.8888888888888888,
              "#fdca26"
             ],
             [
              1,
              "#f0f921"
             ]
            ],
            "type": "surface"
           }
          ],
          "table": [
           {
            "cells": {
             "fill": {
              "color": "#EBF0F8"
             },
             "line": {
              "color": "white"
             }
            },
            "header": {
             "fill": {
              "color": "#C8D4E3"
             },
             "line": {
              "color": "white"
             }
            },
            "type": "table"
           }
          ]
         },
         "layout": {
          "annotationdefaults": {
           "arrowcolor": "#2a3f5f",
           "arrowhead": 0,
           "arrowwidth": 1
          },
          "autotypenumbers": "strict",
          "coloraxis": {
           "colorbar": {
            "outlinewidth": 0,
            "ticks": ""
           }
          },
          "colorscale": {
           "diverging": [
            [
             0,
             "#8e0152"
            ],
            [
             0.1,
             "#c51b7d"
            ],
            [
             0.2,
             "#de77ae"
            ],
            [
             0.3,
             "#f1b6da"
            ],
            [
             0.4,
             "#fde0ef"
            ],
            [
             0.5,
             "#f7f7f7"
            ],
            [
             0.6,
             "#e6f5d0"
            ],
            [
             0.7,
             "#b8e186"
            ],
            [
             0.8,
             "#7fbc41"
            ],
            [
             0.9,
             "#4d9221"
            ],
            [
             1,
             "#276419"
            ]
           ],
           "sequential": [
            [
             0,
             "#0d0887"
            ],
            [
             0.1111111111111111,
             "#46039f"
            ],
            [
             0.2222222222222222,
             "#7201a8"
            ],
            [
             0.3333333333333333,
             "#9c179e"
            ],
            [
             0.4444444444444444,
             "#bd3786"
            ],
            [
             0.5555555555555556,
             "#d8576b"
            ],
            [
             0.6666666666666666,
             "#ed7953"
            ],
            [
             0.7777777777777778,
             "#fb9f3a"
            ],
            [
             0.8888888888888888,
             "#fdca26"
            ],
            [
             1,
             "#f0f921"
            ]
           ],
           "sequentialminus": [
            [
             0,
             "#0d0887"
            ],
            [
             0.1111111111111111,
             "#46039f"
            ],
            [
             0.2222222222222222,
             "#7201a8"
            ],
            [
             0.3333333333333333,
             "#9c179e"
            ],
            [
             0.4444444444444444,
             "#bd3786"
            ],
            [
             0.5555555555555556,
             "#d8576b"
            ],
            [
             0.6666666666666666,
             "#ed7953"
            ],
            [
             0.7777777777777778,
             "#fb9f3a"
            ],
            [
             0.8888888888888888,
             "#fdca26"
            ],
            [
             1,
             "#f0f921"
            ]
           ]
          },
          "colorway": [
           "#636efa",
           "#EF553B",
           "#00cc96",
           "#ab63fa",
           "#FFA15A",
           "#19d3f3",
           "#FF6692",
           "#B6E880",
           "#FF97FF",
           "#FECB52"
          ],
          "font": {
           "color": "#2a3f5f"
          },
          "geo": {
           "bgcolor": "white",
           "lakecolor": "white",
           "landcolor": "#E5ECF6",
           "showlakes": true,
           "showland": true,
           "subunitcolor": "white"
          },
          "hoverlabel": {
           "align": "left"
          },
          "hovermode": "closest",
          "mapbox": {
           "style": "light"
          },
          "paper_bgcolor": "white",
          "plot_bgcolor": "#E5ECF6",
          "polar": {
           "angularaxis": {
            "gridcolor": "white",
            "linecolor": "white",
            "ticks": ""
           },
           "bgcolor": "#E5ECF6",
           "radialaxis": {
            "gridcolor": "white",
            "linecolor": "white",
            "ticks": ""
           }
          },
          "scene": {
           "xaxis": {
            "backgroundcolor": "#E5ECF6",
            "gridcolor": "white",
            "gridwidth": 2,
            "linecolor": "white",
            "showbackground": true,
            "ticks": "",
            "zerolinecolor": "white"
           },
           "yaxis": {
            "backgroundcolor": "#E5ECF6",
            "gridcolor": "white",
            "gridwidth": 2,
            "linecolor": "white",
            "showbackground": true,
            "ticks": "",
            "zerolinecolor": "white"
           },
           "zaxis": {
            "backgroundcolor": "#E5ECF6",
            "gridcolor": "white",
            "gridwidth": 2,
            "linecolor": "white",
            "showbackground": true,
            "ticks": "",
            "zerolinecolor": "white"
           }
          },
          "shapedefaults": {
           "line": {
            "color": "#2a3f5f"
           }
          },
          "ternary": {
           "aaxis": {
            "gridcolor": "white",
            "linecolor": "white",
            "ticks": ""
           },
           "baxis": {
            "gridcolor": "white",
            "linecolor": "white",
            "ticks": ""
           },
           "bgcolor": "#E5ECF6",
           "caxis": {
            "gridcolor": "white",
            "linecolor": "white",
            "ticks": ""
           }
          },
          "title": {
           "x": 0.05
          },
          "xaxis": {
           "automargin": true,
           "gridcolor": "white",
           "linecolor": "white",
           "ticks": "",
           "title": {
            "standoff": 15
           },
           "zerolinecolor": "white",
           "zerolinewidth": 2
          },
          "yaxis": {
           "automargin": true,
           "gridcolor": "white",
           "linecolor": "white",
           "ticks": "",
           "title": {
            "standoff": 15
           },
           "zerolinecolor": "white",
           "zerolinewidth": 2
          }
         }
        },
        "xaxis": {
         "anchor": "y",
         "domain": [
          0,
          1
         ],
         "title": {
          "text": "number_guesses"
         }
        },
        "yaxis": {
         "anchor": "x",
         "domain": [
          0,
          1
         ],
         "title": {
          "text": "occurance_count"
         }
        }
       }
      }
     },
     "metadata": {},
     "output_type": "display_data"
    }
   ],
   "source": [
    "px.bar(guess_required, x=\"number_guesses\", y=\"occurance_count\", color=\"type\", barmode=\"group\")"
   ]
  },
  {
   "cell_type": "code",
   "execution_count": null,
   "metadata": {},
   "outputs": [],
   "source": []
  },
  {
   "cell_type": "code",
   "execution_count": null,
   "metadata": {},
   "outputs": [],
   "source": []
  }
 ],
 "metadata": {
  "kernelspec": {
   "display_name": "wordle",
   "language": "python",
   "name": "python3"
  },
  "language_info": {
   "codemirror_mode": {
    "name": "ipython",
    "version": 3
   },
   "file_extension": ".py",
   "mimetype": "text/x-python",
   "name": "python",
   "nbconvert_exporter": "python",
   "pygments_lexer": "ipython3",
   "version": "3.11.7"
  }
 },
 "nbformat": 4,
 "nbformat_minor": 2
}
