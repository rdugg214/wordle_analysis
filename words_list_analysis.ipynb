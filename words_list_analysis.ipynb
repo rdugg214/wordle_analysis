{
 "cells": [
  {
   "cell_type": "code",
   "execution_count": 66,
   "metadata": {},
   "outputs": [],
   "source": [
    "import pandas as pd\n",
    "import numpy as np\n",
    "import matplotlib.pyplot as plt\n",
    "import plotly.express as px\n",
    "\n",
    "from wordle_game import Wordle, WordleInfinite"
   ]
  },
  {
   "cell_type": "markdown",
   "metadata": {},
   "source": [
    "# Load dataset"
   ]
  },
  {
   "cell_type": "code",
   "execution_count": 67,
   "metadata": {},
   "outputs": [
    {
     "data": {
      "text/html": [
       "<div>\n",
       "<style scoped>\n",
       "    .dataframe tbody tr th:only-of-type {\n",
       "        vertical-align: middle;\n",
       "    }\n",
       "\n",
       "    .dataframe tbody tr th {\n",
       "        vertical-align: top;\n",
       "    }\n",
       "\n",
       "    .dataframe thead th {\n",
       "        text-align: right;\n",
       "    }\n",
       "</style>\n",
       "<table border=\"1\" class=\"dataframe\">\n",
       "  <thead>\n",
       "    <tr style=\"text-align: right;\">\n",
       "      <th></th>\n",
       "      <th>words</th>\n",
       "    </tr>\n",
       "  </thead>\n",
       "  <tbody>\n",
       "    <tr>\n",
       "      <th>0</th>\n",
       "      <td>rossa</td>\n",
       "    </tr>\n",
       "    <tr>\n",
       "      <th>1</th>\n",
       "      <td>jetty</td>\n",
       "    </tr>\n",
       "    <tr>\n",
       "      <th>2</th>\n",
       "      <td>wizzo</td>\n",
       "    </tr>\n",
       "    <tr>\n",
       "      <th>3</th>\n",
       "      <td>cuppa</td>\n",
       "    </tr>\n",
       "    <tr>\n",
       "      <th>4</th>\n",
       "      <td>cohoe</td>\n",
       "    </tr>\n",
       "    <tr>\n",
       "      <th>...</th>\n",
       "      <td>...</td>\n",
       "    </tr>\n",
       "    <tr>\n",
       "      <th>14850</th>\n",
       "      <td>dunny</td>\n",
       "    </tr>\n",
       "    <tr>\n",
       "      <th>14851</th>\n",
       "      <td>decal</td>\n",
       "    </tr>\n",
       "    <tr>\n",
       "      <th>14852</th>\n",
       "      <td>fungs</td>\n",
       "    </tr>\n",
       "    <tr>\n",
       "      <th>14853</th>\n",
       "      <td>cadgy</td>\n",
       "    </tr>\n",
       "    <tr>\n",
       "      <th>14854</th>\n",
       "      <td>jalap</td>\n",
       "    </tr>\n",
       "  </tbody>\n",
       "</table>\n",
       "<p>14855 rows × 1 columns</p>\n",
       "</div>"
      ],
      "text/plain": [
       "       words\n",
       "0      rossa\n",
       "1      jetty\n",
       "2      wizzo\n",
       "3      cuppa\n",
       "4      cohoe\n",
       "...      ...\n",
       "14850  dunny\n",
       "14851  decal\n",
       "14852  fungs\n",
       "14853  cadgy\n",
       "14854  jalap\n",
       "\n",
       "[14855 rows x 1 columns]"
      ]
     },
     "execution_count": 67,
     "metadata": {},
     "output_type": "execute_result"
    }
   ],
   "source": [
    "words = pd.read_csv(\"./datasets/words.txt\", header=None)\n",
    "words.columns = [\"words\"]\n",
    "words"
   ]
  },
  {
   "cell_type": "code",
   "execution_count": 68,
   "metadata": {},
   "outputs": [
    {
     "data": {
      "text/html": [
       "<div>\n",
       "<style scoped>\n",
       "    .dataframe tbody tr th:only-of-type {\n",
       "        vertical-align: middle;\n",
       "    }\n",
       "\n",
       "    .dataframe tbody tr th {\n",
       "        vertical-align: top;\n",
       "    }\n",
       "\n",
       "    .dataframe thead th {\n",
       "        text-align: right;\n",
       "    }\n",
       "</style>\n",
       "<table border=\"1\" class=\"dataframe\">\n",
       "  <thead>\n",
       "    <tr style=\"text-align: right;\">\n",
       "      <th></th>\n",
       "      <th>words</th>\n",
       "      <th>letter_1</th>\n",
       "      <th>letter_2</th>\n",
       "      <th>letter_3</th>\n",
       "      <th>letter_4</th>\n",
       "      <th>letter_5</th>\n",
       "    </tr>\n",
       "  </thead>\n",
       "  <tbody>\n",
       "    <tr>\n",
       "      <th>0</th>\n",
       "      <td>rossa</td>\n",
       "      <td>r</td>\n",
       "      <td>o</td>\n",
       "      <td>s</td>\n",
       "      <td>s</td>\n",
       "      <td>a</td>\n",
       "    </tr>\n",
       "    <tr>\n",
       "      <th>1</th>\n",
       "      <td>jetty</td>\n",
       "      <td>j</td>\n",
       "      <td>e</td>\n",
       "      <td>t</td>\n",
       "      <td>t</td>\n",
       "      <td>y</td>\n",
       "    </tr>\n",
       "    <tr>\n",
       "      <th>2</th>\n",
       "      <td>wizzo</td>\n",
       "      <td>w</td>\n",
       "      <td>i</td>\n",
       "      <td>z</td>\n",
       "      <td>z</td>\n",
       "      <td>o</td>\n",
       "    </tr>\n",
       "    <tr>\n",
       "      <th>3</th>\n",
       "      <td>cuppa</td>\n",
       "      <td>c</td>\n",
       "      <td>u</td>\n",
       "      <td>p</td>\n",
       "      <td>p</td>\n",
       "      <td>a</td>\n",
       "    </tr>\n",
       "    <tr>\n",
       "      <th>4</th>\n",
       "      <td>cohoe</td>\n",
       "      <td>c</td>\n",
       "      <td>o</td>\n",
       "      <td>h</td>\n",
       "      <td>o</td>\n",
       "      <td>e</td>\n",
       "    </tr>\n",
       "    <tr>\n",
       "      <th>...</th>\n",
       "      <td>...</td>\n",
       "      <td>...</td>\n",
       "      <td>...</td>\n",
       "      <td>...</td>\n",
       "      <td>...</td>\n",
       "      <td>...</td>\n",
       "    </tr>\n",
       "    <tr>\n",
       "      <th>14850</th>\n",
       "      <td>dunny</td>\n",
       "      <td>d</td>\n",
       "      <td>u</td>\n",
       "      <td>n</td>\n",
       "      <td>n</td>\n",
       "      <td>y</td>\n",
       "    </tr>\n",
       "    <tr>\n",
       "      <th>14851</th>\n",
       "      <td>decal</td>\n",
       "      <td>d</td>\n",
       "      <td>e</td>\n",
       "      <td>c</td>\n",
       "      <td>a</td>\n",
       "      <td>l</td>\n",
       "    </tr>\n",
       "    <tr>\n",
       "      <th>14852</th>\n",
       "      <td>fungs</td>\n",
       "      <td>f</td>\n",
       "      <td>u</td>\n",
       "      <td>n</td>\n",
       "      <td>g</td>\n",
       "      <td>s</td>\n",
       "    </tr>\n",
       "    <tr>\n",
       "      <th>14853</th>\n",
       "      <td>cadgy</td>\n",
       "      <td>c</td>\n",
       "      <td>a</td>\n",
       "      <td>d</td>\n",
       "      <td>g</td>\n",
       "      <td>y</td>\n",
       "    </tr>\n",
       "    <tr>\n",
       "      <th>14854</th>\n",
       "      <td>jalap</td>\n",
       "      <td>j</td>\n",
       "      <td>a</td>\n",
       "      <td>l</td>\n",
       "      <td>a</td>\n",
       "      <td>p</td>\n",
       "    </tr>\n",
       "  </tbody>\n",
       "</table>\n",
       "<p>14855 rows × 6 columns</p>\n",
       "</div>"
      ],
      "text/plain": [
       "       words letter_1 letter_2 letter_3 letter_4 letter_5\n",
       "0      rossa        r        o        s        s        a\n",
       "1      jetty        j        e        t        t        y\n",
       "2      wizzo        w        i        z        z        o\n",
       "3      cuppa        c        u        p        p        a\n",
       "4      cohoe        c        o        h        o        e\n",
       "...      ...      ...      ...      ...      ...      ...\n",
       "14850  dunny        d        u        n        n        y\n",
       "14851  decal        d        e        c        a        l\n",
       "14852  fungs        f        u        n        g        s\n",
       "14853  cadgy        c        a        d        g        y\n",
       "14854  jalap        j        a        l        a        p\n",
       "\n",
       "[14855 rows x 6 columns]"
      ]
     },
     "execution_count": 68,
     "metadata": {},
     "output_type": "execute_result"
    }
   ],
   "source": [
    "for i in range(5):\n",
    "    words[f\"letter_{i+1}\"] = words[\"words\"].apply(lambda x: x[i])\n",
    "\n",
    "words"
   ]
  },
  {
   "cell_type": "code",
   "execution_count": 69,
   "metadata": {},
   "outputs": [],
   "source": [
    "letter_cols = [f\"letter_{i+1}\" for i in range(5)]"
   ]
  },
  {
   "cell_type": "code",
   "execution_count": 70,
   "metadata": {},
   "outputs": [
    {
     "data": {
      "text/html": [
       "<div>\n",
       "<style scoped>\n",
       "    .dataframe tbody tr th:only-of-type {\n",
       "        vertical-align: middle;\n",
       "    }\n",
       "\n",
       "    .dataframe tbody tr th {\n",
       "        vertical-align: top;\n",
       "    }\n",
       "\n",
       "    .dataframe thead th {\n",
       "        text-align: right;\n",
       "    }\n",
       "</style>\n",
       "<table border=\"1\" class=\"dataframe\">\n",
       "  <thead>\n",
       "    <tr style=\"text-align: right;\">\n",
       "      <th></th>\n",
       "      <th>letters</th>\n",
       "      <th>position</th>\n",
       "      <th>count</th>\n",
       "      <th>total_counts</th>\n",
       "    </tr>\n",
       "  </thead>\n",
       "  <tbody>\n",
       "    <tr>\n",
       "      <th>20</th>\n",
       "      <td>e</td>\n",
       "      <td>letter_1</td>\n",
       "      <td>330</td>\n",
       "      <td>7455</td>\n",
       "    </tr>\n",
       "    <tr>\n",
       "      <th>21</th>\n",
       "      <td>e</td>\n",
       "      <td>letter_2</td>\n",
       "      <td>1857</td>\n",
       "      <td>7455</td>\n",
       "    </tr>\n",
       "    <tr>\n",
       "      <th>22</th>\n",
       "      <td>e</td>\n",
       "      <td>letter_3</td>\n",
       "      <td>998</td>\n",
       "      <td>7455</td>\n",
       "    </tr>\n",
       "    <tr>\n",
       "      <th>23</th>\n",
       "      <td>e</td>\n",
       "      <td>letter_4</td>\n",
       "      <td>2531</td>\n",
       "      <td>7455</td>\n",
       "    </tr>\n",
       "    <tr>\n",
       "      <th>24</th>\n",
       "      <td>e</td>\n",
       "      <td>letter_5</td>\n",
       "      <td>1739</td>\n",
       "      <td>7455</td>\n",
       "    </tr>\n",
       "    <tr>\n",
       "      <th>...</th>\n",
       "      <td>...</td>\n",
       "      <td>...</td>\n",
       "      <td>...</td>\n",
       "      <td>...</td>\n",
       "    </tr>\n",
       "    <tr>\n",
       "      <th>80</th>\n",
       "      <td>q</td>\n",
       "      <td>letter_1</td>\n",
       "      <td>103</td>\n",
       "      <td>145</td>\n",
       "    </tr>\n",
       "    <tr>\n",
       "      <th>81</th>\n",
       "      <td>q</td>\n",
       "      <td>letter_2</td>\n",
       "      <td>16</td>\n",
       "      <td>145</td>\n",
       "    </tr>\n",
       "    <tr>\n",
       "      <th>82</th>\n",
       "      <td>q</td>\n",
       "      <td>letter_3</td>\n",
       "      <td>18</td>\n",
       "      <td>145</td>\n",
       "    </tr>\n",
       "    <tr>\n",
       "      <th>83</th>\n",
       "      <td>q</td>\n",
       "      <td>letter_4</td>\n",
       "      <td>3</td>\n",
       "      <td>145</td>\n",
       "    </tr>\n",
       "    <tr>\n",
       "      <th>84</th>\n",
       "      <td>q</td>\n",
       "      <td>letter_5</td>\n",
       "      <td>5</td>\n",
       "      <td>145</td>\n",
       "    </tr>\n",
       "  </tbody>\n",
       "</table>\n",
       "<p>130 rows × 4 columns</p>\n",
       "</div>"
      ],
      "text/plain": [
       "   letters  position  count  total_counts\n",
       "20       e  letter_1    330          7455\n",
       "21       e  letter_2   1857          7455\n",
       "22       e  letter_3    998          7455\n",
       "23       e  letter_4   2531          7455\n",
       "24       e  letter_5   1739          7455\n",
       "..     ...       ...    ...           ...\n",
       "80       q  letter_1    103           145\n",
       "81       q  letter_2     16           145\n",
       "82       q  letter_3     18           145\n",
       "83       q  letter_4      3           145\n",
       "84       q  letter_5      5           145\n",
       "\n",
       "[130 rows x 4 columns]"
      ]
     },
     "execution_count": 70,
     "metadata": {},
     "output_type": "execute_result"
    }
   ],
   "source": [
    "all_letters = pd.concat([pd.DataFrame({\"letters\": words[col], \"position\": col, \"count\": 1}) for col in letter_cols])\n",
    "letter_counts = all_letters.groupby([\"letters\", \"position\"]).sum()\n",
    "letter_counts.reset_index(inplace=True)\n",
    "total_counts = letter_counts.groupby(\"letters\")[[\"count\"]].sum()\n",
    "total_counts.columns = [\"total_counts\"]\n",
    "total_counts.reset_index(inplace=True)\n",
    "letter_counts = letter_counts.merge(total_counts, on=\"letters\")\n",
    "letter_counts.sort_values([\"total_counts\", \"position\"], ascending=[False, True], inplace=True)\n",
    "letter_counts"
   ]
  },
  {
   "cell_type": "code",
   "execution_count": 71,
   "metadata": {},
   "outputs": [
    {
     "data": {
      "application/vnd.plotly.v1+json": {
       "config": {
        "plotlyServerURL": "https://plot.ly"
       },
       "data": [
        {
         "alignmentgroup": "True",
         "hovertemplate": "position=letter_1<br>letters=%{x}<br>count=%{y}<extra></extra>",
         "legendgroup": "letter_1",
         "marker": {
          "color": "#636efa",
          "pattern": {
           "shape": ""
          }
         },
         "name": "letter_1",
         "offsetgroup": "letter_1",
         "orientation": "v",
         "showlegend": true,
         "textposition": "auto",
         "type": "bar",
         "x": [
          "e",
          "s",
          "a",
          "o",
          "r",
          "i",
          "l",
          "t",
          "n",
          "u",
          "d",
          "p",
          "m",
          "y",
          "c",
          "h",
          "g",
          "b",
          "k",
          "f",
          "w",
          "v",
          "z",
          "j",
          "x",
          "q"
         ],
         "xaxis": "x",
         "y": [
          330,
          1666,
          868,
          352,
          795,
          180,
          625,
          882,
          468,
          217,
          735,
          1130,
          951,
          205,
          970,
          532,
          685,
          1003,
          429,
          646,
          434,
          284,
          122,
          225,
          18,
          103
         ],
         "yaxis": "y"
        },
        {
         "alignmentgroup": "True",
         "hovertemplate": "position=letter_2<br>letters=%{x}<br>count=%{y}<extra></extra>",
         "legendgroup": "letter_2",
         "marker": {
          "color": "#EF553B",
          "pattern": {
           "shape": ""
          }
         },
         "name": "letter_2",
         "offsetgroup": "letter_2",
         "orientation": "v",
         "showlegend": true,
         "textposition": "auto",
         "type": "bar",
         "x": [
          "e",
          "s",
          "a",
          "o",
          "r",
          "i",
          "l",
          "t",
          "n",
          "u",
          "d",
          "p",
          "m",
          "y",
          "c",
          "h",
          "g",
          "b",
          "k",
          "f",
          "w",
          "v",
          "z",
          "j",
          "x",
          "q"
         ],
         "xaxis": "x",
         "y": [
          1857,
          113,
          2682,
          2414,
          1019,
          1598,
          774,
          256,
          388,
          1368,
          108,
          249,
          211,
          298,
          207,
          604,
          94,
          108,
          114,
          37,
          177,
          57,
          30,
          13,
          63,
          16
         ],
         "yaxis": "y"
        },
        {
         "alignmentgroup": "True",
         "hovertemplate": "position=letter_3<br>letters=%{x}<br>count=%{y}<extra></extra>",
         "legendgroup": "letter_3",
         "marker": {
          "color": "#00cc96",
          "pattern": {
           "shape": ""
          }
         },
         "name": "letter_3",
         "offsetgroup": "letter_3",
         "orientation": "v",
         "showlegend": true,
         "textposition": "auto",
         "type": "bar",
         "x": [
          "e",
          "s",
          "a",
          "o",
          "r",
          "i",
          "l",
          "t",
          "n",
          "u",
          "d",
          "p",
          "m",
          "y",
          "c",
          "h",
          "g",
          "b",
          "k",
          "f",
          "w",
          "v",
          "z",
          "j",
          "x",
          "q"
         ],
         "xaxis": "x",
         "y": [
          998,
          613,
          1374,
          1113,
          1354,
          1173,
          973,
          735,
          1119,
          754,
          467,
          426,
          580,
          246,
          467,
          146,
          427,
          386,
          329,
          204,
          305,
          278,
          165,
          59,
          146,
          18
         ],
         "yaxis": "y"
        },
        {
         "alignmentgroup": "True",
         "hovertemplate": "position=letter_4<br>letters=%{x}<br>count=%{y}<extra></extra>",
         "legendgroup": "letter_4",
         "marker": {
          "color": "#ab63fa",
          "pattern": {
           "shape": ""
          }
         },
         "name": "letter_4",
         "offsetgroup": "letter_4",
         "orientation": "v",
         "showlegend": true,
         "textposition": "auto",
         "type": "bar",
         "x": [
          "e",
          "s",
          "a",
          "o",
          "r",
          "i",
          "l",
          "t",
          "n",
          "u",
          "d",
          "p",
          "m",
          "y",
          "c",
          "h",
          "g",
          "b",
          "k",
          "f",
          "w",
          "v",
          "z",
          "j",
          "x",
          "q"
         ],
         "xaxis": "x",
         "y": [
          2531,
          588,
          1319,
          827,
          809,
          1048,
          869,
          1039,
          885,
          492,
          551,
          466,
          445,
          124,
          456,
          283,
          487,
          282,
          571,
          258,
          143,
          177,
          145,
          42,
          15,
          3
         ],
         "yaxis": "y"
        },
        {
         "alignmentgroup": "True",
         "hovertemplate": "position=letter_5<br>letters=%{x}<br>count=%{y}<extra></extra>",
         "legendgroup": "letter_5",
         "marker": {
          "color": "#FFA15A",
          "pattern": {
           "shape": ""
          }
         },
         "name": "letter_5",
         "offsetgroup": "letter_5",
         "orientation": "v",
         "showlegend": true,
         "textposition": "auto",
         "type": "bar",
         "x": [
          "e",
          "s",
          "a",
          "o",
          "r",
          "i",
          "l",
          "t",
          "n",
          "u",
          "d",
          "p",
          "m",
          "y",
          "c",
          "h",
          "g",
          "b",
          "k",
          "f",
          "w",
          "v",
          "z",
          "j",
          "x",
          "q"
         ],
         "xaxis": "x",
         "y": [
          1739,
          4339,
          885,
          506,
          737,
          382,
          539,
          795,
          618,
          96,
          874,
          165,
          227,
          1527,
          146,
          428,
          171,
          70,
          310,
          95,
          68,
          5,
          41,
          3,
          84,
          5
         ],
         "yaxis": "y"
        }
       ],
       "layout": {
        "barmode": "relative",
        "legend": {
         "title": {
          "text": "position"
         },
         "tracegroupgap": 0
        },
        "template": {
         "data": {
          "bar": [
           {
            "error_x": {
             "color": "#2a3f5f"
            },
            "error_y": {
             "color": "#2a3f5f"
            },
            "marker": {
             "line": {
              "color": "#E5ECF6",
              "width": 0.5
             },
             "pattern": {
              "fillmode": "overlay",
              "size": 10,
              "solidity": 0.2
             }
            },
            "type": "bar"
           }
          ],
          "barpolar": [
           {
            "marker": {
             "line": {
              "color": "#E5ECF6",
              "width": 0.5
             },
             "pattern": {
              "fillmode": "overlay",
              "size": 10,
              "solidity": 0.2
             }
            },
            "type": "barpolar"
           }
          ],
          "carpet": [
           {
            "aaxis": {
             "endlinecolor": "#2a3f5f",
             "gridcolor": "white",
             "linecolor": "white",
             "minorgridcolor": "white",
             "startlinecolor": "#2a3f5f"
            },
            "baxis": {
             "endlinecolor": "#2a3f5f",
             "gridcolor": "white",
             "linecolor": "white",
             "minorgridcolor": "white",
             "startlinecolor": "#2a3f5f"
            },
            "type": "carpet"
           }
          ],
          "choropleth": [
           {
            "colorbar": {
             "outlinewidth": 0,
             "ticks": ""
            },
            "type": "choropleth"
           }
          ],
          "contour": [
           {
            "colorbar": {
             "outlinewidth": 0,
             "ticks": ""
            },
            "colorscale": [
             [
              0,
              "#0d0887"
             ],
             [
              0.1111111111111111,
              "#46039f"
             ],
             [
              0.2222222222222222,
              "#7201a8"
             ],
             [
              0.3333333333333333,
              "#9c179e"
             ],
             [
              0.4444444444444444,
              "#bd3786"
             ],
             [
              0.5555555555555556,
              "#d8576b"
             ],
             [
              0.6666666666666666,
              "#ed7953"
             ],
             [
              0.7777777777777778,
              "#fb9f3a"
             ],
             [
              0.8888888888888888,
              "#fdca26"
             ],
             [
              1,
              "#f0f921"
             ]
            ],
            "type": "contour"
           }
          ],
          "contourcarpet": [
           {
            "colorbar": {
             "outlinewidth": 0,
             "ticks": ""
            },
            "type": "contourcarpet"
           }
          ],
          "heatmap": [
           {
            "colorbar": {
             "outlinewidth": 0,
             "ticks": ""
            },
            "colorscale": [
             [
              0,
              "#0d0887"
             ],
             [
              0.1111111111111111,
              "#46039f"
             ],
             [
              0.2222222222222222,
              "#7201a8"
             ],
             [
              0.3333333333333333,
              "#9c179e"
             ],
             [
              0.4444444444444444,
              "#bd3786"
             ],
             [
              0.5555555555555556,
              "#d8576b"
             ],
             [
              0.6666666666666666,
              "#ed7953"
             ],
             [
              0.7777777777777778,
              "#fb9f3a"
             ],
             [
              0.8888888888888888,
              "#fdca26"
             ],
             [
              1,
              "#f0f921"
             ]
            ],
            "type": "heatmap"
           }
          ],
          "heatmapgl": [
           {
            "colorbar": {
             "outlinewidth": 0,
             "ticks": ""
            },
            "colorscale": [
             [
              0,
              "#0d0887"
             ],
             [
              0.1111111111111111,
              "#46039f"
             ],
             [
              0.2222222222222222,
              "#7201a8"
             ],
             [
              0.3333333333333333,
              "#9c179e"
             ],
             [
              0.4444444444444444,
              "#bd3786"
             ],
             [
              0.5555555555555556,
              "#d8576b"
             ],
             [
              0.6666666666666666,
              "#ed7953"
             ],
             [
              0.7777777777777778,
              "#fb9f3a"
             ],
             [
              0.8888888888888888,
              "#fdca26"
             ],
             [
              1,
              "#f0f921"
             ]
            ],
            "type": "heatmapgl"
           }
          ],
          "histogram": [
           {
            "marker": {
             "pattern": {
              "fillmode": "overlay",
              "size": 10,
              "solidity": 0.2
             }
            },
            "type": "histogram"
           }
          ],
          "histogram2d": [
           {
            "colorbar": {
             "outlinewidth": 0,
             "ticks": ""
            },
            "colorscale": [
             [
              0,
              "#0d0887"
             ],
             [
              0.1111111111111111,
              "#46039f"
             ],
             [
              0.2222222222222222,
              "#7201a8"
             ],
             [
              0.3333333333333333,
              "#9c179e"
             ],
             [
              0.4444444444444444,
              "#bd3786"
             ],
             [
              0.5555555555555556,
              "#d8576b"
             ],
             [
              0.6666666666666666,
              "#ed7953"
             ],
             [
              0.7777777777777778,
              "#fb9f3a"
             ],
             [
              0.8888888888888888,
              "#fdca26"
             ],
             [
              1,
              "#f0f921"
             ]
            ],
            "type": "histogram2d"
           }
          ],
          "histogram2dcontour": [
           {
            "colorbar": {
             "outlinewidth": 0,
             "ticks": ""
            },
            "colorscale": [
             [
              0,
              "#0d0887"
             ],
             [
              0.1111111111111111,
              "#46039f"
             ],
             [
              0.2222222222222222,
              "#7201a8"
             ],
             [
              0.3333333333333333,
              "#9c179e"
             ],
             [
              0.4444444444444444,
              "#bd3786"
             ],
             [
              0.5555555555555556,
              "#d8576b"
             ],
             [
              0.6666666666666666,
              "#ed7953"
             ],
             [
              0.7777777777777778,
              "#fb9f3a"
             ],
             [
              0.8888888888888888,
              "#fdca26"
             ],
             [
              1,
              "#f0f921"
             ]
            ],
            "type": "histogram2dcontour"
           }
          ],
          "mesh3d": [
           {
            "colorbar": {
             "outlinewidth": 0,
             "ticks": ""
            },
            "type": "mesh3d"
           }
          ],
          "parcoords": [
           {
            "line": {
             "colorbar": {
              "outlinewidth": 0,
              "ticks": ""
             }
            },
            "type": "parcoords"
           }
          ],
          "pie": [
           {
            "automargin": true,
            "type": "pie"
           }
          ],
          "scatter": [
           {
            "fillpattern": {
             "fillmode": "overlay",
             "size": 10,
             "solidity": 0.2
            },
            "type": "scatter"
           }
          ],
          "scatter3d": [
           {
            "line": {
             "colorbar": {
              "outlinewidth": 0,
              "ticks": ""
             }
            },
            "marker": {
             "colorbar": {
              "outlinewidth": 0,
              "ticks": ""
             }
            },
            "type": "scatter3d"
           }
          ],
          "scattercarpet": [
           {
            "marker": {
             "colorbar": {
              "outlinewidth": 0,
              "ticks": ""
             }
            },
            "type": "scattercarpet"
           }
          ],
          "scattergeo": [
           {
            "marker": {
             "colorbar": {
              "outlinewidth": 0,
              "ticks": ""
             }
            },
            "type": "scattergeo"
           }
          ],
          "scattergl": [
           {
            "marker": {
             "colorbar": {
              "outlinewidth": 0,
              "ticks": ""
             }
            },
            "type": "scattergl"
           }
          ],
          "scattermapbox": [
           {
            "marker": {
             "colorbar": {
              "outlinewidth": 0,
              "ticks": ""
             }
            },
            "type": "scattermapbox"
           }
          ],
          "scatterpolar": [
           {
            "marker": {
             "colorbar": {
              "outlinewidth": 0,
              "ticks": ""
             }
            },
            "type": "scatterpolar"
           }
          ],
          "scatterpolargl": [
           {
            "marker": {
             "colorbar": {
              "outlinewidth": 0,
              "ticks": ""
             }
            },
            "type": "scatterpolargl"
           }
          ],
          "scatterternary": [
           {
            "marker": {
             "colorbar": {
              "outlinewidth": 0,
              "ticks": ""
             }
            },
            "type": "scatterternary"
           }
          ],
          "surface": [
           {
            "colorbar": {
             "outlinewidth": 0,
             "ticks": ""
            },
            "colorscale": [
             [
              0,
              "#0d0887"
             ],
             [
              0.1111111111111111,
              "#46039f"
             ],
             [
              0.2222222222222222,
              "#7201a8"
             ],
             [
              0.3333333333333333,
              "#9c179e"
             ],
             [
              0.4444444444444444,
              "#bd3786"
             ],
             [
              0.5555555555555556,
              "#d8576b"
             ],
             [
              0.6666666666666666,
              "#ed7953"
             ],
             [
              0.7777777777777778,
              "#fb9f3a"
             ],
             [
              0.8888888888888888,
              "#fdca26"
             ],
             [
              1,
              "#f0f921"
             ]
            ],
            "type": "surface"
           }
          ],
          "table": [
           {
            "cells": {
             "fill": {
              "color": "#EBF0F8"
             },
             "line": {
              "color": "white"
             }
            },
            "header": {
             "fill": {
              "color": "#C8D4E3"
             },
             "line": {
              "color": "white"
             }
            },
            "type": "table"
           }
          ]
         },
         "layout": {
          "annotationdefaults": {
           "arrowcolor": "#2a3f5f",
           "arrowhead": 0,
           "arrowwidth": 1
          },
          "autotypenumbers": "strict",
          "coloraxis": {
           "colorbar": {
            "outlinewidth": 0,
            "ticks": ""
           }
          },
          "colorscale": {
           "diverging": [
            [
             0,
             "#8e0152"
            ],
            [
             0.1,
             "#c51b7d"
            ],
            [
             0.2,
             "#de77ae"
            ],
            [
             0.3,
             "#f1b6da"
            ],
            [
             0.4,
             "#fde0ef"
            ],
            [
             0.5,
             "#f7f7f7"
            ],
            [
             0.6,
             "#e6f5d0"
            ],
            [
             0.7,
             "#b8e186"
            ],
            [
             0.8,
             "#7fbc41"
            ],
            [
             0.9,
             "#4d9221"
            ],
            [
             1,
             "#276419"
            ]
           ],
           "sequential": [
            [
             0,
             "#0d0887"
            ],
            [
             0.1111111111111111,
             "#46039f"
            ],
            [
             0.2222222222222222,
             "#7201a8"
            ],
            [
             0.3333333333333333,
             "#9c179e"
            ],
            [
             0.4444444444444444,
             "#bd3786"
            ],
            [
             0.5555555555555556,
             "#d8576b"
            ],
            [
             0.6666666666666666,
             "#ed7953"
            ],
            [
             0.7777777777777778,
             "#fb9f3a"
            ],
            [
             0.8888888888888888,
             "#fdca26"
            ],
            [
             1,
             "#f0f921"
            ]
           ],
           "sequentialminus": [
            [
             0,
             "#0d0887"
            ],
            [
             0.1111111111111111,
             "#46039f"
            ],
            [
             0.2222222222222222,
             "#7201a8"
            ],
            [
             0.3333333333333333,
             "#9c179e"
            ],
            [
             0.4444444444444444,
             "#bd3786"
            ],
            [
             0.5555555555555556,
             "#d8576b"
            ],
            [
             0.6666666666666666,
             "#ed7953"
            ],
            [
             0.7777777777777778,
             "#fb9f3a"
            ],
            [
             0.8888888888888888,
             "#fdca26"
            ],
            [
             1,
             "#f0f921"
            ]
           ]
          },
          "colorway": [
           "#636efa",
           "#EF553B",
           "#00cc96",
           "#ab63fa",
           "#FFA15A",
           "#19d3f3",
           "#FF6692",
           "#B6E880",
           "#FF97FF",
           "#FECB52"
          ],
          "font": {
           "color": "#2a3f5f"
          },
          "geo": {
           "bgcolor": "white",
           "lakecolor": "white",
           "landcolor": "#E5ECF6",
           "showlakes": true,
           "showland": true,
           "subunitcolor": "white"
          },
          "hoverlabel": {
           "align": "left"
          },
          "hovermode": "closest",
          "mapbox": {
           "style": "light"
          },
          "paper_bgcolor": "white",
          "plot_bgcolor": "#E5ECF6",
          "polar": {
           "angularaxis": {
            "gridcolor": "white",
            "linecolor": "white",
            "ticks": ""
           },
           "bgcolor": "#E5ECF6",
           "radialaxis": {
            "gridcolor": "white",
            "linecolor": "white",
            "ticks": ""
           }
          },
          "scene": {
           "xaxis": {
            "backgroundcolor": "#E5ECF6",
            "gridcolor": "white",
            "gridwidth": 2,
            "linecolor": "white",
            "showbackground": true,
            "ticks": "",
            "zerolinecolor": "white"
           },
           "yaxis": {
            "backgroundcolor": "#E5ECF6",
            "gridcolor": "white",
            "gridwidth": 2,
            "linecolor": "white",
            "showbackground": true,
            "ticks": "",
            "zerolinecolor": "white"
           },
           "zaxis": {
            "backgroundcolor": "#E5ECF6",
            "gridcolor": "white",
            "gridwidth": 2,
            "linecolor": "white",
            "showbackground": true,
            "ticks": "",
            "zerolinecolor": "white"
           }
          },
          "shapedefaults": {
           "line": {
            "color": "#2a3f5f"
           }
          },
          "ternary": {
           "aaxis": {
            "gridcolor": "white",
            "linecolor": "white",
            "ticks": ""
           },
           "baxis": {
            "gridcolor": "white",
            "linecolor": "white",
            "ticks": ""
           },
           "bgcolor": "#E5ECF6",
           "caxis": {
            "gridcolor": "white",
            "linecolor": "white",
            "ticks": ""
           }
          },
          "title": {
           "x": 0.05
          },
          "xaxis": {
           "automargin": true,
           "gridcolor": "white",
           "linecolor": "white",
           "ticks": "",
           "title": {
            "standoff": 15
           },
           "zerolinecolor": "white",
           "zerolinewidth": 2
          },
          "yaxis": {
           "automargin": true,
           "gridcolor": "white",
           "linecolor": "white",
           "ticks": "",
           "title": {
            "standoff": 15
           },
           "zerolinecolor": "white",
           "zerolinewidth": 2
          }
         }
        },
        "title": {
         "text": "Occurance counts of letters"
        },
        "xaxis": {
         "anchor": "y",
         "domain": [
          0,
          1
         ],
         "title": {
          "text": "letters"
         }
        },
        "yaxis": {
         "anchor": "x",
         "domain": [
          0,
          1
         ],
         "title": {
          "text": "count"
         }
        }
       }
      }
     },
     "metadata": {},
     "output_type": "display_data"
    }
   ],
   "source": [
    "px.bar(letter_counts, x=\"letters\", y=\"count\", color=\"position\", title=\"Occurance counts of letters\")"
   ]
  },
  {
   "cell_type": "code",
   "execution_count": 72,
   "metadata": {},
   "outputs": [
    {
     "data": {
      "application/vnd.plotly.v1+json": {
       "config": {
        "plotlyServerURL": "https://plot.ly"
       },
       "data": [
        {
         "alignmentgroup": "True",
         "hovertemplate": "position=letter_1<br>letters=%{x}<br>count=%{y}<extra></extra>",
         "legendgroup": "letter_1",
         "marker": {
          "color": "#636efa",
          "pattern": {
           "shape": ""
          }
         },
         "name": "letter_1",
         "offsetgroup": "letter_1",
         "orientation": "v",
         "showlegend": true,
         "textposition": "auto",
         "type": "bar",
         "x": [
          "e",
          "a",
          "o",
          "i",
          "u",
          "y"
         ],
         "xaxis": "x",
         "y": [
          330,
          868,
          352,
          180,
          217,
          205
         ],
         "yaxis": "y"
        },
        {
         "alignmentgroup": "True",
         "hovertemplate": "position=letter_2<br>letters=%{x}<br>count=%{y}<extra></extra>",
         "legendgroup": "letter_2",
         "marker": {
          "color": "#EF553B",
          "pattern": {
           "shape": ""
          }
         },
         "name": "letter_2",
         "offsetgroup": "letter_2",
         "orientation": "v",
         "showlegend": true,
         "textposition": "auto",
         "type": "bar",
         "x": [
          "e",
          "a",
          "o",
          "i",
          "u",
          "y"
         ],
         "xaxis": "x",
         "y": [
          1857,
          2682,
          2414,
          1598,
          1368,
          298
         ],
         "yaxis": "y"
        },
        {
         "alignmentgroup": "True",
         "hovertemplate": "position=letter_3<br>letters=%{x}<br>count=%{y}<extra></extra>",
         "legendgroup": "letter_3",
         "marker": {
          "color": "#00cc96",
          "pattern": {
           "shape": ""
          }
         },
         "name": "letter_3",
         "offsetgroup": "letter_3",
         "orientation": "v",
         "showlegend": true,
         "textposition": "auto",
         "type": "bar",
         "x": [
          "e",
          "a",
          "o",
          "i",
          "u",
          "y"
         ],
         "xaxis": "x",
         "y": [
          998,
          1374,
          1113,
          1173,
          754,
          246
         ],
         "yaxis": "y"
        },
        {
         "alignmentgroup": "True",
         "hovertemplate": "position=letter_4<br>letters=%{x}<br>count=%{y}<extra></extra>",
         "legendgroup": "letter_4",
         "marker": {
          "color": "#ab63fa",
          "pattern": {
           "shape": ""
          }
         },
         "name": "letter_4",
         "offsetgroup": "letter_4",
         "orientation": "v",
         "showlegend": true,
         "textposition": "auto",
         "type": "bar",
         "x": [
          "e",
          "a",
          "o",
          "i",
          "u",
          "y"
         ],
         "xaxis": "x",
         "y": [
          2531,
          1319,
          827,
          1048,
          492,
          124
         ],
         "yaxis": "y"
        },
        {
         "alignmentgroup": "True",
         "hovertemplate": "position=letter_5<br>letters=%{x}<br>count=%{y}<extra></extra>",
         "legendgroup": "letter_5",
         "marker": {
          "color": "#FFA15A",
          "pattern": {
           "shape": ""
          }
         },
         "name": "letter_5",
         "offsetgroup": "letter_5",
         "orientation": "v",
         "showlegend": true,
         "textposition": "auto",
         "type": "bar",
         "x": [
          "e",
          "a",
          "o",
          "i",
          "u",
          "y"
         ],
         "xaxis": "x",
         "y": [
          1739,
          885,
          506,
          382,
          96,
          1527
         ],
         "yaxis": "y"
        }
       ],
       "layout": {
        "barmode": "relative",
        "legend": {
         "title": {
          "text": "position"
         },
         "tracegroupgap": 0
        },
        "template": {
         "data": {
          "bar": [
           {
            "error_x": {
             "color": "#2a3f5f"
            },
            "error_y": {
             "color": "#2a3f5f"
            },
            "marker": {
             "line": {
              "color": "#E5ECF6",
              "width": 0.5
             },
             "pattern": {
              "fillmode": "overlay",
              "size": 10,
              "solidity": 0.2
             }
            },
            "type": "bar"
           }
          ],
          "barpolar": [
           {
            "marker": {
             "line": {
              "color": "#E5ECF6",
              "width": 0.5
             },
             "pattern": {
              "fillmode": "overlay",
              "size": 10,
              "solidity": 0.2
             }
            },
            "type": "barpolar"
           }
          ],
          "carpet": [
           {
            "aaxis": {
             "endlinecolor": "#2a3f5f",
             "gridcolor": "white",
             "linecolor": "white",
             "minorgridcolor": "white",
             "startlinecolor": "#2a3f5f"
            },
            "baxis": {
             "endlinecolor": "#2a3f5f",
             "gridcolor": "white",
             "linecolor": "white",
             "minorgridcolor": "white",
             "startlinecolor": "#2a3f5f"
            },
            "type": "carpet"
           }
          ],
          "choropleth": [
           {
            "colorbar": {
             "outlinewidth": 0,
             "ticks": ""
            },
            "type": "choropleth"
           }
          ],
          "contour": [
           {
            "colorbar": {
             "outlinewidth": 0,
             "ticks": ""
            },
            "colorscale": [
             [
              0,
              "#0d0887"
             ],
             [
              0.1111111111111111,
              "#46039f"
             ],
             [
              0.2222222222222222,
              "#7201a8"
             ],
             [
              0.3333333333333333,
              "#9c179e"
             ],
             [
              0.4444444444444444,
              "#bd3786"
             ],
             [
              0.5555555555555556,
              "#d8576b"
             ],
             [
              0.6666666666666666,
              "#ed7953"
             ],
             [
              0.7777777777777778,
              "#fb9f3a"
             ],
             [
              0.8888888888888888,
              "#fdca26"
             ],
             [
              1,
              "#f0f921"
             ]
            ],
            "type": "contour"
           }
          ],
          "contourcarpet": [
           {
            "colorbar": {
             "outlinewidth": 0,
             "ticks": ""
            },
            "type": "contourcarpet"
           }
          ],
          "heatmap": [
           {
            "colorbar": {
             "outlinewidth": 0,
             "ticks": ""
            },
            "colorscale": [
             [
              0,
              "#0d0887"
             ],
             [
              0.1111111111111111,
              "#46039f"
             ],
             [
              0.2222222222222222,
              "#7201a8"
             ],
             [
              0.3333333333333333,
              "#9c179e"
             ],
             [
              0.4444444444444444,
              "#bd3786"
             ],
             [
              0.5555555555555556,
              "#d8576b"
             ],
             [
              0.6666666666666666,
              "#ed7953"
             ],
             [
              0.7777777777777778,
              "#fb9f3a"
             ],
             [
              0.8888888888888888,
              "#fdca26"
             ],
             [
              1,
              "#f0f921"
             ]
            ],
            "type": "heatmap"
           }
          ],
          "heatmapgl": [
           {
            "colorbar": {
             "outlinewidth": 0,
             "ticks": ""
            },
            "colorscale": [
             [
              0,
              "#0d0887"
             ],
             [
              0.1111111111111111,
              "#46039f"
             ],
             [
              0.2222222222222222,
              "#7201a8"
             ],
             [
              0.3333333333333333,
              "#9c179e"
             ],
             [
              0.4444444444444444,
              "#bd3786"
             ],
             [
              0.5555555555555556,
              "#d8576b"
             ],
             [
              0.6666666666666666,
              "#ed7953"
             ],
             [
              0.7777777777777778,
              "#fb9f3a"
             ],
             [
              0.8888888888888888,
              "#fdca26"
             ],
             [
              1,
              "#f0f921"
             ]
            ],
            "type": "heatmapgl"
           }
          ],
          "histogram": [
           {
            "marker": {
             "pattern": {
              "fillmode": "overlay",
              "size": 10,
              "solidity": 0.2
             }
            },
            "type": "histogram"
           }
          ],
          "histogram2d": [
           {
            "colorbar": {
             "outlinewidth": 0,
             "ticks": ""
            },
            "colorscale": [
             [
              0,
              "#0d0887"
             ],
             [
              0.1111111111111111,
              "#46039f"
             ],
             [
              0.2222222222222222,
              "#7201a8"
             ],
             [
              0.3333333333333333,
              "#9c179e"
             ],
             [
              0.4444444444444444,
              "#bd3786"
             ],
             [
              0.5555555555555556,
              "#d8576b"
             ],
             [
              0.6666666666666666,
              "#ed7953"
             ],
             [
              0.7777777777777778,
              "#fb9f3a"
             ],
             [
              0.8888888888888888,
              "#fdca26"
             ],
             [
              1,
              "#f0f921"
             ]
            ],
            "type": "histogram2d"
           }
          ],
          "histogram2dcontour": [
           {
            "colorbar": {
             "outlinewidth": 0,
             "ticks": ""
            },
            "colorscale": [
             [
              0,
              "#0d0887"
             ],
             [
              0.1111111111111111,
              "#46039f"
             ],
             [
              0.2222222222222222,
              "#7201a8"
             ],
             [
              0.3333333333333333,
              "#9c179e"
             ],
             [
              0.4444444444444444,
              "#bd3786"
             ],
             [
              0.5555555555555556,
              "#d8576b"
             ],
             [
              0.6666666666666666,
              "#ed7953"
             ],
             [
              0.7777777777777778,
              "#fb9f3a"
             ],
             [
              0.8888888888888888,
              "#fdca26"
             ],
             [
              1,
              "#f0f921"
             ]
            ],
            "type": "histogram2dcontour"
           }
          ],
          "mesh3d": [
           {
            "colorbar": {
             "outlinewidth": 0,
             "ticks": ""
            },
            "type": "mesh3d"
           }
          ],
          "parcoords": [
           {
            "line": {
             "colorbar": {
              "outlinewidth": 0,
              "ticks": ""
             }
            },
            "type": "parcoords"
           }
          ],
          "pie": [
           {
            "automargin": true,
            "type": "pie"
           }
          ],
          "scatter": [
           {
            "fillpattern": {
             "fillmode": "overlay",
             "size": 10,
             "solidity": 0.2
            },
            "type": "scatter"
           }
          ],
          "scatter3d": [
           {
            "line": {
             "colorbar": {
              "outlinewidth": 0,
              "ticks": ""
             }
            },
            "marker": {
             "colorbar": {
              "outlinewidth": 0,
              "ticks": ""
             }
            },
            "type": "scatter3d"
           }
          ],
          "scattercarpet": [
           {
            "marker": {
             "colorbar": {
              "outlinewidth": 0,
              "ticks": ""
             }
            },
            "type": "scattercarpet"
           }
          ],
          "scattergeo": [
           {
            "marker": {
             "colorbar": {
              "outlinewidth": 0,
              "ticks": ""
             }
            },
            "type": "scattergeo"
           }
          ],
          "scattergl": [
           {
            "marker": {
             "colorbar": {
              "outlinewidth": 0,
              "ticks": ""
             }
            },
            "type": "scattergl"
           }
          ],
          "scattermapbox": [
           {
            "marker": {
             "colorbar": {
              "outlinewidth": 0,
              "ticks": ""
             }
            },
            "type": "scattermapbox"
           }
          ],
          "scatterpolar": [
           {
            "marker": {
             "colorbar": {
              "outlinewidth": 0,
              "ticks": ""
             }
            },
            "type": "scatterpolar"
           }
          ],
          "scatterpolargl": [
           {
            "marker": {
             "colorbar": {
              "outlinewidth": 0,
              "ticks": ""
             }
            },
            "type": "scatterpolargl"
           }
          ],
          "scatterternary": [
           {
            "marker": {
             "colorbar": {
              "outlinewidth": 0,
              "ticks": ""
             }
            },
            "type": "scatterternary"
           }
          ],
          "surface": [
           {
            "colorbar": {
             "outlinewidth": 0,
             "ticks": ""
            },
            "colorscale": [
             [
              0,
              "#0d0887"
             ],
             [
              0.1111111111111111,
              "#46039f"
             ],
             [
              0.2222222222222222,
              "#7201a8"
             ],
             [
              0.3333333333333333,
              "#9c179e"
             ],
             [
              0.4444444444444444,
              "#bd3786"
             ],
             [
              0.5555555555555556,
              "#d8576b"
             ],
             [
              0.6666666666666666,
              "#ed7953"
             ],
             [
              0.7777777777777778,
              "#fb9f3a"
             ],
             [
              0.8888888888888888,
              "#fdca26"
             ],
             [
              1,
              "#f0f921"
             ]
            ],
            "type": "surface"
           }
          ],
          "table": [
           {
            "cells": {
             "fill": {
              "color": "#EBF0F8"
             },
             "line": {
              "color": "white"
             }
            },
            "header": {
             "fill": {
              "color": "#C8D4E3"
             },
             "line": {
              "color": "white"
             }
            },
            "type": "table"
           }
          ]
         },
         "layout": {
          "annotationdefaults": {
           "arrowcolor": "#2a3f5f",
           "arrowhead": 0,
           "arrowwidth": 1
          },
          "autotypenumbers": "strict",
          "coloraxis": {
           "colorbar": {
            "outlinewidth": 0,
            "ticks": ""
           }
          },
          "colorscale": {
           "diverging": [
            [
             0,
             "#8e0152"
            ],
            [
             0.1,
             "#c51b7d"
            ],
            [
             0.2,
             "#de77ae"
            ],
            [
             0.3,
             "#f1b6da"
            ],
            [
             0.4,
             "#fde0ef"
            ],
            [
             0.5,
             "#f7f7f7"
            ],
            [
             0.6,
             "#e6f5d0"
            ],
            [
             0.7,
             "#b8e186"
            ],
            [
             0.8,
             "#7fbc41"
            ],
            [
             0.9,
             "#4d9221"
            ],
            [
             1,
             "#276419"
            ]
           ],
           "sequential": [
            [
             0,
             "#0d0887"
            ],
            [
             0.1111111111111111,
             "#46039f"
            ],
            [
             0.2222222222222222,
             "#7201a8"
            ],
            [
             0.3333333333333333,
             "#9c179e"
            ],
            [
             0.4444444444444444,
             "#bd3786"
            ],
            [
             0.5555555555555556,
             "#d8576b"
            ],
            [
             0.6666666666666666,
             "#ed7953"
            ],
            [
             0.7777777777777778,
             "#fb9f3a"
            ],
            [
             0.8888888888888888,
             "#fdca26"
            ],
            [
             1,
             "#f0f921"
            ]
           ],
           "sequentialminus": [
            [
             0,
             "#0d0887"
            ],
            [
             0.1111111111111111,
             "#46039f"
            ],
            [
             0.2222222222222222,
             "#7201a8"
            ],
            [
             0.3333333333333333,
             "#9c179e"
            ],
            [
             0.4444444444444444,
             "#bd3786"
            ],
            [
             0.5555555555555556,
             "#d8576b"
            ],
            [
             0.6666666666666666,
             "#ed7953"
            ],
            [
             0.7777777777777778,
             "#fb9f3a"
            ],
            [
             0.8888888888888888,
             "#fdca26"
            ],
            [
             1,
             "#f0f921"
            ]
           ]
          },
          "colorway": [
           "#636efa",
           "#EF553B",
           "#00cc96",
           "#ab63fa",
           "#FFA15A",
           "#19d3f3",
           "#FF6692",
           "#B6E880",
           "#FF97FF",
           "#FECB52"
          ],
          "font": {
           "color": "#2a3f5f"
          },
          "geo": {
           "bgcolor": "white",
           "lakecolor": "white",
           "landcolor": "#E5ECF6",
           "showlakes": true,
           "showland": true,
           "subunitcolor": "white"
          },
          "hoverlabel": {
           "align": "left"
          },
          "hovermode": "closest",
          "mapbox": {
           "style": "light"
          },
          "paper_bgcolor": "white",
          "plot_bgcolor": "#E5ECF6",
          "polar": {
           "angularaxis": {
            "gridcolor": "white",
            "linecolor": "white",
            "ticks": ""
           },
           "bgcolor": "#E5ECF6",
           "radialaxis": {
            "gridcolor": "white",
            "linecolor": "white",
            "ticks": ""
           }
          },
          "scene": {
           "xaxis": {
            "backgroundcolor": "#E5ECF6",
            "gridcolor": "white",
            "gridwidth": 2,
            "linecolor": "white",
            "showbackground": true,
            "ticks": "",
            "zerolinecolor": "white"
           },
           "yaxis": {
            "backgroundcolor": "#E5ECF6",
            "gridcolor": "white",
            "gridwidth": 2,
            "linecolor": "white",
            "showbackground": true,
            "ticks": "",
            "zerolinecolor": "white"
           },
           "zaxis": {
            "backgroundcolor": "#E5ECF6",
            "gridcolor": "white",
            "gridwidth": 2,
            "linecolor": "white",
            "showbackground": true,
            "ticks": "",
            "zerolinecolor": "white"
           }
          },
          "shapedefaults": {
           "line": {
            "color": "#2a3f5f"
           }
          },
          "ternary": {
           "aaxis": {
            "gridcolor": "white",
            "linecolor": "white",
            "ticks": ""
           },
           "baxis": {
            "gridcolor": "white",
            "linecolor": "white",
            "ticks": ""
           },
           "bgcolor": "#E5ECF6",
           "caxis": {
            "gridcolor": "white",
            "linecolor": "white",
            "ticks": ""
           }
          },
          "title": {
           "x": 0.05
          },
          "xaxis": {
           "automargin": true,
           "gridcolor": "white",
           "linecolor": "white",
           "ticks": "",
           "title": {
            "standoff": 15
           },
           "zerolinecolor": "white",
           "zerolinewidth": 2
          },
          "yaxis": {
           "automargin": true,
           "gridcolor": "white",
           "linecolor": "white",
           "ticks": "",
           "title": {
            "standoff": 15
           },
           "zerolinecolor": "white",
           "zerolinewidth": 2
          }
         }
        },
        "title": {
         "text": "Occurance counts of vowels"
        },
        "xaxis": {
         "anchor": "y",
         "domain": [
          0,
          1
         ],
         "title": {
          "text": "letters"
         }
        },
        "yaxis": {
         "anchor": "x",
         "domain": [
          0,
          1
         ],
         "title": {
          "text": "count"
         }
        }
       }
      }
     },
     "metadata": {},
     "output_type": "display_data"
    }
   ],
   "source": [
    "vowel_list = [\"a\", \"e\", \"i\", \"o\", \"u\", \"y\"]\n",
    "vowel_counts = letter_counts[letter_counts[\"letters\"].isin(vowel_list)]\n",
    "px.bar(vowel_counts, x=\"letters\", y=\"count\", color=\"position\", title=\"Occurance counts of vowels\")"
   ]
  },
  {
   "cell_type": "code",
   "execution_count": 73,
   "metadata": {},
   "outputs": [
    {
     "data": {
      "application/vnd.plotly.v1+json": {
       "config": {
        "plotlyServerURL": "https://plot.ly"
       },
       "data": [
        {
         "alignmentgroup": "True",
         "hovertemplate": "position=letter_1<br>letters=%{x}<br>count=%{y}<extra></extra>",
         "legendgroup": "letter_1",
         "marker": {
          "color": "#636efa",
          "pattern": {
           "shape": ""
          }
         },
         "name": "letter_1",
         "offsetgroup": "letter_1",
         "orientation": "v",
         "showlegend": true,
         "textposition": "auto",
         "type": "bar",
         "x": [
          "s",
          "r",
          "l",
          "t",
          "n",
          "d",
          "p",
          "m",
          "c",
          "h",
          "g",
          "b",
          "k",
          "f",
          "w",
          "v",
          "z",
          "j",
          "x",
          "q"
         ],
         "xaxis": "x",
         "y": [
          1666,
          795,
          625,
          882,
          468,
          735,
          1130,
          951,
          970,
          532,
          685,
          1003,
          429,
          646,
          434,
          284,
          122,
          225,
          18,
          103
         ],
         "yaxis": "y"
        },
        {
         "alignmentgroup": "True",
         "hovertemplate": "position=letter_2<br>letters=%{x}<br>count=%{y}<extra></extra>",
         "legendgroup": "letter_2",
         "marker": {
          "color": "#EF553B",
          "pattern": {
           "shape": ""
          }
         },
         "name": "letter_2",
         "offsetgroup": "letter_2",
         "orientation": "v",
         "showlegend": true,
         "textposition": "auto",
         "type": "bar",
         "x": [
          "s",
          "r",
          "l",
          "t",
          "n",
          "d",
          "p",
          "m",
          "c",
          "h",
          "g",
          "b",
          "k",
          "f",
          "w",
          "v",
          "z",
          "j",
          "x",
          "q"
         ],
         "xaxis": "x",
         "y": [
          113,
          1019,
          774,
          256,
          388,
          108,
          249,
          211,
          207,
          604,
          94,
          108,
          114,
          37,
          177,
          57,
          30,
          13,
          63,
          16
         ],
         "yaxis": "y"
        },
        {
         "alignmentgroup": "True",
         "hovertemplate": "position=letter_3<br>letters=%{x}<br>count=%{y}<extra></extra>",
         "legendgroup": "letter_3",
         "marker": {
          "color": "#00cc96",
          "pattern": {
           "shape": ""
          }
         },
         "name": "letter_3",
         "offsetgroup": "letter_3",
         "orientation": "v",
         "showlegend": true,
         "textposition": "auto",
         "type": "bar",
         "x": [
          "s",
          "r",
          "l",
          "t",
          "n",
          "d",
          "p",
          "m",
          "c",
          "h",
          "g",
          "b",
          "k",
          "f",
          "w",
          "v",
          "z",
          "j",
          "x",
          "q"
         ],
         "xaxis": "x",
         "y": [
          613,
          1354,
          973,
          735,
          1119,
          467,
          426,
          580,
          467,
          146,
          427,
          386,
          329,
          204,
          305,
          278,
          165,
          59,
          146,
          18
         ],
         "yaxis": "y"
        },
        {
         "alignmentgroup": "True",
         "hovertemplate": "position=letter_4<br>letters=%{x}<br>count=%{y}<extra></extra>",
         "legendgroup": "letter_4",
         "marker": {
          "color": "#ab63fa",
          "pattern": {
           "shape": ""
          }
         },
         "name": "letter_4",
         "offsetgroup": "letter_4",
         "orientation": "v",
         "showlegend": true,
         "textposition": "auto",
         "type": "bar",
         "x": [
          "s",
          "r",
          "l",
          "t",
          "n",
          "d",
          "p",
          "m",
          "c",
          "h",
          "g",
          "b",
          "k",
          "f",
          "w",
          "v",
          "z",
          "j",
          "x",
          "q"
         ],
         "xaxis": "x",
         "y": [
          588,
          809,
          869,
          1039,
          885,
          551,
          466,
          445,
          456,
          283,
          487,
          282,
          571,
          258,
          143,
          177,
          145,
          42,
          15,
          3
         ],
         "yaxis": "y"
        },
        {
         "alignmentgroup": "True",
         "hovertemplate": "position=letter_5<br>letters=%{x}<br>count=%{y}<extra></extra>",
         "legendgroup": "letter_5",
         "marker": {
          "color": "#FFA15A",
          "pattern": {
           "shape": ""
          }
         },
         "name": "letter_5",
         "offsetgroup": "letter_5",
         "orientation": "v",
         "showlegend": true,
         "textposition": "auto",
         "type": "bar",
         "x": [
          "s",
          "r",
          "l",
          "t",
          "n",
          "d",
          "p",
          "m",
          "c",
          "h",
          "g",
          "b",
          "k",
          "f",
          "w",
          "v",
          "z",
          "j",
          "x",
          "q"
         ],
         "xaxis": "x",
         "y": [
          4339,
          737,
          539,
          795,
          618,
          874,
          165,
          227,
          146,
          428,
          171,
          70,
          310,
          95,
          68,
          5,
          41,
          3,
          84,
          5
         ],
         "yaxis": "y"
        }
       ],
       "layout": {
        "barmode": "relative",
        "legend": {
         "title": {
          "text": "position"
         },
         "tracegroupgap": 0
        },
        "template": {
         "data": {
          "bar": [
           {
            "error_x": {
             "color": "#2a3f5f"
            },
            "error_y": {
             "color": "#2a3f5f"
            },
            "marker": {
             "line": {
              "color": "#E5ECF6",
              "width": 0.5
             },
             "pattern": {
              "fillmode": "overlay",
              "size": 10,
              "solidity": 0.2
             }
            },
            "type": "bar"
           }
          ],
          "barpolar": [
           {
            "marker": {
             "line": {
              "color": "#E5ECF6",
              "width": 0.5
             },
             "pattern": {
              "fillmode": "overlay",
              "size": 10,
              "solidity": 0.2
             }
            },
            "type": "barpolar"
           }
          ],
          "carpet": [
           {
            "aaxis": {
             "endlinecolor": "#2a3f5f",
             "gridcolor": "white",
             "linecolor": "white",
             "minorgridcolor": "white",
             "startlinecolor": "#2a3f5f"
            },
            "baxis": {
             "endlinecolor": "#2a3f5f",
             "gridcolor": "white",
             "linecolor": "white",
             "minorgridcolor": "white",
             "startlinecolor": "#2a3f5f"
            },
            "type": "carpet"
           }
          ],
          "choropleth": [
           {
            "colorbar": {
             "outlinewidth": 0,
             "ticks": ""
            },
            "type": "choropleth"
           }
          ],
          "contour": [
           {
            "colorbar": {
             "outlinewidth": 0,
             "ticks": ""
            },
            "colorscale": [
             [
              0,
              "#0d0887"
             ],
             [
              0.1111111111111111,
              "#46039f"
             ],
             [
              0.2222222222222222,
              "#7201a8"
             ],
             [
              0.3333333333333333,
              "#9c179e"
             ],
             [
              0.4444444444444444,
              "#bd3786"
             ],
             [
              0.5555555555555556,
              "#d8576b"
             ],
             [
              0.6666666666666666,
              "#ed7953"
             ],
             [
              0.7777777777777778,
              "#fb9f3a"
             ],
             [
              0.8888888888888888,
              "#fdca26"
             ],
             [
              1,
              "#f0f921"
             ]
            ],
            "type": "contour"
           }
          ],
          "contourcarpet": [
           {
            "colorbar": {
             "outlinewidth": 0,
             "ticks": ""
            },
            "type": "contourcarpet"
           }
          ],
          "heatmap": [
           {
            "colorbar": {
             "outlinewidth": 0,
             "ticks": ""
            },
            "colorscale": [
             [
              0,
              "#0d0887"
             ],
             [
              0.1111111111111111,
              "#46039f"
             ],
             [
              0.2222222222222222,
              "#7201a8"
             ],
             [
              0.3333333333333333,
              "#9c179e"
             ],
             [
              0.4444444444444444,
              "#bd3786"
             ],
             [
              0.5555555555555556,
              "#d8576b"
             ],
             [
              0.6666666666666666,
              "#ed7953"
             ],
             [
              0.7777777777777778,
              "#fb9f3a"
             ],
             [
              0.8888888888888888,
              "#fdca26"
             ],
             [
              1,
              "#f0f921"
             ]
            ],
            "type": "heatmap"
           }
          ],
          "heatmapgl": [
           {
            "colorbar": {
             "outlinewidth": 0,
             "ticks": ""
            },
            "colorscale": [
             [
              0,
              "#0d0887"
             ],
             [
              0.1111111111111111,
              "#46039f"
             ],
             [
              0.2222222222222222,
              "#7201a8"
             ],
             [
              0.3333333333333333,
              "#9c179e"
             ],
             [
              0.4444444444444444,
              "#bd3786"
             ],
             [
              0.5555555555555556,
              "#d8576b"
             ],
             [
              0.6666666666666666,
              "#ed7953"
             ],
             [
              0.7777777777777778,
              "#fb9f3a"
             ],
             [
              0.8888888888888888,
              "#fdca26"
             ],
             [
              1,
              "#f0f921"
             ]
            ],
            "type": "heatmapgl"
           }
          ],
          "histogram": [
           {
            "marker": {
             "pattern": {
              "fillmode": "overlay",
              "size": 10,
              "solidity": 0.2
             }
            },
            "type": "histogram"
           }
          ],
          "histogram2d": [
           {
            "colorbar": {
             "outlinewidth": 0,
             "ticks": ""
            },
            "colorscale": [
             [
              0,
              "#0d0887"
             ],
             [
              0.1111111111111111,
              "#46039f"
             ],
             [
              0.2222222222222222,
              "#7201a8"
             ],
             [
              0.3333333333333333,
              "#9c179e"
             ],
             [
              0.4444444444444444,
              "#bd3786"
             ],
             [
              0.5555555555555556,
              "#d8576b"
             ],
             [
              0.6666666666666666,
              "#ed7953"
             ],
             [
              0.7777777777777778,
              "#fb9f3a"
             ],
             [
              0.8888888888888888,
              "#fdca26"
             ],
             [
              1,
              "#f0f921"
             ]
            ],
            "type": "histogram2d"
           }
          ],
          "histogram2dcontour": [
           {
            "colorbar": {
             "outlinewidth": 0,
             "ticks": ""
            },
            "colorscale": [
             [
              0,
              "#0d0887"
             ],
             [
              0.1111111111111111,
              "#46039f"
             ],
             [
              0.2222222222222222,
              "#7201a8"
             ],
             [
              0.3333333333333333,
              "#9c179e"
             ],
             [
              0.4444444444444444,
              "#bd3786"
             ],
             [
              0.5555555555555556,
              "#d8576b"
             ],
             [
              0.6666666666666666,
              "#ed7953"
             ],
             [
              0.7777777777777778,
              "#fb9f3a"
             ],
             [
              0.8888888888888888,
              "#fdca26"
             ],
             [
              1,
              "#f0f921"
             ]
            ],
            "type": "histogram2dcontour"
           }
          ],
          "mesh3d": [
           {
            "colorbar": {
             "outlinewidth": 0,
             "ticks": ""
            },
            "type": "mesh3d"
           }
          ],
          "parcoords": [
           {
            "line": {
             "colorbar": {
              "outlinewidth": 0,
              "ticks": ""
             }
            },
            "type": "parcoords"
           }
          ],
          "pie": [
           {
            "automargin": true,
            "type": "pie"
           }
          ],
          "scatter": [
           {
            "fillpattern": {
             "fillmode": "overlay",
             "size": 10,
             "solidity": 0.2
            },
            "type": "scatter"
           }
          ],
          "scatter3d": [
           {
            "line": {
             "colorbar": {
              "outlinewidth": 0,
              "ticks": ""
             }
            },
            "marker": {
             "colorbar": {
              "outlinewidth": 0,
              "ticks": ""
             }
            },
            "type": "scatter3d"
           }
          ],
          "scattercarpet": [
           {
            "marker": {
             "colorbar": {
              "outlinewidth": 0,
              "ticks": ""
             }
            },
            "type": "scattercarpet"
           }
          ],
          "scattergeo": [
           {
            "marker": {
             "colorbar": {
              "outlinewidth": 0,
              "ticks": ""
             }
            },
            "type": "scattergeo"
           }
          ],
          "scattergl": [
           {
            "marker": {
             "colorbar": {
              "outlinewidth": 0,
              "ticks": ""
             }
            },
            "type": "scattergl"
           }
          ],
          "scattermapbox": [
           {
            "marker": {
             "colorbar": {
              "outlinewidth": 0,
              "ticks": ""
             }
            },
            "type": "scattermapbox"
           }
          ],
          "scatterpolar": [
           {
            "marker": {
             "colorbar": {
              "outlinewidth": 0,
              "ticks": ""
             }
            },
            "type": "scatterpolar"
           }
          ],
          "scatterpolargl": [
           {
            "marker": {
             "colorbar": {
              "outlinewidth": 0,
              "ticks": ""
             }
            },
            "type": "scatterpolargl"
           }
          ],
          "scatterternary": [
           {
            "marker": {
             "colorbar": {
              "outlinewidth": 0,
              "ticks": ""
             }
            },
            "type": "scatterternary"
           }
          ],
          "surface": [
           {
            "colorbar": {
             "outlinewidth": 0,
             "ticks": ""
            },
            "colorscale": [
             [
              0,
              "#0d0887"
             ],
             [
              0.1111111111111111,
              "#46039f"
             ],
             [
              0.2222222222222222,
              "#7201a8"
             ],
             [
              0.3333333333333333,
              "#9c179e"
             ],
             [
              0.4444444444444444,
              "#bd3786"
             ],
             [
              0.5555555555555556,
              "#d8576b"
             ],
             [
              0.6666666666666666,
              "#ed7953"
             ],
             [
              0.7777777777777778,
              "#fb9f3a"
             ],
             [
              0.8888888888888888,
              "#fdca26"
             ],
             [
              1,
              "#f0f921"
             ]
            ],
            "type": "surface"
           }
          ],
          "table": [
           {
            "cells": {
             "fill": {
              "color": "#EBF0F8"
             },
             "line": {
              "color": "white"
             }
            },
            "header": {
             "fill": {
              "color": "#C8D4E3"
             },
             "line": {
              "color": "white"
             }
            },
            "type": "table"
           }
          ]
         },
         "layout": {
          "annotationdefaults": {
           "arrowcolor": "#2a3f5f",
           "arrowhead": 0,
           "arrowwidth": 1
          },
          "autotypenumbers": "strict",
          "coloraxis": {
           "colorbar": {
            "outlinewidth": 0,
            "ticks": ""
           }
          },
          "colorscale": {
           "diverging": [
            [
             0,
             "#8e0152"
            ],
            [
             0.1,
             "#c51b7d"
            ],
            [
             0.2,
             "#de77ae"
            ],
            [
             0.3,
             "#f1b6da"
            ],
            [
             0.4,
             "#fde0ef"
            ],
            [
             0.5,
             "#f7f7f7"
            ],
            [
             0.6,
             "#e6f5d0"
            ],
            [
             0.7,
             "#b8e186"
            ],
            [
             0.8,
             "#7fbc41"
            ],
            [
             0.9,
             "#4d9221"
            ],
            [
             1,
             "#276419"
            ]
           ],
           "sequential": [
            [
             0,
             "#0d0887"
            ],
            [
             0.1111111111111111,
             "#46039f"
            ],
            [
             0.2222222222222222,
             "#7201a8"
            ],
            [
             0.3333333333333333,
             "#9c179e"
            ],
            [
             0.4444444444444444,
             "#bd3786"
            ],
            [
             0.5555555555555556,
             "#d8576b"
            ],
            [
             0.6666666666666666,
             "#ed7953"
            ],
            [
             0.7777777777777778,
             "#fb9f3a"
            ],
            [
             0.8888888888888888,
             "#fdca26"
            ],
            [
             1,
             "#f0f921"
            ]
           ],
           "sequentialminus": [
            [
             0,
             "#0d0887"
            ],
            [
             0.1111111111111111,
             "#46039f"
            ],
            [
             0.2222222222222222,
             "#7201a8"
            ],
            [
             0.3333333333333333,
             "#9c179e"
            ],
            [
             0.4444444444444444,
             "#bd3786"
            ],
            [
             0.5555555555555556,
             "#d8576b"
            ],
            [
             0.6666666666666666,
             "#ed7953"
            ],
            [
             0.7777777777777778,
             "#fb9f3a"
            ],
            [
             0.8888888888888888,
             "#fdca26"
            ],
            [
             1,
             "#f0f921"
            ]
           ]
          },
          "colorway": [
           "#636efa",
           "#EF553B",
           "#00cc96",
           "#ab63fa",
           "#FFA15A",
           "#19d3f3",
           "#FF6692",
           "#B6E880",
           "#FF97FF",
           "#FECB52"
          ],
          "font": {
           "color": "#2a3f5f"
          },
          "geo": {
           "bgcolor": "white",
           "lakecolor": "white",
           "landcolor": "#E5ECF6",
           "showlakes": true,
           "showland": true,
           "subunitcolor": "white"
          },
          "hoverlabel": {
           "align": "left"
          },
          "hovermode": "closest",
          "mapbox": {
           "style": "light"
          },
          "paper_bgcolor": "white",
          "plot_bgcolor": "#E5ECF6",
          "polar": {
           "angularaxis": {
            "gridcolor": "white",
            "linecolor": "white",
            "ticks": ""
           },
           "bgcolor": "#E5ECF6",
           "radialaxis": {
            "gridcolor": "white",
            "linecolor": "white",
            "ticks": ""
           }
          },
          "scene": {
           "xaxis": {
            "backgroundcolor": "#E5ECF6",
            "gridcolor": "white",
            "gridwidth": 2,
            "linecolor": "white",
            "showbackground": true,
            "ticks": "",
            "zerolinecolor": "white"
           },
           "yaxis": {
            "backgroundcolor": "#E5ECF6",
            "gridcolor": "white",
            "gridwidth": 2,
            "linecolor": "white",
            "showbackground": true,
            "ticks": "",
            "zerolinecolor": "white"
           },
           "zaxis": {
            "backgroundcolor": "#E5ECF6",
            "gridcolor": "white",
            "gridwidth": 2,
            "linecolor": "white",
            "showbackground": true,
            "ticks": "",
            "zerolinecolor": "white"
           }
          },
          "shapedefaults": {
           "line": {
            "color": "#2a3f5f"
           }
          },
          "ternary": {
           "aaxis": {
            "gridcolor": "white",
            "linecolor": "white",
            "ticks": ""
           },
           "baxis": {
            "gridcolor": "white",
            "linecolor": "white",
            "ticks": ""
           },
           "bgcolor": "#E5ECF6",
           "caxis": {
            "gridcolor": "white",
            "linecolor": "white",
            "ticks": ""
           }
          },
          "title": {
           "x": 0.05
          },
          "xaxis": {
           "automargin": true,
           "gridcolor": "white",
           "linecolor": "white",
           "ticks": "",
           "title": {
            "standoff": 15
           },
           "zerolinecolor": "white",
           "zerolinewidth": 2
          },
          "yaxis": {
           "automargin": true,
           "gridcolor": "white",
           "linecolor": "white",
           "ticks": "",
           "title": {
            "standoff": 15
           },
           "zerolinecolor": "white",
           "zerolinewidth": 2
          }
         }
        },
        "title": {
         "text": "Occurance counts of consonants"
        },
        "xaxis": {
         "anchor": "y",
         "domain": [
          0,
          1
         ],
         "title": {
          "text": "letters"
         }
        },
        "yaxis": {
         "anchor": "x",
         "domain": [
          0,
          1
         ],
         "title": {
          "text": "count"
         }
        }
       }
      }
     },
     "metadata": {},
     "output_type": "display_data"
    }
   ],
   "source": [
    "vowel_list = [\"a\", \"e\", \"i\", \"o\", \"u\", \"y\"]\n",
    "vowel_counts = letter_counts[~letter_counts[\"letters\"].isin(vowel_list)]\n",
    "px.bar(vowel_counts, x=\"letters\", y=\"count\", color=\"position\", title=\"Occurance counts of consonants\")"
   ]
  },
  {
   "cell_type": "markdown",
   "metadata": {},
   "source": [
    "# Scoring using counts"
   ]
  },
  {
   "cell_type": "code",
   "execution_count": 74,
   "metadata": {},
   "outputs": [],
   "source": [
    "pos_score_cols = []\n",
    "gen_score_cols = []\n",
    "for letter_col in letter_cols:\n",
    "    pos_score_col = f\"{letter_col}_positional_score\"\n",
    "    pos_score_cols.append(pos_score_col)\n",
    "    gen_score_col = f\"{letter_col}_general_score\"\n",
    "    gen_score_cols.append(gen_score_col)\n",
    "\n",
    "    counts_for_letter_at_postion = letter_counts.loc[letter_counts[\"position\"] == letter_col, [\"letters\", \"count\", \"total_counts\"]]\n",
    "    counts_for_letter_at_postion.rename(columns={\"count\": pos_score_col, \"total_counts\": gen_score_col}, inplace=True)\n",
    "\n",
    "    words = words.merge(counts_for_letter_at_postion, left_on=letter_col, right_on=\"letters\")\n",
    "    words.drop(\"letters\", axis=1, inplace=True)\n",
    "\n",
    "words[\"total_positional_letter_scores\"] = words[pos_score_cols].sum(axis=1)\n",
    "words.sort_values(\"total_positional_letter_scores\", inplace=True)\n",
    "\n",
    "words[\"total_general_letter_scores\"] = words[gen_score_cols].sum(axis=1)"
   ]
  },
  {
   "cell_type": "code",
   "execution_count": 75,
   "metadata": {},
   "outputs": [
    {
     "data": {
      "text/html": [
       "<div>\n",
       "<style scoped>\n",
       "    .dataframe tbody tr th:only-of-type {\n",
       "        vertical-align: middle;\n",
       "    }\n",
       "\n",
       "    .dataframe tbody tr th {\n",
       "        vertical-align: top;\n",
       "    }\n",
       "\n",
       "    .dataframe thead th {\n",
       "        text-align: right;\n",
       "    }\n",
       "</style>\n",
       "<table border=\"1\" class=\"dataframe\">\n",
       "  <thead>\n",
       "    <tr style=\"text-align: right;\">\n",
       "      <th></th>\n",
       "      <th>words</th>\n",
       "      <th>letter_1</th>\n",
       "      <th>letter_2</th>\n",
       "      <th>letter_3</th>\n",
       "      <th>letter_4</th>\n",
       "      <th>letter_5</th>\n",
       "      <th>letter_1_positional_score</th>\n",
       "      <th>letter_1_general_score</th>\n",
       "      <th>letter_2_positional_score</th>\n",
       "      <th>letter_2_general_score</th>\n",
       "      <th>letter_3_positional_score</th>\n",
       "      <th>letter_3_general_score</th>\n",
       "      <th>letter_4_positional_score</th>\n",
       "      <th>letter_4_general_score</th>\n",
       "      <th>letter_5_positional_score</th>\n",
       "      <th>letter_5_general_score</th>\n",
       "      <th>total_positional_letter_scores</th>\n",
       "      <th>total_general_letter_scores</th>\n",
       "    </tr>\n",
       "  </thead>\n",
       "  <tbody>\n",
       "    <tr>\n",
       "      <th>10890</th>\n",
       "      <td>enzym</td>\n",
       "      <td>e</td>\n",
       "      <td>n</td>\n",
       "      <td>z</td>\n",
       "      <td>y</td>\n",
       "      <td>m</td>\n",
       "      <td>330</td>\n",
       "      <td>7455</td>\n",
       "      <td>388</td>\n",
       "      <td>3478</td>\n",
       "      <td>165</td>\n",
       "      <td>503</td>\n",
       "      <td>124</td>\n",
       "      <td>2400</td>\n",
       "      <td>227</td>\n",
       "      <td>2414</td>\n",
       "      <td>1234</td>\n",
       "      <td>16250</td>\n",
       "    </tr>\n",
       "    <tr>\n",
       "      <th>11882</th>\n",
       "      <td>ethyl</td>\n",
       "      <td>e</td>\n",
       "      <td>t</td>\n",
       "      <td>h</td>\n",
       "      <td>y</td>\n",
       "      <td>l</td>\n",
       "      <td>330</td>\n",
       "      <td>7455</td>\n",
       "      <td>256</td>\n",
       "      <td>3707</td>\n",
       "      <td>146</td>\n",
       "      <td>1993</td>\n",
       "      <td>124</td>\n",
       "      <td>2400</td>\n",
       "      <td>539</td>\n",
       "      <td>3780</td>\n",
       "      <td>1395</td>\n",
       "      <td>19335</td>\n",
       "    </tr>\n",
       "    <tr>\n",
       "      <th>11881</th>\n",
       "      <td>othyl</td>\n",
       "      <td>o</td>\n",
       "      <td>t</td>\n",
       "      <td>h</td>\n",
       "      <td>y</td>\n",
       "      <td>l</td>\n",
       "      <td>352</td>\n",
       "      <td>5212</td>\n",
       "      <td>256</td>\n",
       "      <td>3707</td>\n",
       "      <td>146</td>\n",
       "      <td>1993</td>\n",
       "      <td>124</td>\n",
       "      <td>2400</td>\n",
       "      <td>539</td>\n",
       "      <td>3780</td>\n",
       "      <td>1417</td>\n",
       "      <td>17092</td>\n",
       "    </tr>\n",
       "    <tr>\n",
       "      <th>14408</th>\n",
       "      <td>ewhow</td>\n",
       "      <td>e</td>\n",
       "      <td>w</td>\n",
       "      <td>h</td>\n",
       "      <td>o</td>\n",
       "      <td>w</td>\n",
       "      <td>330</td>\n",
       "      <td>7455</td>\n",
       "      <td>177</td>\n",
       "      <td>1127</td>\n",
       "      <td>146</td>\n",
       "      <td>1993</td>\n",
       "      <td>827</td>\n",
       "      <td>5212</td>\n",
       "      <td>68</td>\n",
       "      <td>1127</td>\n",
       "      <td>1548</td>\n",
       "      <td>16914</td>\n",
       "    </tr>\n",
       "    <tr>\n",
       "      <th>14637</th>\n",
       "      <td>udyog</td>\n",
       "      <td>u</td>\n",
       "      <td>d</td>\n",
       "      <td>y</td>\n",
       "      <td>o</td>\n",
       "      <td>g</td>\n",
       "      <td>217</td>\n",
       "      <td>2927</td>\n",
       "      <td>108</td>\n",
       "      <td>2735</td>\n",
       "      <td>246</td>\n",
       "      <td>2400</td>\n",
       "      <td>827</td>\n",
       "      <td>5212</td>\n",
       "      <td>171</td>\n",
       "      <td>1864</td>\n",
       "      <td>1569</td>\n",
       "      <td>15138</td>\n",
       "    </tr>\n",
       "    <tr>\n",
       "      <th>...</th>\n",
       "      <td>...</td>\n",
       "      <td>...</td>\n",
       "      <td>...</td>\n",
       "      <td>...</td>\n",
       "      <td>...</td>\n",
       "      <td>...</td>\n",
       "      <td>...</td>\n",
       "      <td>...</td>\n",
       "      <td>...</td>\n",
       "      <td>...</td>\n",
       "      <td>...</td>\n",
       "      <td>...</td>\n",
       "      <td>...</td>\n",
       "      <td>...</td>\n",
       "      <td>...</td>\n",
       "      <td>...</td>\n",
       "      <td>...</td>\n",
       "      <td>...</td>\n",
       "    </tr>\n",
       "    <tr>\n",
       "      <th>6647</th>\n",
       "      <td>pares</td>\n",
       "      <td>p</td>\n",
       "      <td>a</td>\n",
       "      <td>r</td>\n",
       "      <td>e</td>\n",
       "      <td>s</td>\n",
       "      <td>1130</td>\n",
       "      <td>2436</td>\n",
       "      <td>2682</td>\n",
       "      <td>7128</td>\n",
       "      <td>1354</td>\n",
       "      <td>4714</td>\n",
       "      <td>2531</td>\n",
       "      <td>7455</td>\n",
       "      <td>4339</td>\n",
       "      <td>7319</td>\n",
       "      <td>12036</td>\n",
       "      <td>29052</td>\n",
       "    </tr>\n",
       "    <tr>\n",
       "      <th>6736</th>\n",
       "      <td>sones</td>\n",
       "      <td>s</td>\n",
       "      <td>o</td>\n",
       "      <td>n</td>\n",
       "      <td>e</td>\n",
       "      <td>s</td>\n",
       "      <td>1666</td>\n",
       "      <td>7319</td>\n",
       "      <td>2414</td>\n",
       "      <td>5212</td>\n",
       "      <td>1119</td>\n",
       "      <td>3478</td>\n",
       "      <td>2531</td>\n",
       "      <td>7455</td>\n",
       "      <td>4339</td>\n",
       "      <td>7319</td>\n",
       "      <td>12069</td>\n",
       "      <td>30783</td>\n",
       "    </tr>\n",
       "    <tr>\n",
       "      <th>6575</th>\n",
       "      <td>sales</td>\n",
       "      <td>s</td>\n",
       "      <td>a</td>\n",
       "      <td>l</td>\n",
       "      <td>e</td>\n",
       "      <td>s</td>\n",
       "      <td>1666</td>\n",
       "      <td>7319</td>\n",
       "      <td>2682</td>\n",
       "      <td>7128</td>\n",
       "      <td>973</td>\n",
       "      <td>3780</td>\n",
       "      <td>2531</td>\n",
       "      <td>7455</td>\n",
       "      <td>4339</td>\n",
       "      <td>7319</td>\n",
       "      <td>12191</td>\n",
       "      <td>33001</td>\n",
       "    </tr>\n",
       "    <tr>\n",
       "      <th>6630</th>\n",
       "      <td>sores</td>\n",
       "      <td>s</td>\n",
       "      <td>o</td>\n",
       "      <td>r</td>\n",
       "      <td>e</td>\n",
       "      <td>s</td>\n",
       "      <td>1666</td>\n",
       "      <td>7319</td>\n",
       "      <td>2414</td>\n",
       "      <td>5212</td>\n",
       "      <td>1354</td>\n",
       "      <td>4714</td>\n",
       "      <td>2531</td>\n",
       "      <td>7455</td>\n",
       "      <td>4339</td>\n",
       "      <td>7319</td>\n",
       "      <td>12304</td>\n",
       "      <td>32019</td>\n",
       "    </tr>\n",
       "    <tr>\n",
       "      <th>6748</th>\n",
       "      <td>sanes</td>\n",
       "      <td>s</td>\n",
       "      <td>a</td>\n",
       "      <td>n</td>\n",
       "      <td>e</td>\n",
       "      <td>s</td>\n",
       "      <td>1666</td>\n",
       "      <td>7319</td>\n",
       "      <td>2682</td>\n",
       "      <td>7128</td>\n",
       "      <td>1119</td>\n",
       "      <td>3478</td>\n",
       "      <td>2531</td>\n",
       "      <td>7455</td>\n",
       "      <td>4339</td>\n",
       "      <td>7319</td>\n",
       "      <td>12337</td>\n",
       "      <td>32699</td>\n",
       "    </tr>\n",
       "  </tbody>\n",
       "</table>\n",
       "<p>14855 rows × 18 columns</p>\n",
       "</div>"
      ],
      "text/plain": [
       "       words letter_1 letter_2 letter_3 letter_4 letter_5  \\\n",
       "10890  enzym        e        n        z        y        m   \n",
       "11882  ethyl        e        t        h        y        l   \n",
       "11881  othyl        o        t        h        y        l   \n",
       "14408  ewhow        e        w        h        o        w   \n",
       "14637  udyog        u        d        y        o        g   \n",
       "...      ...      ...      ...      ...      ...      ...   \n",
       "6647   pares        p        a        r        e        s   \n",
       "6736   sones        s        o        n        e        s   \n",
       "6575   sales        s        a        l        e        s   \n",
       "6630   sores        s        o        r        e        s   \n",
       "6748   sanes        s        a        n        e        s   \n",
       "\n",
       "       letter_1_positional_score  letter_1_general_score  \\\n",
       "10890                        330                    7455   \n",
       "11882                        330                    7455   \n",
       "11881                        352                    5212   \n",
       "14408                        330                    7455   \n",
       "14637                        217                    2927   \n",
       "...                          ...                     ...   \n",
       "6647                        1130                    2436   \n",
       "6736                        1666                    7319   \n",
       "6575                        1666                    7319   \n",
       "6630                        1666                    7319   \n",
       "6748                        1666                    7319   \n",
       "\n",
       "       letter_2_positional_score  letter_2_general_score  \\\n",
       "10890                        388                    3478   \n",
       "11882                        256                    3707   \n",
       "11881                        256                    3707   \n",
       "14408                        177                    1127   \n",
       "14637                        108                    2735   \n",
       "...                          ...                     ...   \n",
       "6647                        2682                    7128   \n",
       "6736                        2414                    5212   \n",
       "6575                        2682                    7128   \n",
       "6630                        2414                    5212   \n",
       "6748                        2682                    7128   \n",
       "\n",
       "       letter_3_positional_score  letter_3_general_score  \\\n",
       "10890                        165                     503   \n",
       "11882                        146                    1993   \n",
       "11881                        146                    1993   \n",
       "14408                        146                    1993   \n",
       "14637                        246                    2400   \n",
       "...                          ...                     ...   \n",
       "6647                        1354                    4714   \n",
       "6736                        1119                    3478   \n",
       "6575                         973                    3780   \n",
       "6630                        1354                    4714   \n",
       "6748                        1119                    3478   \n",
       "\n",
       "       letter_4_positional_score  letter_4_general_score  \\\n",
       "10890                        124                    2400   \n",
       "11882                        124                    2400   \n",
       "11881                        124                    2400   \n",
       "14408                        827                    5212   \n",
       "14637                        827                    5212   \n",
       "...                          ...                     ...   \n",
       "6647                        2531                    7455   \n",
       "6736                        2531                    7455   \n",
       "6575                        2531                    7455   \n",
       "6630                        2531                    7455   \n",
       "6748                        2531                    7455   \n",
       "\n",
       "       letter_5_positional_score  letter_5_general_score  \\\n",
       "10890                        227                    2414   \n",
       "11882                        539                    3780   \n",
       "11881                        539                    3780   \n",
       "14408                         68                    1127   \n",
       "14637                        171                    1864   \n",
       "...                          ...                     ...   \n",
       "6647                        4339                    7319   \n",
       "6736                        4339                    7319   \n",
       "6575                        4339                    7319   \n",
       "6630                        4339                    7319   \n",
       "6748                        4339                    7319   \n",
       "\n",
       "       total_positional_letter_scores  total_general_letter_scores  \n",
       "10890                            1234                        16250  \n",
       "11882                            1395                        19335  \n",
       "11881                            1417                        17092  \n",
       "14408                            1548                        16914  \n",
       "14637                            1569                        15138  \n",
       "...                               ...                          ...  \n",
       "6647                            12036                        29052  \n",
       "6736                            12069                        30783  \n",
       "6575                            12191                        33001  \n",
       "6630                            12304                        32019  \n",
       "6748                            12337                        32699  \n",
       "\n",
       "[14855 rows x 18 columns]"
      ]
     },
     "execution_count": 75,
     "metadata": {},
     "output_type": "execute_result"
    }
   ],
   "source": [
    "words"
   ]
  },
  {
   "cell_type": "code",
   "execution_count": 76,
   "metadata": {},
   "outputs": [
    {
     "name": "stdout",
     "output_type": "stream",
     "text": [
      "Dropping words with duplicated letters temp 5490\n"
     ]
    }
   ],
   "source": [
    "mask = pd.Series(data=False, index=words.index)\n",
    "for letter_col in letter_cols:\n",
    "    for letter_col_2 in letter_cols:\n",
    "        if letter_col != letter_col_2:\n",
    "            mask = mask | (words[letter_col] == words[letter_col_2])\n",
    "\n",
    "print(f\"Dropping words with duplicated letters temp {mask.sum()}\")\n",
    "words.drop(words[mask].index, inplace=True)"
   ]
  },
  {
   "cell_type": "code",
   "execution_count": 77,
   "metadata": {},
   "outputs": [
    {
     "data": {
      "text/html": [
       "<div>\n",
       "<style scoped>\n",
       "    .dataframe tbody tr th:only-of-type {\n",
       "        vertical-align: middle;\n",
       "    }\n",
       "\n",
       "    .dataframe tbody tr th {\n",
       "        vertical-align: top;\n",
       "    }\n",
       "\n",
       "    .dataframe thead th {\n",
       "        text-align: right;\n",
       "    }\n",
       "</style>\n",
       "<table border=\"1\" class=\"dataframe\">\n",
       "  <thead>\n",
       "    <tr style=\"text-align: right;\">\n",
       "      <th></th>\n",
       "      <th>words</th>\n",
       "      <th>letter_1</th>\n",
       "      <th>letter_2</th>\n",
       "      <th>letter_3</th>\n",
       "      <th>letter_4</th>\n",
       "      <th>letter_5</th>\n",
       "      <th>letter_1_positional_score</th>\n",
       "      <th>letter_1_general_score</th>\n",
       "      <th>letter_2_positional_score</th>\n",
       "      <th>letter_2_general_score</th>\n",
       "      <th>letter_3_positional_score</th>\n",
       "      <th>letter_3_general_score</th>\n",
       "      <th>letter_4_positional_score</th>\n",
       "      <th>letter_4_general_score</th>\n",
       "      <th>letter_5_positional_score</th>\n",
       "      <th>letter_5_general_score</th>\n",
       "      <th>total_positional_letter_scores</th>\n",
       "      <th>total_general_letter_scores</th>\n",
       "    </tr>\n",
       "  </thead>\n",
       "  <tbody>\n",
       "    <tr>\n",
       "      <th>10890</th>\n",
       "      <td>enzym</td>\n",
       "      <td>e</td>\n",
       "      <td>n</td>\n",
       "      <td>z</td>\n",
       "      <td>y</td>\n",
       "      <td>m</td>\n",
       "      <td>330</td>\n",
       "      <td>7455</td>\n",
       "      <td>388</td>\n",
       "      <td>3478</td>\n",
       "      <td>165</td>\n",
       "      <td>503</td>\n",
       "      <td>124</td>\n",
       "      <td>2400</td>\n",
       "      <td>227</td>\n",
       "      <td>2414</td>\n",
       "      <td>1234</td>\n",
       "      <td>16250</td>\n",
       "    </tr>\n",
       "    <tr>\n",
       "      <th>11882</th>\n",
       "      <td>ethyl</td>\n",
       "      <td>e</td>\n",
       "      <td>t</td>\n",
       "      <td>h</td>\n",
       "      <td>y</td>\n",
       "      <td>l</td>\n",
       "      <td>330</td>\n",
       "      <td>7455</td>\n",
       "      <td>256</td>\n",
       "      <td>3707</td>\n",
       "      <td>146</td>\n",
       "      <td>1993</td>\n",
       "      <td>124</td>\n",
       "      <td>2400</td>\n",
       "      <td>539</td>\n",
       "      <td>3780</td>\n",
       "      <td>1395</td>\n",
       "      <td>19335</td>\n",
       "    </tr>\n",
       "    <tr>\n",
       "      <th>11881</th>\n",
       "      <td>othyl</td>\n",
       "      <td>o</td>\n",
       "      <td>t</td>\n",
       "      <td>h</td>\n",
       "      <td>y</td>\n",
       "      <td>l</td>\n",
       "      <td>352</td>\n",
       "      <td>5212</td>\n",
       "      <td>256</td>\n",
       "      <td>3707</td>\n",
       "      <td>146</td>\n",
       "      <td>1993</td>\n",
       "      <td>124</td>\n",
       "      <td>2400</td>\n",
       "      <td>539</td>\n",
       "      <td>3780</td>\n",
       "      <td>1417</td>\n",
       "      <td>17092</td>\n",
       "    </tr>\n",
       "    <tr>\n",
       "      <th>14637</th>\n",
       "      <td>udyog</td>\n",
       "      <td>u</td>\n",
       "      <td>d</td>\n",
       "      <td>y</td>\n",
       "      <td>o</td>\n",
       "      <td>g</td>\n",
       "      <td>217</td>\n",
       "      <td>2927</td>\n",
       "      <td>108</td>\n",
       "      <td>2735</td>\n",
       "      <td>246</td>\n",
       "      <td>2400</td>\n",
       "      <td>827</td>\n",
       "      <td>5212</td>\n",
       "      <td>171</td>\n",
       "      <td>1864</td>\n",
       "      <td>1569</td>\n",
       "      <td>15138</td>\n",
       "    </tr>\n",
       "    <tr>\n",
       "      <th>14414</th>\n",
       "      <td>upbow</td>\n",
       "      <td>u</td>\n",
       "      <td>p</td>\n",
       "      <td>b</td>\n",
       "      <td>o</td>\n",
       "      <td>w</td>\n",
       "      <td>217</td>\n",
       "      <td>2927</td>\n",
       "      <td>249</td>\n",
       "      <td>2436</td>\n",
       "      <td>386</td>\n",
       "      <td>1849</td>\n",
       "      <td>827</td>\n",
       "      <td>5212</td>\n",
       "      <td>68</td>\n",
       "      <td>1127</td>\n",
       "      <td>1747</td>\n",
       "      <td>13551</td>\n",
       "    </tr>\n",
       "    <tr>\n",
       "      <th>...</th>\n",
       "      <td>...</td>\n",
       "      <td>...</td>\n",
       "      <td>...</td>\n",
       "      <td>...</td>\n",
       "      <td>...</td>\n",
       "      <td>...</td>\n",
       "      <td>...</td>\n",
       "      <td>...</td>\n",
       "      <td>...</td>\n",
       "      <td>...</td>\n",
       "      <td>...</td>\n",
       "      <td>...</td>\n",
       "      <td>...</td>\n",
       "      <td>...</td>\n",
       "      <td>...</td>\n",
       "      <td>...</td>\n",
       "      <td>...</td>\n",
       "      <td>...</td>\n",
       "    </tr>\n",
       "    <tr>\n",
       "      <th>6752</th>\n",
       "      <td>panes</td>\n",
       "      <td>p</td>\n",
       "      <td>a</td>\n",
       "      <td>n</td>\n",
       "      <td>e</td>\n",
       "      <td>s</td>\n",
       "      <td>1130</td>\n",
       "      <td>2436</td>\n",
       "      <td>2682</td>\n",
       "      <td>7128</td>\n",
       "      <td>1119</td>\n",
       "      <td>3478</td>\n",
       "      <td>2531</td>\n",
       "      <td>7455</td>\n",
       "      <td>4339</td>\n",
       "      <td>7319</td>\n",
       "      <td>11801</td>\n",
       "      <td>27816</td>\n",
       "    </tr>\n",
       "    <tr>\n",
       "      <th>6646</th>\n",
       "      <td>mares</td>\n",
       "      <td>m</td>\n",
       "      <td>a</td>\n",
       "      <td>r</td>\n",
       "      <td>e</td>\n",
       "      <td>s</td>\n",
       "      <td>951</td>\n",
       "      <td>2414</td>\n",
       "      <td>2682</td>\n",
       "      <td>7128</td>\n",
       "      <td>1354</td>\n",
       "      <td>4714</td>\n",
       "      <td>2531</td>\n",
       "      <td>7455</td>\n",
       "      <td>4339</td>\n",
       "      <td>7319</td>\n",
       "      <td>11857</td>\n",
       "      <td>29030</td>\n",
       "    </tr>\n",
       "    <tr>\n",
       "      <th>6642</th>\n",
       "      <td>cares</td>\n",
       "      <td>c</td>\n",
       "      <td>a</td>\n",
       "      <td>r</td>\n",
       "      <td>e</td>\n",
       "      <td>s</td>\n",
       "      <td>970</td>\n",
       "      <td>2246</td>\n",
       "      <td>2682</td>\n",
       "      <td>7128</td>\n",
       "      <td>1354</td>\n",
       "      <td>4714</td>\n",
       "      <td>2531</td>\n",
       "      <td>7455</td>\n",
       "      <td>4339</td>\n",
       "      <td>7319</td>\n",
       "      <td>11876</td>\n",
       "      <td>28862</td>\n",
       "    </tr>\n",
       "    <tr>\n",
       "      <th>6644</th>\n",
       "      <td>bares</td>\n",
       "      <td>b</td>\n",
       "      <td>a</td>\n",
       "      <td>r</td>\n",
       "      <td>e</td>\n",
       "      <td>s</td>\n",
       "      <td>1003</td>\n",
       "      <td>1849</td>\n",
       "      <td>2682</td>\n",
       "      <td>7128</td>\n",
       "      <td>1354</td>\n",
       "      <td>4714</td>\n",
       "      <td>2531</td>\n",
       "      <td>7455</td>\n",
       "      <td>4339</td>\n",
       "      <td>7319</td>\n",
       "      <td>11909</td>\n",
       "      <td>28465</td>\n",
       "    </tr>\n",
       "    <tr>\n",
       "      <th>6647</th>\n",
       "      <td>pares</td>\n",
       "      <td>p</td>\n",
       "      <td>a</td>\n",
       "      <td>r</td>\n",
       "      <td>e</td>\n",
       "      <td>s</td>\n",
       "      <td>1130</td>\n",
       "      <td>2436</td>\n",
       "      <td>2682</td>\n",
       "      <td>7128</td>\n",
       "      <td>1354</td>\n",
       "      <td>4714</td>\n",
       "      <td>2531</td>\n",
       "      <td>7455</td>\n",
       "      <td>4339</td>\n",
       "      <td>7319</td>\n",
       "      <td>12036</td>\n",
       "      <td>29052</td>\n",
       "    </tr>\n",
       "  </tbody>\n",
       "</table>\n",
       "<p>9365 rows × 18 columns</p>\n",
       "</div>"
      ],
      "text/plain": [
       "       words letter_1 letter_2 letter_3 letter_4 letter_5  \\\n",
       "10890  enzym        e        n        z        y        m   \n",
       "11882  ethyl        e        t        h        y        l   \n",
       "11881  othyl        o        t        h        y        l   \n",
       "14637  udyog        u        d        y        o        g   \n",
       "14414  upbow        u        p        b        o        w   \n",
       "...      ...      ...      ...      ...      ...      ...   \n",
       "6752   panes        p        a        n        e        s   \n",
       "6646   mares        m        a        r        e        s   \n",
       "6642   cares        c        a        r        e        s   \n",
       "6644   bares        b        a        r        e        s   \n",
       "6647   pares        p        a        r        e        s   \n",
       "\n",
       "       letter_1_positional_score  letter_1_general_score  \\\n",
       "10890                        330                    7455   \n",
       "11882                        330                    7455   \n",
       "11881                        352                    5212   \n",
       "14637                        217                    2927   \n",
       "14414                        217                    2927   \n",
       "...                          ...                     ...   \n",
       "6752                        1130                    2436   \n",
       "6646                         951                    2414   \n",
       "6642                         970                    2246   \n",
       "6644                        1003                    1849   \n",
       "6647                        1130                    2436   \n",
       "\n",
       "       letter_2_positional_score  letter_2_general_score  \\\n",
       "10890                        388                    3478   \n",
       "11882                        256                    3707   \n",
       "11881                        256                    3707   \n",
       "14637                        108                    2735   \n",
       "14414                        249                    2436   \n",
       "...                          ...                     ...   \n",
       "6752                        2682                    7128   \n",
       "6646                        2682                    7128   \n",
       "6642                        2682                    7128   \n",
       "6644                        2682                    7128   \n",
       "6647                        2682                    7128   \n",
       "\n",
       "       letter_3_positional_score  letter_3_general_score  \\\n",
       "10890                        165                     503   \n",
       "11882                        146                    1993   \n",
       "11881                        146                    1993   \n",
       "14637                        246                    2400   \n",
       "14414                        386                    1849   \n",
       "...                          ...                     ...   \n",
       "6752                        1119                    3478   \n",
       "6646                        1354                    4714   \n",
       "6642                        1354                    4714   \n",
       "6644                        1354                    4714   \n",
       "6647                        1354                    4714   \n",
       "\n",
       "       letter_4_positional_score  letter_4_general_score  \\\n",
       "10890                        124                    2400   \n",
       "11882                        124                    2400   \n",
       "11881                        124                    2400   \n",
       "14637                        827                    5212   \n",
       "14414                        827                    5212   \n",
       "...                          ...                     ...   \n",
       "6752                        2531                    7455   \n",
       "6646                        2531                    7455   \n",
       "6642                        2531                    7455   \n",
       "6644                        2531                    7455   \n",
       "6647                        2531                    7455   \n",
       "\n",
       "       letter_5_positional_score  letter_5_general_score  \\\n",
       "10890                        227                    2414   \n",
       "11882                        539                    3780   \n",
       "11881                        539                    3780   \n",
       "14637                        171                    1864   \n",
       "14414                         68                    1127   \n",
       "...                          ...                     ...   \n",
       "6752                        4339                    7319   \n",
       "6646                        4339                    7319   \n",
       "6642                        4339                    7319   \n",
       "6644                        4339                    7319   \n",
       "6647                        4339                    7319   \n",
       "\n",
       "       total_positional_letter_scores  total_general_letter_scores  \n",
       "10890                            1234                        16250  \n",
       "11882                            1395                        19335  \n",
       "11881                            1417                        17092  \n",
       "14637                            1569                        15138  \n",
       "14414                            1747                        13551  \n",
       "...                               ...                          ...  \n",
       "6752                            11801                        27816  \n",
       "6646                            11857                        29030  \n",
       "6642                            11876                        28862  \n",
       "6644                            11909                        28465  \n",
       "6647                            12036                        29052  \n",
       "\n",
       "[9365 rows x 18 columns]"
      ]
     },
     "execution_count": 77,
     "metadata": {},
     "output_type": "execute_result"
    }
   ],
   "source": [
    "words"
   ]
  },
  {
   "cell_type": "code",
   "execution_count": 78,
   "metadata": {},
   "outputs": [],
   "source": [
    "def get_number_of_guesses_using_letter_score_strategy(target_words, guess_words, game_count=1000):\n",
    "    max_guesses = 6\n",
    "\n",
    "    wordle = WordleInfinite()\n",
    "    num_guesses = []\n",
    "\n",
    "    for word_index in range(game_count):\n",
    "        wordle.create_new_game(target_words.iloc[word_index])\n",
    "\n",
    "        guess_score = [0, 0, 0, 0, 0]\n",
    "        words_matching_guess_mask = pd.Series(data=True, index=guess_words.index)\n",
    "\n",
    "        for i in range(max_guesses):\n",
    "            guess_word = guess_words[words_matching_guess_mask].iloc[0][\"words\"]\n",
    "            guess_score = wordle.make_guess(guess_word)\n",
    "\n",
    "            total_score = 0\n",
    "            for score in guess_score:\n",
    "                total_score += score\n",
    "\n",
    "            if total_score == 10:\n",
    "                # print(f\"Solved! The word '{guess_word}' was guessed after {i+1} attempts and the actual word was '{wordle.target_word}'\")\n",
    "                num_guesses.append(i+1)\n",
    "                break\n",
    "            elif i == 5:\n",
    "                num_guesses.append(7)\n",
    "                break\n",
    "\n",
    "            for letter_score, letter, letter_col in zip(guess_score, guess_word, letter_cols):\n",
    "                if letter_score == 2:\n",
    "                    mask = guess_words[letter_col] == letter\n",
    "                elif letter_score == 1:\n",
    "                    mask = pd.Series(data=False, index=guess_words.index)\n",
    "                    for letter_col_2 in letter_cols:\n",
    "                        if letter_col_2 != letter_col:\n",
    "                            iter_mask = guess_words[letter_col_2] == letter\n",
    "                            mask = mask | (iter_mask)\n",
    "                else:\n",
    "                    mask = pd.Series(data=True, index=guess_words.index)\n",
    "                    # if letter not in guess_word[:]\n",
    "                    for letter_col_2 in letter_cols:\n",
    "                        iter_mask = guess_words[letter_col_2] == letter\n",
    "                        mask = mask & (~iter_mask)\n",
    "\n",
    "                words_matching_guess_mask = words_matching_guess_mask & mask\n",
    "\n",
    "    return pd.Series(num_guesses)\n"
   ]
  },
  {
   "cell_type": "code",
   "execution_count": 79,
   "metadata": {},
   "outputs": [],
   "source": [
    "np.random.seed(10)\n",
    "target_words = words[\"words\"].sample(frac=1)"
   ]
  },
  {
   "cell_type": "code",
   "execution_count": 80,
   "metadata": {},
   "outputs": [
    {
     "data": {
      "text/plain": [
       "1086     bucko\n",
       "2907     swive\n",
       "6909     antes\n",
       "14096    polar\n",
       "4232     baldy\n",
       "         ...  \n",
       "1821     blate\n",
       "12296    saved\n",
       "1042     rubio\n",
       "10588    tehrs\n",
       "2435     amble\n",
       "Name: words, Length: 9365, dtype: object"
      ]
     },
     "execution_count": 80,
     "metadata": {},
     "output_type": "execute_result"
    }
   ],
   "source": [
    "target_words"
   ]
  },
  {
   "cell_type": "code",
   "execution_count": 81,
   "metadata": {},
   "outputs": [],
   "source": [
    "np.random.seed(10)\n",
    "random_order = get_number_of_guesses_using_letter_score_strategy(target_words, words.sample(frac=1))"
   ]
  },
  {
   "cell_type": "code",
   "execution_count": 82,
   "metadata": {},
   "outputs": [],
   "source": [
    "pos_score_ascending = get_number_of_guesses_using_letter_score_strategy(target_words, words.sort_values(\"total_positional_letter_scores\"))\n",
    "pos_score_descending = get_number_of_guesses_using_letter_score_strategy(target_words, words.sort_values(\"total_positional_letter_scores\", ascending=False))"
   ]
  },
  {
   "cell_type": "code",
   "execution_count": 83,
   "metadata": {},
   "outputs": [],
   "source": [
    "gen_score_ascending = get_number_of_guesses_using_letter_score_strategy(target_words, words.sort_values([\"total_general_letter_scores\", \"total_positional_letter_scores\"]))\n",
    "gen_score_descending = get_number_of_guesses_using_letter_score_strategy(target_words, words.sort_values([\"total_general_letter_scores\", \"total_positional_letter_scores\"], ascending=False))"
   ]
  },
  {
   "cell_type": "code",
   "execution_count": 84,
   "metadata": {},
   "outputs": [],
   "source": [
    "def get_counts_df(guesses_required, type_val):\n",
    "    guesses_required_count = guesses_required.value_counts()\n",
    "    guesses_required_count = guesses_required_count.reset_index()\n",
    "    guesses_required_count.columns = [\"number_guesses\", \"occurance_count\"]\n",
    "    guesses_required_count[\"type\"] = type_val\n",
    "    return guesses_required_count"
   ]
  },
  {
   "cell_type": "code",
   "execution_count": 85,
   "metadata": {},
   "outputs": [],
   "source": [
    "random_order_counts = get_counts_df(random_order, \"Random Ordering Of Words\")\n",
    "pos_score_ascending_counts = get_counts_df(pos_score_ascending, \"Positional Score Ascending\")\n",
    "pos_score_descending_counts = get_counts_df(pos_score_descending, \"Positional Score Descending\")\n",
    "gen_score_ascending_counts = get_counts_df(gen_score_ascending, \"Total Score Ascending\")\n",
    "gen_score_descending_counts = get_counts_df(gen_score_descending, \"Total Score Descending\")\n",
    "\n",
    "guess_required = pd.concat([random_order_counts, pos_score_ascending_counts, pos_score_descending_counts, gen_score_ascending_counts, gen_score_descending_counts])"
   ]
  },
  {
   "cell_type": "code",
   "execution_count": 86,
   "metadata": {},
   "outputs": [
    {
     "data": {
      "text/html": [
       "<div>\n",
       "<style scoped>\n",
       "    .dataframe tbody tr th:only-of-type {\n",
       "        vertical-align: middle;\n",
       "    }\n",
       "\n",
       "    .dataframe tbody tr th {\n",
       "        vertical-align: top;\n",
       "    }\n",
       "\n",
       "    .dataframe thead th {\n",
       "        text-align: right;\n",
       "    }\n",
       "</style>\n",
       "<table border=\"1\" class=\"dataframe\">\n",
       "  <thead>\n",
       "    <tr style=\"text-align: right;\">\n",
       "      <th></th>\n",
       "      <th>number_guesses</th>\n",
       "      <th>occurance_count</th>\n",
       "      <th>type</th>\n",
       "    </tr>\n",
       "  </thead>\n",
       "  <tbody>\n",
       "    <tr>\n",
       "      <th>0</th>\n",
       "      <td>4</td>\n",
       "      <td>440</td>\n",
       "      <td>Random Ordering Of Words</td>\n",
       "    </tr>\n",
       "    <tr>\n",
       "      <th>1</th>\n",
       "      <td>3</td>\n",
       "      <td>362</td>\n",
       "      <td>Random Ordering Of Words</td>\n",
       "    </tr>\n",
       "    <tr>\n",
       "      <th>2</th>\n",
       "      <td>5</td>\n",
       "      <td>118</td>\n",
       "      <td>Random Ordering Of Words</td>\n",
       "    </tr>\n",
       "    <tr>\n",
       "      <th>3</th>\n",
       "      <td>2</td>\n",
       "      <td>68</td>\n",
       "      <td>Random Ordering Of Words</td>\n",
       "    </tr>\n",
       "    <tr>\n",
       "      <th>4</th>\n",
       "      <td>6</td>\n",
       "      <td>10</td>\n",
       "      <td>Random Ordering Of Words</td>\n",
       "    </tr>\n",
       "    <tr>\n",
       "      <th>5</th>\n",
       "      <td>1</td>\n",
       "      <td>1</td>\n",
       "      <td>Random Ordering Of Words</td>\n",
       "    </tr>\n",
       "    <tr>\n",
       "      <th>6</th>\n",
       "      <td>7</td>\n",
       "      <td>1</td>\n",
       "      <td>Random Ordering Of Words</td>\n",
       "    </tr>\n",
       "    <tr>\n",
       "      <th>0</th>\n",
       "      <td>5</td>\n",
       "      <td>363</td>\n",
       "      <td>Positional Score Ascending</td>\n",
       "    </tr>\n",
       "    <tr>\n",
       "      <th>1</th>\n",
       "      <td>4</td>\n",
       "      <td>243</td>\n",
       "      <td>Positional Score Ascending</td>\n",
       "    </tr>\n",
       "    <tr>\n",
       "      <th>2</th>\n",
       "      <td>6</td>\n",
       "      <td>199</td>\n",
       "      <td>Positional Score Ascending</td>\n",
       "    </tr>\n",
       "    <tr>\n",
       "      <th>3</th>\n",
       "      <td>7</td>\n",
       "      <td>110</td>\n",
       "      <td>Positional Score Ascending</td>\n",
       "    </tr>\n",
       "    <tr>\n",
       "      <th>4</th>\n",
       "      <td>3</td>\n",
       "      <td>78</td>\n",
       "      <td>Positional Score Ascending</td>\n",
       "    </tr>\n",
       "    <tr>\n",
       "      <th>5</th>\n",
       "      <td>2</td>\n",
       "      <td>7</td>\n",
       "      <td>Positional Score Ascending</td>\n",
       "    </tr>\n",
       "    <tr>\n",
       "      <th>0</th>\n",
       "      <td>4</td>\n",
       "      <td>372</td>\n",
       "      <td>Positional Score Descending</td>\n",
       "    </tr>\n",
       "    <tr>\n",
       "      <th>1</th>\n",
       "      <td>5</td>\n",
       "      <td>249</td>\n",
       "      <td>Positional Score Descending</td>\n",
       "    </tr>\n",
       "    <tr>\n",
       "      <th>2</th>\n",
       "      <td>3</td>\n",
       "      <td>178</td>\n",
       "      <td>Positional Score Descending</td>\n",
       "    </tr>\n",
       "    <tr>\n",
       "      <th>3</th>\n",
       "      <td>6</td>\n",
       "      <td>96</td>\n",
       "      <td>Positional Score Descending</td>\n",
       "    </tr>\n",
       "    <tr>\n",
       "      <th>4</th>\n",
       "      <td>7</td>\n",
       "      <td>83</td>\n",
       "      <td>Positional Score Descending</td>\n",
       "    </tr>\n",
       "    <tr>\n",
       "      <th>5</th>\n",
       "      <td>2</td>\n",
       "      <td>22</td>\n",
       "      <td>Positional Score Descending</td>\n",
       "    </tr>\n",
       "    <tr>\n",
       "      <th>0</th>\n",
       "      <td>5</td>\n",
       "      <td>333</td>\n",
       "      <td>Total Score Ascending</td>\n",
       "    </tr>\n",
       "    <tr>\n",
       "      <th>1</th>\n",
       "      <td>6</td>\n",
       "      <td>258</td>\n",
       "      <td>Total Score Ascending</td>\n",
       "    </tr>\n",
       "    <tr>\n",
       "      <th>2</th>\n",
       "      <td>4</td>\n",
       "      <td>225</td>\n",
       "      <td>Total Score Ascending</td>\n",
       "    </tr>\n",
       "    <tr>\n",
       "      <th>3</th>\n",
       "      <td>7</td>\n",
       "      <td>98</td>\n",
       "      <td>Total Score Ascending</td>\n",
       "    </tr>\n",
       "    <tr>\n",
       "      <th>4</th>\n",
       "      <td>3</td>\n",
       "      <td>80</td>\n",
       "      <td>Total Score Ascending</td>\n",
       "    </tr>\n",
       "    <tr>\n",
       "      <th>5</th>\n",
       "      <td>2</td>\n",
       "      <td>6</td>\n",
       "      <td>Total Score Ascending</td>\n",
       "    </tr>\n",
       "    <tr>\n",
       "      <th>0</th>\n",
       "      <td>4</td>\n",
       "      <td>352</td>\n",
       "      <td>Total Score Descending</td>\n",
       "    </tr>\n",
       "    <tr>\n",
       "      <th>1</th>\n",
       "      <td>5</td>\n",
       "      <td>243</td>\n",
       "      <td>Total Score Descending</td>\n",
       "    </tr>\n",
       "    <tr>\n",
       "      <th>2</th>\n",
       "      <td>3</td>\n",
       "      <td>177</td>\n",
       "      <td>Total Score Descending</td>\n",
       "    </tr>\n",
       "    <tr>\n",
       "      <th>3</th>\n",
       "      <td>7</td>\n",
       "      <td>117</td>\n",
       "      <td>Total Score Descending</td>\n",
       "    </tr>\n",
       "    <tr>\n",
       "      <th>4</th>\n",
       "      <td>6</td>\n",
       "      <td>93</td>\n",
       "      <td>Total Score Descending</td>\n",
       "    </tr>\n",
       "    <tr>\n",
       "      <th>5</th>\n",
       "      <td>2</td>\n",
       "      <td>18</td>\n",
       "      <td>Total Score Descending</td>\n",
       "    </tr>\n",
       "  </tbody>\n",
       "</table>\n",
       "</div>"
      ],
      "text/plain": [
       "   number_guesses  occurance_count                         type\n",
       "0               4              440     Random Ordering Of Words\n",
       "1               3              362     Random Ordering Of Words\n",
       "2               5              118     Random Ordering Of Words\n",
       "3               2               68     Random Ordering Of Words\n",
       "4               6               10     Random Ordering Of Words\n",
       "5               1                1     Random Ordering Of Words\n",
       "6               7                1     Random Ordering Of Words\n",
       "0               5              363   Positional Score Ascending\n",
       "1               4              243   Positional Score Ascending\n",
       "2               6              199   Positional Score Ascending\n",
       "3               7              110   Positional Score Ascending\n",
       "4               3               78   Positional Score Ascending\n",
       "5               2                7   Positional Score Ascending\n",
       "0               4              372  Positional Score Descending\n",
       "1               5              249  Positional Score Descending\n",
       "2               3              178  Positional Score Descending\n",
       "3               6               96  Positional Score Descending\n",
       "4               7               83  Positional Score Descending\n",
       "5               2               22  Positional Score Descending\n",
       "0               5              333        Total Score Ascending\n",
       "1               6              258        Total Score Ascending\n",
       "2               4              225        Total Score Ascending\n",
       "3               7               98        Total Score Ascending\n",
       "4               3               80        Total Score Ascending\n",
       "5               2                6        Total Score Ascending\n",
       "0               4              352       Total Score Descending\n",
       "1               5              243       Total Score Descending\n",
       "2               3              177       Total Score Descending\n",
       "3               7              117       Total Score Descending\n",
       "4               6               93       Total Score Descending\n",
       "5               2               18       Total Score Descending"
      ]
     },
     "execution_count": 86,
     "metadata": {},
     "output_type": "execute_result"
    }
   ],
   "source": [
    "guess_required"
   ]
  },
  {
   "cell_type": "code",
   "execution_count": 87,
   "metadata": {},
   "outputs": [
    {
     "data": {
      "application/vnd.plotly.v1+json": {
       "config": {
        "plotlyServerURL": "https://plot.ly"
       },
       "data": [
        {
         "alignmentgroup": "True",
         "hovertemplate": "type=Random Ordering Of Words<br>number_guesses=%{x}<br>occurance_count=%{y}<extra></extra>",
         "legendgroup": "Random Ordering Of Words",
         "marker": {
          "color": "#636efa",
          "pattern": {
           "shape": ""
          }
         },
         "name": "Random Ordering Of Words",
         "offsetgroup": "Random Ordering Of Words",
         "orientation": "v",
         "showlegend": true,
         "textposition": "auto",
         "type": "bar",
         "x": [
          4,
          3,
          5,
          2,
          6,
          1,
          7
         ],
         "xaxis": "x",
         "y": [
          440,
          362,
          118,
          68,
          10,
          1,
          1
         ],
         "yaxis": "y"
        },
        {
         "alignmentgroup": "True",
         "hovertemplate": "type=Positional Score Ascending<br>number_guesses=%{x}<br>occurance_count=%{y}<extra></extra>",
         "legendgroup": "Positional Score Ascending",
         "marker": {
          "color": "#EF553B",
          "pattern": {
           "shape": ""
          }
         },
         "name": "Positional Score Ascending",
         "offsetgroup": "Positional Score Ascending",
         "orientation": "v",
         "showlegend": true,
         "textposition": "auto",
         "type": "bar",
         "x": [
          5,
          4,
          6,
          7,
          3,
          2
         ],
         "xaxis": "x",
         "y": [
          363,
          243,
          199,
          110,
          78,
          7
         ],
         "yaxis": "y"
        },
        {
         "alignmentgroup": "True",
         "hovertemplate": "type=Positional Score Descending<br>number_guesses=%{x}<br>occurance_count=%{y}<extra></extra>",
         "legendgroup": "Positional Score Descending",
         "marker": {
          "color": "#00cc96",
          "pattern": {
           "shape": ""
          }
         },
         "name": "Positional Score Descending",
         "offsetgroup": "Positional Score Descending",
         "orientation": "v",
         "showlegend": true,
         "textposition": "auto",
         "type": "bar",
         "x": [
          4,
          5,
          3,
          6,
          7,
          2
         ],
         "xaxis": "x",
         "y": [
          372,
          249,
          178,
          96,
          83,
          22
         ],
         "yaxis": "y"
        },
        {
         "alignmentgroup": "True",
         "hovertemplate": "type=Total Score Ascending<br>number_guesses=%{x}<br>occurance_count=%{y}<extra></extra>",
         "legendgroup": "Total Score Ascending",
         "marker": {
          "color": "#ab63fa",
          "pattern": {
           "shape": ""
          }
         },
         "name": "Total Score Ascending",
         "offsetgroup": "Total Score Ascending",
         "orientation": "v",
         "showlegend": true,
         "textposition": "auto",
         "type": "bar",
         "x": [
          5,
          6,
          4,
          7,
          3,
          2
         ],
         "xaxis": "x",
         "y": [
          333,
          258,
          225,
          98,
          80,
          6
         ],
         "yaxis": "y"
        },
        {
         "alignmentgroup": "True",
         "hovertemplate": "type=Total Score Descending<br>number_guesses=%{x}<br>occurance_count=%{y}<extra></extra>",
         "legendgroup": "Total Score Descending",
         "marker": {
          "color": "#FFA15A",
          "pattern": {
           "shape": ""
          }
         },
         "name": "Total Score Descending",
         "offsetgroup": "Total Score Descending",
         "orientation": "v",
         "showlegend": true,
         "textposition": "auto",
         "type": "bar",
         "x": [
          4,
          5,
          3,
          7,
          6,
          2
         ],
         "xaxis": "x",
         "y": [
          352,
          243,
          177,
          117,
          93,
          18
         ],
         "yaxis": "y"
        }
       ],
       "layout": {
        "barmode": "group",
        "legend": {
         "title": {
          "text": "type"
         },
         "tracegroupgap": 0
        },
        "margin": {
         "t": 60
        },
        "template": {
         "data": {
          "bar": [
           {
            "error_x": {
             "color": "#2a3f5f"
            },
            "error_y": {
             "color": "#2a3f5f"
            },
            "marker": {
             "line": {
              "color": "#E5ECF6",
              "width": 0.5
             },
             "pattern": {
              "fillmode": "overlay",
              "size": 10,
              "solidity": 0.2
             }
            },
            "type": "bar"
           }
          ],
          "barpolar": [
           {
            "marker": {
             "line": {
              "color": "#E5ECF6",
              "width": 0.5
             },
             "pattern": {
              "fillmode": "overlay",
              "size": 10,
              "solidity": 0.2
             }
            },
            "type": "barpolar"
           }
          ],
          "carpet": [
           {
            "aaxis": {
             "endlinecolor": "#2a3f5f",
             "gridcolor": "white",
             "linecolor": "white",
             "minorgridcolor": "white",
             "startlinecolor": "#2a3f5f"
            },
            "baxis": {
             "endlinecolor": "#2a3f5f",
             "gridcolor": "white",
             "linecolor": "white",
             "minorgridcolor": "white",
             "startlinecolor": "#2a3f5f"
            },
            "type": "carpet"
           }
          ],
          "choropleth": [
           {
            "colorbar": {
             "outlinewidth": 0,
             "ticks": ""
            },
            "type": "choropleth"
           }
          ],
          "contour": [
           {
            "colorbar": {
             "outlinewidth": 0,
             "ticks": ""
            },
            "colorscale": [
             [
              0,
              "#0d0887"
             ],
             [
              0.1111111111111111,
              "#46039f"
             ],
             [
              0.2222222222222222,
              "#7201a8"
             ],
             [
              0.3333333333333333,
              "#9c179e"
             ],
             [
              0.4444444444444444,
              "#bd3786"
             ],
             [
              0.5555555555555556,
              "#d8576b"
             ],
             [
              0.6666666666666666,
              "#ed7953"
             ],
             [
              0.7777777777777778,
              "#fb9f3a"
             ],
             [
              0.8888888888888888,
              "#fdca26"
             ],
             [
              1,
              "#f0f921"
             ]
            ],
            "type": "contour"
           }
          ],
          "contourcarpet": [
           {
            "colorbar": {
             "outlinewidth": 0,
             "ticks": ""
            },
            "type": "contourcarpet"
           }
          ],
          "heatmap": [
           {
            "colorbar": {
             "outlinewidth": 0,
             "ticks": ""
            },
            "colorscale": [
             [
              0,
              "#0d0887"
             ],
             [
              0.1111111111111111,
              "#46039f"
             ],
             [
              0.2222222222222222,
              "#7201a8"
             ],
             [
              0.3333333333333333,
              "#9c179e"
             ],
             [
              0.4444444444444444,
              "#bd3786"
             ],
             [
              0.5555555555555556,
              "#d8576b"
             ],
             [
              0.6666666666666666,
              "#ed7953"
             ],
             [
              0.7777777777777778,
              "#fb9f3a"
             ],
             [
              0.8888888888888888,
              "#fdca26"
             ],
             [
              1,
              "#f0f921"
             ]
            ],
            "type": "heatmap"
           }
          ],
          "heatmapgl": [
           {
            "colorbar": {
             "outlinewidth": 0,
             "ticks": ""
            },
            "colorscale": [
             [
              0,
              "#0d0887"
             ],
             [
              0.1111111111111111,
              "#46039f"
             ],
             [
              0.2222222222222222,
              "#7201a8"
             ],
             [
              0.3333333333333333,
              "#9c179e"
             ],
             [
              0.4444444444444444,
              "#bd3786"
             ],
             [
              0.5555555555555556,
              "#d8576b"
             ],
             [
              0.6666666666666666,
              "#ed7953"
             ],
             [
              0.7777777777777778,
              "#fb9f3a"
             ],
             [
              0.8888888888888888,
              "#fdca26"
             ],
             [
              1,
              "#f0f921"
             ]
            ],
            "type": "heatmapgl"
           }
          ],
          "histogram": [
           {
            "marker": {
             "pattern": {
              "fillmode": "overlay",
              "size": 10,
              "solidity": 0.2
             }
            },
            "type": "histogram"
           }
          ],
          "histogram2d": [
           {
            "colorbar": {
             "outlinewidth": 0,
             "ticks": ""
            },
            "colorscale": [
             [
              0,
              "#0d0887"
             ],
             [
              0.1111111111111111,
              "#46039f"
             ],
             [
              0.2222222222222222,
              "#7201a8"
             ],
             [
              0.3333333333333333,
              "#9c179e"
             ],
             [
              0.4444444444444444,
              "#bd3786"
             ],
             [
              0.5555555555555556,
              "#d8576b"
             ],
             [
              0.6666666666666666,
              "#ed7953"
             ],
             [
              0.7777777777777778,
              "#fb9f3a"
             ],
             [
              0.8888888888888888,
              "#fdca26"
             ],
             [
              1,
              "#f0f921"
             ]
            ],
            "type": "histogram2d"
           }
          ],
          "histogram2dcontour": [
           {
            "colorbar": {
             "outlinewidth": 0,
             "ticks": ""
            },
            "colorscale": [
             [
              0,
              "#0d0887"
             ],
             [
              0.1111111111111111,
              "#46039f"
             ],
             [
              0.2222222222222222,
              "#7201a8"
             ],
             [
              0.3333333333333333,
              "#9c179e"
             ],
             [
              0.4444444444444444,
              "#bd3786"
             ],
             [
              0.5555555555555556,
              "#d8576b"
             ],
             [
              0.6666666666666666,
              "#ed7953"
             ],
             [
              0.7777777777777778,
              "#fb9f3a"
             ],
             [
              0.8888888888888888,
              "#fdca26"
             ],
             [
              1,
              "#f0f921"
             ]
            ],
            "type": "histogram2dcontour"
           }
          ],
          "mesh3d": [
           {
            "colorbar": {
             "outlinewidth": 0,
             "ticks": ""
            },
            "type": "mesh3d"
           }
          ],
          "parcoords": [
           {
            "line": {
             "colorbar": {
              "outlinewidth": 0,
              "ticks": ""
             }
            },
            "type": "parcoords"
           }
          ],
          "pie": [
           {
            "automargin": true,
            "type": "pie"
           }
          ],
          "scatter": [
           {
            "fillpattern": {
             "fillmode": "overlay",
             "size": 10,
             "solidity": 0.2
            },
            "type": "scatter"
           }
          ],
          "scatter3d": [
           {
            "line": {
             "colorbar": {
              "outlinewidth": 0,
              "ticks": ""
             }
            },
            "marker": {
             "colorbar": {
              "outlinewidth": 0,
              "ticks": ""
             }
            },
            "type": "scatter3d"
           }
          ],
          "scattercarpet": [
           {
            "marker": {
             "colorbar": {
              "outlinewidth": 0,
              "ticks": ""
             }
            },
            "type": "scattercarpet"
           }
          ],
          "scattergeo": [
           {
            "marker": {
             "colorbar": {
              "outlinewidth": 0,
              "ticks": ""
             }
            },
            "type": "scattergeo"
           }
          ],
          "scattergl": [
           {
            "marker": {
             "colorbar": {
              "outlinewidth": 0,
              "ticks": ""
             }
            },
            "type": "scattergl"
           }
          ],
          "scattermapbox": [
           {
            "marker": {
             "colorbar": {
              "outlinewidth": 0,
              "ticks": ""
             }
            },
            "type": "scattermapbox"
           }
          ],
          "scatterpolar": [
           {
            "marker": {
             "colorbar": {
              "outlinewidth": 0,
              "ticks": ""
             }
            },
            "type": "scatterpolar"
           }
          ],
          "scatterpolargl": [
           {
            "marker": {
             "colorbar": {
              "outlinewidth": 0,
              "ticks": ""
             }
            },
            "type": "scatterpolargl"
           }
          ],
          "scatterternary": [
           {
            "marker": {
             "colorbar": {
              "outlinewidth": 0,
              "ticks": ""
             }
            },
            "type": "scatterternary"
           }
          ],
          "surface": [
           {
            "colorbar": {
             "outlinewidth": 0,
             "ticks": ""
            },
            "colorscale": [
             [
              0,
              "#0d0887"
             ],
             [
              0.1111111111111111,
              "#46039f"
             ],
             [
              0.2222222222222222,
              "#7201a8"
             ],
             [
              0.3333333333333333,
              "#9c179e"
             ],
             [
              0.4444444444444444,
              "#bd3786"
             ],
             [
              0.5555555555555556,
              "#d8576b"
             ],
             [
              0.6666666666666666,
              "#ed7953"
             ],
             [
              0.7777777777777778,
              "#fb9f3a"
             ],
             [
              0.8888888888888888,
              "#fdca26"
             ],
             [
              1,
              "#f0f921"
             ]
            ],
            "type": "surface"
           }
          ],
          "table": [
           {
            "cells": {
             "fill": {
              "color": "#EBF0F8"
             },
             "line": {
              "color": "white"
             }
            },
            "header": {
             "fill": {
              "color": "#C8D4E3"
             },
             "line": {
              "color": "white"
             }
            },
            "type": "table"
           }
          ]
         },
         "layout": {
          "annotationdefaults": {
           "arrowcolor": "#2a3f5f",
           "arrowhead": 0,
           "arrowwidth": 1
          },
          "autotypenumbers": "strict",
          "coloraxis": {
           "colorbar": {
            "outlinewidth": 0,
            "ticks": ""
           }
          },
          "colorscale": {
           "diverging": [
            [
             0,
             "#8e0152"
            ],
            [
             0.1,
             "#c51b7d"
            ],
            [
             0.2,
             "#de77ae"
            ],
            [
             0.3,
             "#f1b6da"
            ],
            [
             0.4,
             "#fde0ef"
            ],
            [
             0.5,
             "#f7f7f7"
            ],
            [
             0.6,
             "#e6f5d0"
            ],
            [
             0.7,
             "#b8e186"
            ],
            [
             0.8,
             "#7fbc41"
            ],
            [
             0.9,
             "#4d9221"
            ],
            [
             1,
             "#276419"
            ]
           ],
           "sequential": [
            [
             0,
             "#0d0887"
            ],
            [
             0.1111111111111111,
             "#46039f"
            ],
            [
             0.2222222222222222,
             "#7201a8"
            ],
            [
             0.3333333333333333,
             "#9c179e"
            ],
            [
             0.4444444444444444,
             "#bd3786"
            ],
            [
             0.5555555555555556,
             "#d8576b"
            ],
            [
             0.6666666666666666,
             "#ed7953"
            ],
            [
             0.7777777777777778,
             "#fb9f3a"
            ],
            [
             0.8888888888888888,
             "#fdca26"
            ],
            [
             1,
             "#f0f921"
            ]
           ],
           "sequentialminus": [
            [
             0,
             "#0d0887"
            ],
            [
             0.1111111111111111,
             "#46039f"
            ],
            [
             0.2222222222222222,
             "#7201a8"
            ],
            [
             0.3333333333333333,
             "#9c179e"
            ],
            [
             0.4444444444444444,
             "#bd3786"
            ],
            [
             0.5555555555555556,
             "#d8576b"
            ],
            [
             0.6666666666666666,
             "#ed7953"
            ],
            [
             0.7777777777777778,
             "#fb9f3a"
            ],
            [
             0.8888888888888888,
             "#fdca26"
            ],
            [
             1,
             "#f0f921"
            ]
           ]
          },
          "colorway": [
           "#636efa",
           "#EF553B",
           "#00cc96",
           "#ab63fa",
           "#FFA15A",
           "#19d3f3",
           "#FF6692",
           "#B6E880",
           "#FF97FF",
           "#FECB52"
          ],
          "font": {
           "color": "#2a3f5f"
          },
          "geo": {
           "bgcolor": "white",
           "lakecolor": "white",
           "landcolor": "#E5ECF6",
           "showlakes": true,
           "showland": true,
           "subunitcolor": "white"
          },
          "hoverlabel": {
           "align": "left"
          },
          "hovermode": "closest",
          "mapbox": {
           "style": "light"
          },
          "paper_bgcolor": "white",
          "plot_bgcolor": "#E5ECF6",
          "polar": {
           "angularaxis": {
            "gridcolor": "white",
            "linecolor": "white",
            "ticks": ""
           },
           "bgcolor": "#E5ECF6",
           "radialaxis": {
            "gridcolor": "white",
            "linecolor": "white",
            "ticks": ""
           }
          },
          "scene": {
           "xaxis": {
            "backgroundcolor": "#E5ECF6",
            "gridcolor": "white",
            "gridwidth": 2,
            "linecolor": "white",
            "showbackground": true,
            "ticks": "",
            "zerolinecolor": "white"
           },
           "yaxis": {
            "backgroundcolor": "#E5ECF6",
            "gridcolor": "white",
            "gridwidth": 2,
            "linecolor": "white",
            "showbackground": true,
            "ticks": "",
            "zerolinecolor": "white"
           },
           "zaxis": {
            "backgroundcolor": "#E5ECF6",
            "gridcolor": "white",
            "gridwidth": 2,
            "linecolor": "white",
            "showbackground": true,
            "ticks": "",
            "zerolinecolor": "white"
           }
          },
          "shapedefaults": {
           "line": {
            "color": "#2a3f5f"
           }
          },
          "ternary": {
           "aaxis": {
            "gridcolor": "white",
            "linecolor": "white",
            "ticks": ""
           },
           "baxis": {
            "gridcolor": "white",
            "linecolor": "white",
            "ticks": ""
           },
           "bgcolor": "#E5ECF6",
           "caxis": {
            "gridcolor": "white",
            "linecolor": "white",
            "ticks": ""
           }
          },
          "title": {
           "x": 0.05
          },
          "xaxis": {
           "automargin": true,
           "gridcolor": "white",
           "linecolor": "white",
           "ticks": "",
           "title": {
            "standoff": 15
           },
           "zerolinecolor": "white",
           "zerolinewidth": 2
          },
          "yaxis": {
           "automargin": true,
           "gridcolor": "white",
           "linecolor": "white",
           "ticks": "",
           "title": {
            "standoff": 15
           },
           "zerolinecolor": "white",
           "zerolinewidth": 2
          }
         }
        },
        "xaxis": {
         "anchor": "y",
         "domain": [
          0,
          1
         ],
         "title": {
          "text": "number_guesses"
         }
        },
        "yaxis": {
         "anchor": "x",
         "domain": [
          0,
          1
         ],
         "title": {
          "text": "occurance_count"
         }
        }
       }
      }
     },
     "metadata": {},
     "output_type": "display_data"
    }
   ],
   "source": [
    "px.bar(guess_required, x=\"number_guesses\", y=\"occurance_count\", color=\"type\", barmode=\"group\")"
   ]
  },
  {
   "cell_type": "code",
   "execution_count": null,
   "metadata": {},
   "outputs": [],
   "source": []
  }
 ],
 "metadata": {
  "kernelspec": {
   "display_name": "wordle",
   "language": "python",
   "name": "python3"
  },
  "language_info": {
   "codemirror_mode": {
    "name": "ipython",
    "version": 3
   },
   "file_extension": ".py",
   "mimetype": "text/x-python",
   "name": "python",
   "nbconvert_exporter": "python",
   "pygments_lexer": "ipython3",
   "version": "3.11.7"
  }
 },
 "nbformat": 4,
 "nbformat_minor": 2
}
